{
  "metadata": {
    "kernelspec": {
      "language": "python",
      "display_name": "Python 3",
      "name": "python3"
    },
    "language_info": {
      "name": "python",
      "version": "3.7.10",
      "mimetype": "text/x-python",
      "codemirror_mode": {
        "name": "ipython",
        "version": 3
      },
      "pygments_lexer": "ipython3",
      "nbconvert_exporter": "python",
      "file_extension": ".py"
    },
    "colab": {
      "provenance": []
    }
  },
  "nbformat_minor": 0,
  "nbformat": 4,
  "cells": [
    {
      "cell_type": "code",
      "source": [
        "import numpy as np \n",
        "import pandas as pd\n",
        "import os\n",
        "import random\n",
        "import matplotlib.pyplot as plt\n",
        "import matplotlib.image as mpimg\n",
        "from collections import Counter\n",
        "import cv2\n",
        "\n",
        "# from tensorflow.python.keras.applications.vgg16 import VGG16, preprocess_input\n",
        "# from tensorflow.python.keras.applications.resnet import ResNet50, preprocess_input \n",
        "from tensorflow.keras.applications.mobilenet_v2 import MobileNetV2, preprocess_input \n",
        "# from tensorflow.python.keras.applications.efficientnet import EfficientNetB6, preprocess_input \n",
        "\n",
        "from tensorflow.keras.preprocessing.image import ImageDataGenerator\n",
        "from tensorflow.keras.callbacks import EarlyStopping, ReduceLROnPlateau\n",
        "\n",
        "\n",
        "from tensorflow.keras.models import Model\n",
        "from tensorflow.keras.layers import Dense, Flatten, Dropout, Input"
      ],
      "metadata": {
        "_uuid": "8f2839f25d086af736a60e9eeb907d3b93b6e0e5",
        "_cell_guid": "b1076dfc-b9ad-4769-8c92-a6c4dae69d19",
        "execution": {
          "iopub.status.busy": "2022-08-04T08:47:55.154107Z",
          "iopub.execute_input": "2022-08-04T08:47:55.154450Z",
          "iopub.status.idle": "2022-08-04T08:47:55.162642Z",
          "shell.execute_reply.started": "2022-08-04T08:47:55.154413Z",
          "shell.execute_reply": "2022-08-04T08:47:55.161841Z"
        },
        "trusted": true,
        "id": "TWKfdKnVccXx"
      },
      "execution_count": null,
      "outputs": []
    },
    {
      "cell_type": "code",
      "source": [
        "from google.colab import drive\n",
        "drive.mount('/content/drive')"
      ],
      "metadata": {
        "colab": {
          "base_uri": "https://localhost:8080/"
        },
        "id": "d4xAiOnwcdoE",
        "outputId": "9f0434cd-d7c8-4446-bc2c-c606b5b250ff"
      },
      "execution_count": null,
      "outputs": [
        {
          "output_type": "stream",
          "name": "stdout",
          "text": [
            "Mounted at /content/drive\n"
          ]
        }
      ]
    },
    {
      "cell_type": "markdown",
      "source": [
        "### Define the folder paths"
      ],
      "metadata": {
        "id": "_LeHSjQ5ccX2"
      }
    },
    {
      "cell_type": "code",
      "source": [
        "base_dir = \"/content/drive/My Drive/Seed_dataset\"\n",
        "\n",
        "train_dir = os.path.join(base_dir,'train')\n",
        "val_dir = os.path.join(base_dir,'val')\n",
        "test_dir = os.path.join(base_dir, 'test')"
      ],
      "metadata": {
        "execution": {
          "iopub.status.busy": "2022-08-04T08:48:01.140474Z",
          "iopub.execute_input": "2022-08-04T08:48:01.140796Z",
          "iopub.status.idle": "2022-08-04T08:48:01.145777Z",
          "shell.execute_reply.started": "2022-08-04T08:48:01.140765Z",
          "shell.execute_reply": "2022-08-04T08:48:01.144389Z"
        },
        "trusted": true,
        "id": "EJPXZ30PccX6"
      },
      "execution_count": null,
      "outputs": []
    },
    {
      "cell_type": "markdown",
      "source": [
        "### Check the distribution of the various classes for train, test and validation datasets"
      ],
      "metadata": {
        "id": "xGI9sKTjccX7"
      }
    },
    {
      "cell_type": "code",
      "source": [
        "def show_distribution(folder):\n",
        "    \n",
        "    datagen = ImageDataGenerator()\n",
        "    generator = datagen.flow_from_directory(folder)\n",
        "\n",
        "    counter = Counter(generator.classes)                          \n",
        "    total_images = sum(counter.values())\n",
        "    distribution = [(class_id,round(num_images / total_images * 100,2)) for class_id, num_images in counter.items()]\n",
        "\n",
        "    for class_id, percentage in distribution:\n",
        "        print(class_id, percentage)\n"
      ],
      "metadata": {
        "execution": {
          "iopub.status.busy": "2022-08-04T08:48:45.530006Z",
          "iopub.execute_input": "2022-08-04T08:48:45.530380Z",
          "iopub.status.idle": "2022-08-04T08:48:45.535813Z",
          "shell.execute_reply.started": "2022-08-04T08:48:45.530347Z",
          "shell.execute_reply": "2022-08-04T08:48:45.534945Z"
        },
        "trusted": true,
        "id": "zUbUIkojccX8"
      },
      "execution_count": null,
      "outputs": []
    },
    {
      "cell_type": "code",
      "source": [
        "print(\"The distribution for the training data is :\\n\")\n",
        "show_distribution(train_dir)"
      ],
      "metadata": {
        "execution": {
          "iopub.status.busy": "2022-08-04T08:48:48.010004Z",
          "iopub.execute_input": "2022-08-04T08:48:48.010379Z",
          "iopub.status.idle": "2022-08-04T08:48:48.125111Z",
          "shell.execute_reply.started": "2022-08-04T08:48:48.010341Z",
          "shell.execute_reply": "2022-08-04T08:48:48.124150Z"
        },
        "trusted": true,
        "colab": {
          "base_uri": "https://localhost:8080/"
        },
        "id": "Ft3_sIKEccX-",
        "outputId": "89b97bbd-dcf7-441c-ce5f-738856f642b7"
      },
      "execution_count": null,
      "outputs": [
        {
          "output_type": "stream",
          "name": "stdout",
          "text": [
            "The distribution for the training data is :\n",
            "\n",
            "Found 1287 images belonging to 6 classes.\n",
            "0 13.99\n",
            "1 21.13\n",
            "2 16.16\n",
            "3 25.49\n",
            "4 11.34\n",
            "5 11.89\n"
          ]
        }
      ]
    },
    {
      "cell_type": "code",
      "source": [
        "print(\"The distribution for the validation data is :\\n\")\n",
        "show_distribution(val_dir)"
      ],
      "metadata": {
        "execution": {
          "iopub.status.busy": "2022-08-04T08:49:01.926031Z",
          "iopub.execute_input": "2022-08-04T08:49:01.926421Z",
          "iopub.status.idle": "2022-08-04T08:49:02.041542Z",
          "shell.execute_reply.started": "2022-08-04T08:49:01.926388Z",
          "shell.execute_reply": "2022-08-04T08:49:02.040581Z"
        },
        "trusted": true,
        "colab": {
          "base_uri": "https://localhost:8080/"
        },
        "id": "AOtg4LT5ccX-",
        "outputId": "a0ee4cb5-dc66-44b1-8eea-5369d3e6e447"
      },
      "execution_count": null,
      "outputs": [
        {
          "output_type": "stream",
          "name": "stdout",
          "text": [
            "The distribution for the validation data is :\n",
            "\n",
            "Found 389 images belonging to 6 classes.\n",
            "0 14.65\n",
            "1 23.14\n",
            "2 14.91\n",
            "3 25.19\n",
            "4 11.31\n",
            "5 10.8\n"
          ]
        }
      ]
    },
    {
      "cell_type": "code",
      "source": [
        "print(\"The distribution for the test data is :\\n\")\n",
        "show_distribution(test_dir)"
      ],
      "metadata": {
        "execution": {
          "iopub.status.busy": "2022-08-04T08:49:05.299624Z",
          "iopub.execute_input": "2022-08-04T08:49:05.299952Z",
          "iopub.status.idle": "2022-08-04T08:49:05.415296Z",
          "shell.execute_reply.started": "2022-08-04T08:49:05.299921Z",
          "shell.execute_reply": "2022-08-04T08:49:05.414334Z"
        },
        "trusted": true,
        "colab": {
          "base_uri": "https://localhost:8080/"
        },
        "id": "TN3amX1MccX_",
        "outputId": "2de29057-7a93-4305-c20e-ce6c5ff7d3d9"
      },
      "execution_count": null,
      "outputs": [
        {
          "output_type": "stream",
          "name": "stdout",
          "text": [
            "The distribution for the test data is :\n",
            "\n",
            "Found 412 images belonging to 6 classes.\n",
            "0 14.56\n",
            "1 21.84\n",
            "2 16.5\n",
            "3 24.27\n",
            "4 11.17\n",
            "5 11.65\n"
          ]
        }
      ]
    },
    {
      "cell_type": "markdown",
      "source": [
        "### Dealing with imbalanced classes\n",
        "\n",
        "We can see that the distributions are not balanced. Hence we would need to use ways to work with imbalanced data while training the model. One option is to use **\"class_weights\"**\n",
        "\n",
        "Let us calculate the appropriate class weights"
      ],
      "metadata": {
        "id": "1L-o3NwSccYA"
      }
    },
    {
      "cell_type": "code",
      "source": [
        "train_datagen = ImageDataGenerator()\n",
        "train_generator = train_datagen.flow_from_directory(train_dir)\n",
        "\n",
        "counter = Counter(train_generator.classes)                          \n",
        "max_val = float(max(counter.values()))       \n",
        "class_weights = {class_id : max_val/num_images for class_id, num_images in counter.items()}   \n",
        "print(\"\\nThe class weights are : \\n\\n\", class_weights)"
      ],
      "metadata": {
        "execution": {
          "iopub.status.busy": "2022-08-04T08:49:12.575185Z",
          "iopub.execute_input": "2022-08-04T08:49:12.575530Z",
          "iopub.status.idle": "2022-08-04T08:49:12.688786Z",
          "shell.execute_reply.started": "2022-08-04T08:49:12.575499Z",
          "shell.execute_reply": "2022-08-04T08:49:12.687921Z"
        },
        "trusted": true,
        "colab": {
          "base_uri": "https://localhost:8080/"
        },
        "id": "5OCWjbdfccYB",
        "outputId": "3b2772a8-0e28-406d-f758-a3d07a362d21"
      },
      "execution_count": null,
      "outputs": [
        {
          "output_type": "stream",
          "name": "stdout",
          "text": [
            "Found 1287 images belonging to 6 classes.\n",
            "\n",
            "The class weights are : \n",
            "\n",
            " {0: 1.8222222222222222, 1: 1.2058823529411764, 2: 1.5769230769230769, 3: 1.0, 4: 2.2465753424657535, 5: 2.1437908496732025}\n"
          ]
        }
      ]
    },
    {
      "cell_type": "markdown",
      "source": [
        "## Build the model"
      ],
      "metadata": {
        "id": "4nlVzmOyccYB"
      }
    },
    {
      "cell_type": "code",
      "source": [
        "NUM_CLASSES = 6\n",
        "IMAGE_SIZE=[224, 224]\n",
        "BATCH_SIZE=32"
      ],
      "metadata": {
        "execution": {
          "iopub.status.busy": "2022-08-04T08:49:48.388292Z",
          "iopub.execute_input": "2022-08-04T08:49:48.388613Z",
          "iopub.status.idle": "2022-08-04T08:49:48.394301Z",
          "shell.execute_reply.started": "2022-08-04T08:49:48.388584Z",
          "shell.execute_reply": "2022-08-04T08:49:48.391733Z"
        },
        "trusted": true,
        "id": "-ObH1O_iccYC"
      },
      "execution_count": null,
      "outputs": []
    },
    {
      "cell_type": "code",
      "source": [
        "# Create the Generators\n",
        "train_val_generator = ImageDataGenerator(\n",
        "                                        preprocessing_function=preprocess_input,    \n",
        "                                        rotation_range=10,\n",
        "                                        width_shift_range=0.2,\n",
        "                                        height_shift_range=0.2,\n",
        "                                        shear_range=0.1,\n",
        "                                        zoom_range=0.2,\n",
        "                                        horizontal_flip=True,\n",
        "                                        vertical_flip=False,\n",
        "                                        fill_mode='nearest'\n",
        "                                        )\n",
        "\n",
        "\n",
        "# Train data generator\n",
        "train_data = train_val_generator.flow_from_directory(train_dir, \n",
        "                                                    target_size=IMAGE_SIZE,\n",
        "                                                    batch_size=BATCH_SIZE,\n",
        "                                                    class_mode='categorical',\n",
        "                                                    color_mode='rgb',\n",
        "                                                    shuffle=True\n",
        "                                                    )\n",
        "\n",
        "# Validation data generator\n",
        "val_data = train_val_generator.flow_from_directory(val_dir, \n",
        "                                                  target_size=IMAGE_SIZE,\n",
        "                                                  batch_size=BATCH_SIZE,\n",
        "                                                  class_mode='categorical',\n",
        "                                                  color_mode='rgb',\n",
        "                                                  shuffle=True\n",
        "                                                  )\n",
        "\n",
        "# Test data generator\n",
        "test_generator  = ImageDataGenerator(preprocessing_function=preprocess_input)\n",
        "test_data = test_generator.flow_from_directory(test_dir, \n",
        "                                               target_size=IMAGE_SIZE,\n",
        "                                               batch_size=1,\n",
        "                                               class_mode='categorical',\n",
        "                                               color_mode='rgb',\n",
        "                                               shuffle=False\n",
        "                                               )"
      ],
      "metadata": {
        "execution": {
          "iopub.status.busy": "2022-08-04T08:49:51.535952Z",
          "iopub.execute_input": "2022-08-04T08:49:51.536358Z",
          "iopub.status.idle": "2022-08-04T08:49:51.867958Z",
          "shell.execute_reply.started": "2022-08-04T08:49:51.536323Z",
          "shell.execute_reply": "2022-08-04T08:49:51.867114Z"
        },
        "trusted": true,
        "colab": {
          "base_uri": "https://localhost:8080/"
        },
        "id": "eBh4qZtDccYD",
        "outputId": "94255f8e-14e4-484c-ddc1-4d2fa43bfddb"
      },
      "execution_count": null,
      "outputs": [
        {
          "output_type": "stream",
          "name": "stdout",
          "text": [
            "Found 1287 images belonging to 6 classes.\n",
            "Found 389 images belonging to 6 classes.\n",
            "Found 412 images belonging to 6 classes.\n"
          ]
        }
      ]
    },
    {
      "cell_type": "markdown",
      "source": [
        "### Adding ReduceLROnPlataeau & Early Stopping"
      ],
      "metadata": {
        "id": "SMVSsQCQccYE"
      }
    },
    {
      "cell_type": "code",
      "source": [
        "reduce_lr = ReduceLROnPlateau(monitor='val_loss', factor=0.2, patience=10, min_lr=0.0001)\n",
        "early_stopping = EarlyStopping(monitor='val_loss', patience=10)"
      ],
      "metadata": {
        "execution": {
          "iopub.status.busy": "2022-08-04T08:57:04.449688Z",
          "iopub.execute_input": "2022-08-04T08:57:04.450037Z",
          "iopub.status.idle": "2022-08-04T08:57:04.454843Z",
          "shell.execute_reply.started": "2022-08-04T08:57:04.450003Z",
          "shell.execute_reply": "2022-08-04T08:57:04.453705Z"
        },
        "trusted": true,
        "id": "_UWjM5RZccYE"
      },
      "execution_count": null,
      "outputs": []
    },
    {
      "cell_type": "code",
      "source": [
        "from tensorflow.keras.applications.inception_v3 import InceptionV3\n",
        "from tensorflow.keras.preprocessing import image\n",
        "from tensorflow.keras.models import Model\n",
        "from tensorflow.keras.layers import Dense, GlobalAveragePooling2D\n",
        "\n",
        "# create the base pre-trained model\n",
        "base_model = MobileNetV2(weights='imagenet', include_top=False)\n",
        "\n",
        "# add a global spatial average pooling layer\n",
        "x = base_model.output\n",
        "x = GlobalAveragePooling2D()(x)\n",
        "# let's add a fully-connected layer\n",
        "x = Dense(1024, activation='relu')(x)\n",
        "# and a logistic layer -- let's say we have 6 classes\n",
        "predictions = Dense(6, activation='softmax')(x)\n",
        "\n",
        "# this is the model we will train\n",
        "model = Model(inputs=base_model.input, outputs=predictions)\n",
        "\n",
        "# first: train only the top layers (which were randomly initialized)\n",
        "# i.e. freeze all convolutional InceptionV3 layers\n",
        "for layer in base_model.layers:\n",
        "    layer.trainable = False\n",
        "\n",
        "# compile the model (should be done *after* setting layers to non-trainable)\n",
        "# we will use adam\n",
        "from tensorflow.keras.optimizers import Adam\n",
        "model.compile(optimizer='adam', loss='categorical_crossentropy', metrics = ['accuracy'])\n",
        "\n",
        "# train the model on the new data for a few epochs\n",
        "history = model.fit(train_data,\n",
        "         validation_data = val_data,\n",
        "         epochs = 50,\n",
        "         callbacks = [reduce_lr, early_stopping])\n",
        "\n",
        "# at this point, the top layers are well trained and we can start fine-tuning\n",
        "# convolutional layers from inception V3. We will freeze the bottom N layers\n",
        "# and train the remaining top layers.\n",
        "\n",
        "# let's visualize layer names and layer indices to see how many layers\n",
        "# we should freeze:\n",
        "for i, layer in enumerate(base_model.layers):\n",
        "   print(i, layer.name)\n",
        "\n",
        "# we chose to train the top 2 inception blocks, i.e. we will freeze\n",
        "# the first 249 layers and unfreeze the rest:\n",
        "for layer in model.layers[:249]:\n",
        "   layer.trainable = False\n",
        "for layer in model.layers[249:]:\n",
        "   layer.trainable = True\n",
        "\n",
        "# we need to recompile the model for these modifications to take effect\n",
        "# we use Adam\n",
        "from tensorflow.keras.optimizers import Adam\n",
        "model.compile(optimizer='adam', loss='categorical_crossentropy', metrics = ['accuracy'])\n",
        "\n",
        "# we train our model again (this time fine-tuning the top 2 inception blocks\n",
        "# alongside the top Dense layers\n",
        "history = model.fit(train_data,\n",
        "                   validation_data = val_data,\n",
        "                   epochs = 50,\n",
        "                   callbacks = [reduce_lr, early_stopping])"
      ],
      "metadata": {
        "execution": {
          "iopub.status.busy": "2022-08-04T08:57:06.382142Z",
          "iopub.execute_input": "2022-08-04T08:57:06.382514Z",
          "iopub.status.idle": "2022-08-04T08:58:55.931833Z",
          "shell.execute_reply.started": "2022-08-04T08:57:06.382478Z",
          "shell.execute_reply": "2022-08-04T08:58:55.929035Z"
        },
        "trusted": true,
        "colab": {
          "base_uri": "https://localhost:8080/"
        },
        "id": "VBWvn4PQccYF",
        "outputId": "71714237-691b-4e6c-e7b8-f42d42135eca"
      },
      "execution_count": null,
      "outputs": [
        {
          "output_type": "stream",
          "name": "stdout",
          "text": [
            "WARNING:tensorflow:`input_shape` is undefined or non-square, or `rows` is not in [96, 128, 160, 192, 224]. Weights for input shape (224, 224) will be loaded as the default.\n",
            "Epoch 1/50\n",
            "41/41 [==============================] - 468s 11s/step - loss: 1.0091 - accuracy: 0.6698 - val_loss: 0.4836 - val_accuracy: 0.8483 - lr: 0.0010\n",
            "Epoch 2/50\n",
            "41/41 [==============================] - 77s 2s/step - loss: 0.4275 - accuracy: 0.8531 - val_loss: 0.5774 - val_accuracy: 0.8123 - lr: 0.0010\n",
            "Epoch 3/50\n",
            "41/41 [==============================] - 78s 2s/step - loss: 0.3130 - accuracy: 0.8881 - val_loss: 0.3759 - val_accuracy: 0.8535 - lr: 0.0010\n",
            "Epoch 4/50\n",
            "41/41 [==============================] - 79s 2s/step - loss: 0.2923 - accuracy: 0.8998 - val_loss: 0.3529 - val_accuracy: 0.8766 - lr: 0.0010\n",
            "Epoch 5/50\n",
            "41/41 [==============================] - 77s 2s/step - loss: 0.2720 - accuracy: 0.9091 - val_loss: 0.4941 - val_accuracy: 0.8586 - lr: 0.0010\n",
            "Epoch 6/50\n",
            "41/41 [==============================] - 79s 2s/step - loss: 0.2522 - accuracy: 0.9106 - val_loss: 0.4035 - val_accuracy: 0.8638 - lr: 0.0010\n",
            "Epoch 7/50\n",
            "41/41 [==============================] - 77s 2s/step - loss: 0.2290 - accuracy: 0.9130 - val_loss: 0.3060 - val_accuracy: 0.9049 - lr: 0.0010\n",
            "Epoch 8/50\n",
            "41/41 [==============================] - 79s 2s/step - loss: 0.2522 - accuracy: 0.9052 - val_loss: 0.3362 - val_accuracy: 0.8946 - lr: 0.0010\n",
            "Epoch 9/50\n",
            "41/41 [==============================] - 78s 2s/step - loss: 0.1712 - accuracy: 0.9456 - val_loss: 0.2042 - val_accuracy: 0.9306 - lr: 0.0010\n",
            "Epoch 10/50\n",
            "41/41 [==============================] - 76s 2s/step - loss: 0.1712 - accuracy: 0.9363 - val_loss: 0.3238 - val_accuracy: 0.9023 - lr: 0.0010\n",
            "Epoch 11/50\n",
            "41/41 [==============================] - 78s 2s/step - loss: 0.1874 - accuracy: 0.9301 - val_loss: 0.3113 - val_accuracy: 0.8972 - lr: 0.0010\n",
            "Epoch 12/50\n",
            "41/41 [==============================] - 78s 2s/step - loss: 0.1744 - accuracy: 0.9378 - val_loss: 0.2732 - val_accuracy: 0.9049 - lr: 0.0010\n",
            "Epoch 13/50\n",
            "41/41 [==============================] - 76s 2s/step - loss: 0.2180 - accuracy: 0.9277 - val_loss: 0.4530 - val_accuracy: 0.8509 - lr: 0.0010\n",
            "Epoch 14/50\n",
            "41/41 [==============================] - 79s 2s/step - loss: 0.1727 - accuracy: 0.9363 - val_loss: 0.2656 - val_accuracy: 0.9100 - lr: 0.0010\n",
            "Epoch 15/50\n",
            "41/41 [==============================] - 77s 2s/step - loss: 0.1086 - accuracy: 0.9650 - val_loss: 0.3100 - val_accuracy: 0.9049 - lr: 0.0010\n",
            "Epoch 16/50\n",
            "41/41 [==============================] - 79s 2s/step - loss: 0.1108 - accuracy: 0.9643 - val_loss: 0.3174 - val_accuracy: 0.8997 - lr: 0.0010\n",
            "Epoch 17/50\n",
            "41/41 [==============================] - 79s 2s/step - loss: 0.1523 - accuracy: 0.9448 - val_loss: 0.3920 - val_accuracy: 0.8740 - lr: 0.0010\n",
            "Epoch 18/50\n",
            "41/41 [==============================] - 76s 2s/step - loss: 0.1460 - accuracy: 0.9487 - val_loss: 0.2499 - val_accuracy: 0.9280 - lr: 0.0010\n",
            "Epoch 19/50\n",
            "41/41 [==============================] - 78s 2s/step - loss: 0.1275 - accuracy: 0.9479 - val_loss: 0.2956 - val_accuracy: 0.9177 - lr: 0.0010\n",
            "0 input_3\n",
            "1 Conv1\n",
            "2 bn_Conv1\n",
            "3 Conv1_relu\n",
            "4 expanded_conv_depthwise\n",
            "5 expanded_conv_depthwise_BN\n",
            "6 expanded_conv_depthwise_relu\n",
            "7 expanded_conv_project\n",
            "8 expanded_conv_project_BN\n",
            "9 block_1_expand\n",
            "10 block_1_expand_BN\n",
            "11 block_1_expand_relu\n",
            "12 block_1_pad\n",
            "13 block_1_depthwise\n",
            "14 block_1_depthwise_BN\n",
            "15 block_1_depthwise_relu\n",
            "16 block_1_project\n",
            "17 block_1_project_BN\n",
            "18 block_2_expand\n",
            "19 block_2_expand_BN\n",
            "20 block_2_expand_relu\n",
            "21 block_2_depthwise\n",
            "22 block_2_depthwise_BN\n",
            "23 block_2_depthwise_relu\n",
            "24 block_2_project\n",
            "25 block_2_project_BN\n",
            "26 block_2_add\n",
            "27 block_3_expand\n",
            "28 block_3_expand_BN\n",
            "29 block_3_expand_relu\n",
            "30 block_3_pad\n",
            "31 block_3_depthwise\n",
            "32 block_3_depthwise_BN\n",
            "33 block_3_depthwise_relu\n",
            "34 block_3_project\n",
            "35 block_3_project_BN\n",
            "36 block_4_expand\n",
            "37 block_4_expand_BN\n",
            "38 block_4_expand_relu\n",
            "39 block_4_depthwise\n",
            "40 block_4_depthwise_BN\n",
            "41 block_4_depthwise_relu\n",
            "42 block_4_project\n",
            "43 block_4_project_BN\n",
            "44 block_4_add\n",
            "45 block_5_expand\n",
            "46 block_5_expand_BN\n",
            "47 block_5_expand_relu\n",
            "48 block_5_depthwise\n",
            "49 block_5_depthwise_BN\n",
            "50 block_5_depthwise_relu\n",
            "51 block_5_project\n",
            "52 block_5_project_BN\n",
            "53 block_5_add\n",
            "54 block_6_expand\n",
            "55 block_6_expand_BN\n",
            "56 block_6_expand_relu\n",
            "57 block_6_pad\n",
            "58 block_6_depthwise\n",
            "59 block_6_depthwise_BN\n",
            "60 block_6_depthwise_relu\n",
            "61 block_6_project\n",
            "62 block_6_project_BN\n",
            "63 block_7_expand\n",
            "64 block_7_expand_BN\n",
            "65 block_7_expand_relu\n",
            "66 block_7_depthwise\n",
            "67 block_7_depthwise_BN\n",
            "68 block_7_depthwise_relu\n",
            "69 block_7_project\n",
            "70 block_7_project_BN\n",
            "71 block_7_add\n",
            "72 block_8_expand\n",
            "73 block_8_expand_BN\n",
            "74 block_8_expand_relu\n",
            "75 block_8_depthwise\n",
            "76 block_8_depthwise_BN\n",
            "77 block_8_depthwise_relu\n",
            "78 block_8_project\n",
            "79 block_8_project_BN\n",
            "80 block_8_add\n",
            "81 block_9_expand\n",
            "82 block_9_expand_BN\n",
            "83 block_9_expand_relu\n",
            "84 block_9_depthwise\n",
            "85 block_9_depthwise_BN\n",
            "86 block_9_depthwise_relu\n",
            "87 block_9_project\n",
            "88 block_9_project_BN\n",
            "89 block_9_add\n",
            "90 block_10_expand\n",
            "91 block_10_expand_BN\n",
            "92 block_10_expand_relu\n",
            "93 block_10_depthwise\n",
            "94 block_10_depthwise_BN\n",
            "95 block_10_depthwise_relu\n",
            "96 block_10_project\n",
            "97 block_10_project_BN\n",
            "98 block_11_expand\n",
            "99 block_11_expand_BN\n",
            "100 block_11_expand_relu\n",
            "101 block_11_depthwise\n",
            "102 block_11_depthwise_BN\n",
            "103 block_11_depthwise_relu\n",
            "104 block_11_project\n",
            "105 block_11_project_BN\n",
            "106 block_11_add\n",
            "107 block_12_expand\n",
            "108 block_12_expand_BN\n",
            "109 block_12_expand_relu\n",
            "110 block_12_depthwise\n",
            "111 block_12_depthwise_BN\n",
            "112 block_12_depthwise_relu\n",
            "113 block_12_project\n",
            "114 block_12_project_BN\n",
            "115 block_12_add\n",
            "116 block_13_expand\n",
            "117 block_13_expand_BN\n",
            "118 block_13_expand_relu\n",
            "119 block_13_pad\n",
            "120 block_13_depthwise\n",
            "121 block_13_depthwise_BN\n",
            "122 block_13_depthwise_relu\n",
            "123 block_13_project\n",
            "124 block_13_project_BN\n",
            "125 block_14_expand\n",
            "126 block_14_expand_BN\n",
            "127 block_14_expand_relu\n",
            "128 block_14_depthwise\n",
            "129 block_14_depthwise_BN\n",
            "130 block_14_depthwise_relu\n",
            "131 block_14_project\n",
            "132 block_14_project_BN\n",
            "133 block_14_add\n",
            "134 block_15_expand\n",
            "135 block_15_expand_BN\n",
            "136 block_15_expand_relu\n",
            "137 block_15_depthwise\n",
            "138 block_15_depthwise_BN\n",
            "139 block_15_depthwise_relu\n",
            "140 block_15_project\n",
            "141 block_15_project_BN\n",
            "142 block_15_add\n",
            "143 block_16_expand\n",
            "144 block_16_expand_BN\n",
            "145 block_16_expand_relu\n",
            "146 block_16_depthwise\n",
            "147 block_16_depthwise_BN\n",
            "148 block_16_depthwise_relu\n",
            "149 block_16_project\n",
            "150 block_16_project_BN\n",
            "151 Conv_1\n",
            "152 Conv_1_bn\n",
            "153 out_relu\n",
            "Epoch 1/50\n",
            "41/41 [==============================] - 83s 2s/step - loss: 0.1131 - accuracy: 0.9611 - val_loss: 0.2340 - val_accuracy: 0.9332 - lr: 0.0010\n",
            "Epoch 2/50\n",
            "41/41 [==============================] - 76s 2s/step - loss: 0.1140 - accuracy: 0.9611 - val_loss: 0.2773 - val_accuracy: 0.9100 - lr: 0.0010\n",
            "Epoch 3/50\n",
            "41/41 [==============================] - 78s 2s/step - loss: 0.1081 - accuracy: 0.9573 - val_loss: 0.2636 - val_accuracy: 0.9126 - lr: 0.0010\n",
            "Epoch 4/50\n",
            "41/41 [==============================] - 76s 2s/step - loss: 0.1106 - accuracy: 0.9619 - val_loss: 0.2478 - val_accuracy: 0.9152 - lr: 0.0010\n",
            "Epoch 5/50\n",
            "41/41 [==============================] - 78s 2s/step - loss: 0.0978 - accuracy: 0.9650 - val_loss: 0.2472 - val_accuracy: 0.9229 - lr: 0.0010\n",
            "Epoch 6/50\n",
            "41/41 [==============================] - 78s 2s/step - loss: 0.1003 - accuracy: 0.9619 - val_loss: 0.2569 - val_accuracy: 0.9229 - lr: 0.0010\n",
            "Epoch 7/50\n",
            "41/41 [==============================] - 76s 2s/step - loss: 0.1240 - accuracy: 0.9573 - val_loss: 0.2769 - val_accuracy: 0.9049 - lr: 0.0010\n",
            "Epoch 8/50\n",
            "41/41 [==============================] - 78s 2s/step - loss: 0.0951 - accuracy: 0.9689 - val_loss: 0.2784 - val_accuracy: 0.9023 - lr: 0.0010\n",
            "Epoch 9/50\n",
            "41/41 [==============================] - 78s 2s/step - loss: 0.1215 - accuracy: 0.9557 - val_loss: 0.2963 - val_accuracy: 0.8972 - lr: 0.0010\n",
            "Epoch 10/50\n",
            "41/41 [==============================] - 76s 2s/step - loss: 0.1000 - accuracy: 0.9611 - val_loss: 0.2892 - val_accuracy: 0.9254 - lr: 0.0010\n",
            "Epoch 11/50\n",
            "41/41 [==============================] - 78s 2s/step - loss: 0.0979 - accuracy: 0.9681 - val_loss: 0.2843 - val_accuracy: 0.9126 - lr: 0.0010\n"
          ]
        }
      ]
    },
    {
      "cell_type": "markdown",
      "source": [
        "### Graphs"
      ],
      "metadata": {
        "id": "z9yt5f6EccYG"
      }
    },
    {
      "cell_type": "markdown",
      "source": [
        "### Training/Testing Accuracies VS Training/Testing Losses"
      ],
      "metadata": {
        "id": "8TIyRED0ccYH"
      }
    },
    {
      "cell_type": "code",
      "source": [
        "plt.plot(history.history['accuracy'])\n",
        "plt.plot(history.history['val_accuracy'])\n",
        "plt.title('model accuracy')\n",
        "plt.ylabel('accuracy')\n",
        "plt.xlabel('epoch')\n",
        "plt.legend(['train', 'test'], loc='upper left')\n",
        "plt.show()"
      ],
      "metadata": {
        "colab": {
          "base_uri": "https://localhost:8080/",
          "height": 295
        },
        "id": "suoKCxpXccYH",
        "outputId": "929b6ab7-55e5-4c7f-b614-ce1b2844e293"
      },
      "execution_count": null,
      "outputs": [
        {
          "output_type": "display_data",
          "data": {
            "text/plain": [
              "<Figure size 432x288 with 1 Axes>"
            ],
            "image/png": "[encoded data removed]"
          },
          "metadata": {
            "needs_background": "light"
          }
        }
      ]
    },
    {
      "cell_type": "code",
      "source": [
        "plt.plot(history.history['loss'])\n",
        "plt.plot(history.history['val_loss'])\n",
        "plt.title('model loss')\n",
        "plt.ylabel('loss')\n",
        "plt.xlabel('epoch')\n",
        "plt.legend(['train', 'test'], loc='upper left')\n",
        "plt.show()"
      ],
      "metadata": {
        "colab": {
          "base_uri": "https://localhost:8080/",
          "height": 295
        },
        "id": "vS1wrXwoccYI",
        "outputId": "ccc32382-f2a7-45c2-eb82-570850e7f1a0"
      },
      "execution_count": null,
      "outputs": [
        {
          "output_type": "display_data",
          "data": {
            "text/plain": [
              "<Figure size 432x288 with 1 Axes>"
            ],
            "image/png": "[encoded data removed]"
          },
          "metadata": {
            "needs_background": "light"
          }
        }
      ]
    }
  ]
}