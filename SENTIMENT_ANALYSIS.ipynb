{
  "metadata": {
    "kernelspec": {
      "language": "python",
      "display_name": "Python 3",
      "name": "python3"
    },
    "language_info": {
      "name": "python",
      "version": "3.6.6",
      "mimetype": "text/x-python",
      "codemirror_mode": {
        "name": "ipython",
        "version": 3
      },
      "pygments_lexer": "ipython3",
      "nbconvert_exporter": "python",
      "file_extension": ".py"
    },
    "colab": {
      "provenance": []
    }
  },
  "nbformat_minor": 0,
  "nbformat": 4,
  "cells": [
    {
      "cell_type": "code",
      "source": [
        "# Importing the libraries\n",
        "import numpy as np\n",
        "import matplotlib.pyplot as plt\n",
        "import pandas as pd\n",
        "from sklearn.utils import shuffle\n",
        "from sklearn.preprocessing import LabelEncoder,OneHotEncoder\n",
        "#making corpus or words from comments\n",
        "import re\n",
        "from nltk.stem.porter import PorterStemmer\n",
        "import nltk\n",
        "from sklearn.feature_extraction.text import CountVectorizer\n",
        "from sklearn.model_selection import train_test_split\n",
        "from sklearn.linear_model import LogisticRegression\n",
        "from sklearn.metrics import confusion_matrix\n",
        "from sklearn.metrics import accuracy_score"
      ],
      "metadata": {
        "_uuid": "8f2839f25d086af736a60e9eeb907d3b93b6e0e5",
        "_cell_guid": "b1076dfc-b9ad-4769-8c92-a6c4dae69d19",
        "execution": {
          "iopub.status.busy": "2022-11-07T14:25:13.374009Z",
          "iopub.execute_input": "2022-11-07T14:25:13.374364Z",
          "iopub.status.idle": "2022-11-07T14:25:14.984247Z",
          "shell.execute_reply.started": "2022-11-07T14:25:13.374309Z",
          "shell.execute_reply": "2022-11-07T14:25:14.983419Z"
        },
        "trusted": true,
        "id": "gBYDt_oU57gR"
      },
      "execution_count": null,
      "outputs": []
    },
    {
      "cell_type": "markdown",
      "source": [
        "### importing dataset"
      ],
      "metadata": {
        "id": "T3Co1Z6z57gi"
      }
    },
    {
      "cell_type": "code",
      "source": [
        "dataset = pd.read_csv('/content/drive/My Drive/Dataset/Product_Final_Dataset_1.csv', encoding=\"ISO-8859-1')"
      ],
      "metadata": {
        "_uuid": "d629ff2d2480ee46fbb7e2d37f6b5fab8052498a",
        "_cell_guid": "79c7e3d0-c299-4dcb-8224-4455121ee9b0",
        "execution": {
          "iopub.status.busy": "2022-11-07T14:25:21.845071Z",
          "iopub.execute_input": "2022-11-07T14:25:21.845382Z",
          "iopub.status.idle": "2022-11-07T14:25:21.921956Z",
          "shell.execute_reply.started": "2022-11-07T14:25:21.845330Z",
          "shell.execute_reply": "2022-11-07T14:25:21.921133Z"
        },
        "trusted": true,
        "id": "ruRagnJM57gz"
      },
      "execution_count": null,
      "outputs": []
    },
    {
      "cell_type": "markdown",
      "source": [
        "### Having a look at dataset"
      ],
      "metadata": {
        "id": "bRrcH85V57g8"
      }
    },
    {
      "cell_type": "code",
      "source": [
        "dataset.head()"
      ],
      "metadata": {
        "execution": {
          "iopub.status.busy": "2022-11-07T14:25:23.888303Z",
          "iopub.execute_input": "2022-11-07T14:25:23.888623Z",
          "iopub.status.idle": "2022-11-07T14:25:23.909749Z",
          "shell.execute_reply.started": "2022-11-07T14:25:23.888570Z",
          "shell.execute_reply": "2022-11-07T14:25:23.908984Z"
        },
        "trusted": true,
        "id": "uS9bDhIr57g_"
      },
      "execution_count": null,
      "outputs": []
    },
    {
      "cell_type": "markdown",
      "source": [
        "### visualizing the proportion in which text is available with respect to sentiment"
      ],
      "metadata": {
        "id": "pJuYC2nZ57hB"
      }
    },
    {
      "cell_type": "code",
      "source": [
        "Pos = dataset[dataset['sentiment'] == 'Positive'].shape[0]\n",
        "Neg = dataset[dataset['sentiment'] == 'Negative'].shape[0]\n",
        "Neu = dataset[dataset['sentiment'] == 'Neutral'].shape[0]\n",
        "# bar plot of the 3 classes\n",
        "plt.bar(10,Pos,3, label=\"Positve\")\n",
        "plt.bar(15,Neg,3, label=\"Negative\")\n",
        "plt.bar(20,Neu,3, label=\"Neutral\")\n",
        "plt.legend()\n",
        "plt.ylabel('Number of examples')\n",
        "plt.title('Proportion of examples')\n",
        "plt.show()"
      ],
      "metadata": {
        "execution": {
          "iopub.status.busy": "2022-11-07T14:25:25.586161Z",
          "iopub.execute_input": "2022-11-07T14:25:25.586515Z",
          "iopub.status.idle": "2022-11-07T14:25:25.875145Z",
          "shell.execute_reply.started": "2022-11-07T14:25:25.586463Z",
          "shell.execute_reply": "2022-11-07T14:25:25.874124Z"
        },
        "trusted": true,
        "id": "2-EIpOPI57hD"
      },
      "execution_count": null,
      "outputs": []
    },
    {
      "cell_type": "markdown",
      "source": [
        "### Above figure shows number of texts for each category of sentiment"
      ],
      "metadata": {
        "id": "CX8DT_E257hG"
      }
    },
    {
      "cell_type": "markdown",
      "source": [
        "### y is in form of categorical data so we need to convert it into quantitative data using label encoder"
      ],
      "metadata": {
        "id": "6bKM3Vo-57hI"
      }
    },
    {
      "cell_type": "code",
      "source": [
        "# label selection\n",
        "y=dataset.iloc[:,1].values\n",
        "labelEnocder_y=LabelEncoder()\n",
        "y=labelEnocder_y.fit_transform(y)\n",
        "# 2 postive 0 negative 1 nuetral"
      ],
      "metadata": {
        "execution": {
          "iopub.status.busy": "2022-11-07T14:25:28.179309Z",
          "iopub.execute_input": "2022-11-07T14:25:28.179622Z",
          "iopub.status.idle": "2022-11-07T14:25:28.187107Z",
          "shell.execute_reply.started": "2022-11-07T14:25:28.179568Z",
          "shell.execute_reply": "2022-11-07T14:25:28.186015Z"
        },
        "trusted": true,
        "id": "_diQp9Jp57hL"
      },
      "execution_count": null,
      "outputs": []
    },
    {
      "cell_type": "code",
      "source": [
        "corpus=[]\n",
        "stopwords=['ai', 'ayi', 'hy', 'hai', 'main', 'ki', 'tha', 'koi', 'ko', 'sy', 'woh', 'bhi', 'aur', 'wo', 'yeh', 'rha', 'hota', 'ho', 'ga', 'ka', 'le', 'lye', 'kr', 'kar', 'lye', 'liye', 'hotay', 'waisay', 'gya', 'gaya', 'kch', 'ab', 'thy', 'thay', 'houn', 'hain', 'han', 'to', 'is', 'hi', 'jo', 'kya', 'thi', 'se', 'pe', 'phr', 'wala', 'waisay', 'us', 'na', 'ny', 'hun', 'rha', 'raha', 'ja', 'rahay', 'abi', 'uski', 'ne', 'haan', 'acha', 'nai', 'sent', 'photo', 'you', 'kafi', 'gai', 'rhy', 'kuch', 'jata', 'aye', 'ya', 'dono', 'hoa', 'aese', 'de', 'wohi', 'jati', 'jb', 'krta', 'lg', 'rahi', 'hui', 'karna', 'krna', 'gi', 'hova', 'yehi', 'jana', 'jye', 'chal', 'mil', 'tu', 'hum', 'par', 'hay', 'kis', 'sb', 'gy', 'dain', 'krny', 'tou']\n",
        "for i in range(0,14646):\n",
        "    review = re.sub('[^a-zA-Z]',' ',dataset.iloc[:,0].values[i])\n",
        "    review=review.lower()\n",
        "    review=review.split()\n",
        "    review=[word for word in review if not word in stopwords]\n",
        "    review=' '.join(review)\n",
        "    corpus.append(review)"
      ],
      "metadata": {
        "execution": {
          "iopub.status.busy": "2022-11-07T14:25:38.153079Z",
          "iopub.execute_input": "2022-11-07T14:25:38.153418Z",
          "iopub.status.idle": "2022-11-07T14:25:39.636825Z",
          "shell.execute_reply.started": "2022-11-07T14:25:38.153375Z",
          "shell.execute_reply": "2022-11-07T14:25:39.635839Z"
        },
        "trusted": true,
        "id": "yJwInK-F57hN"
      },
      "execution_count": null,
      "outputs": []
    },
    {
      "cell_type": "markdown",
      "source": [
        "### making matrix of most common words with countVectorizer it is used to make vocabulary "
      ],
      "metadata": {
        "id": "NQR9nErA57hQ"
      }
    },
    {
      "cell_type": "code",
      "source": [
        "# making matrix of most common words with countVectorizer it is used to make vocabulary   \n",
        "cv=CountVectorizer(max_features=2500)\n",
        "x=cv.fit_transform(corpus).toarray()"
      ],
      "metadata": {
        "execution": {
          "iopub.status.busy": "2022-11-07T14:25:47.626303Z",
          "iopub.execute_input": "2022-11-07T14:25:47.626639Z",
          "iopub.status.idle": "2022-11-07T14:25:47.961437Z",
          "shell.execute_reply.started": "2022-11-07T14:25:47.626583Z",
          "shell.execute_reply": "2022-11-07T14:25:47.960474Z"
        },
        "trusted": true,
        "id": "RVnwLlx457hT"
      },
      "execution_count": null,
      "outputs": []
    },
    {
      "cell_type": "markdown",
      "source": [
        "### spliting dataset into train and test set"
      ],
      "metadata": {
        "id": "rQ2MkEs757hU"
      }
    },
    {
      "cell_type": "code",
      "source": [
        "#spliting dataset into train and test set\n",
        "X_train,X_test,y_train,y_test=train_test_split(x,y,test_size=0.20)"
      ],
      "metadata": {
        "execution": {
          "iopub.status.busy": "2022-11-07T14:25:50.214409Z",
          "iopub.execute_input": "2022-11-07T14:25:50.214733Z",
          "iopub.status.idle": "2022-11-07T14:25:50.457427Z",
          "shell.execute_reply.started": "2022-11-07T14:25:50.214678Z",
          "shell.execute_reply": "2022-11-07T14:25:50.456390Z"
        },
        "trusted": true,
        "id": "il9nHS6457hW"
      },
      "execution_count": null,
      "outputs": []
    },
    {
      "cell_type": "markdown",
      "source": [
        "### Applying machine learning algorithms"
      ],
      "metadata": {
        "id": "oMz-A6Vz57hY"
      }
    },
    {
      "cell_type": "code",
      "source": [
        "from sklearn.model_selection import train_test_split\n",
        "from sklearn import tree\n",
        "model1 = tree.DecisionTreeClassifier()\n",
        "model1.fit(X_train, y_train)\n",
        "model1.score(X_test, y_test)"
      ],
      "metadata": {
        "execution": {
          "iopub.status.busy": "2022-11-07T14:29:01.492638Z",
          "iopub.execute_input": "2022-11-07T14:29:01.492953Z",
          "iopub.status.idle": "2022-11-07T14:30:03.223873Z",
          "shell.execute_reply.started": "2022-11-07T14:29:01.492899Z",
          "shell.execute_reply": "2022-11-07T14:30:03.223047Z"
        },
        "trusted": true,
        "id": "XVEKfhKV57hZ"
      },
      "execution_count": null,
      "outputs": []
    },
    {
      "cell_type": "code",
      "source": [
        "from sklearn.ensemble import RandomForestClassifier\n",
        "clf = RandomForestClassifier(max_depth = 2, random_state = 0)\n",
        "clf.fit(X_train, y_train)\n",
        "clf.score(X_test, y_test)"
      ],
      "metadata": {
        "execution": {
          "iopub.status.busy": "2022-11-07T14:31:15.307423Z",
          "iopub.execute_input": "2022-11-07T14:31:15.307744Z",
          "iopub.status.idle": "2022-11-07T14:31:15.657075Z",
          "shell.execute_reply.started": "2022-11-07T14:31:15.307690Z",
          "shell.execute_reply": "2022-11-07T14:31:15.656402Z"
        },
        "trusted": true,
        "id": "yWMNKmbt57hc"
      },
      "execution_count": null,
      "outputs": []
    },
    {
      "cell_type": "code",
      "source": [
        "from sklearn import svm\n",
        "clf1 = svm.SVC()\n",
        "clf1.fit(X_train, y_train)\n",
        "clf1.score(X_test, y_test)"
      ],
      "metadata": {
        "execution": {
          "iopub.status.busy": "2022-11-07T14:36:43.314378Z",
          "iopub.execute_input": "2022-11-07T14:36:43.314709Z",
          "iopub.status.idle": "2022-11-07T14:48:58.171639Z",
          "shell.execute_reply.started": "2022-11-07T14:36:43.314655Z",
          "shell.execute_reply": "2022-11-07T14:48:58.170554Z"
        },
        "trusted": true,
        "id": "UkULPi4H57he"
      },
      "execution_count": null,
      "outputs": []
    },
    {
      "cell_type": "code",
      "source": [
        "from sklearn.ensemble import AdaBoostClassifier\n",
        "clf2 = AdaBoostClassifier(n_estimators = 100, random_state = 0)\n",
        "clf2.fit(X_train, y_train)\n",
        "clf2.score(X_test, y_test)"
      ],
      "metadata": {
        "execution": {
          "iopub.status.busy": "2022-11-07T15:01:39.714055Z",
          "iopub.execute_input": "2022-11-07T15:01:39.714402Z",
          "iopub.status.idle": "2022-11-07T15:02:54.913844Z",
          "shell.execute_reply.started": "2022-11-07T15:01:39.714347Z",
          "shell.execute_reply": "2022-11-07T15:02:54.912996Z"
        },
        "trusted": true,
        "id": "7_4ySQR557hg"
      },
      "execution_count": null,
      "outputs": []
    },
    {
      "cell_type": "code",
      "source": [
        "from sklearn.ensemble import GradientBoostingClassifier\n",
        "clf3 = GradientBoostingClassifier(n_estimators = 100, learning_rate = 1.0, max_depth = 1, random_state = 0)\n",
        "clf3.fit(X_train, y_train)\n",
        "clf3.score(X_test, y_test)"
      ],
      "metadata": {
        "execution": {
          "iopub.status.busy": "2022-11-07T15:07:41.152626Z",
          "iopub.execute_input": "2022-11-07T15:07:41.152931Z",
          "iopub.status.idle": "2022-11-07T15:10:44.313456Z",
          "shell.execute_reply.started": "2022-11-07T15:07:41.152877Z",
          "shell.execute_reply": "2022-11-07T15:10:44.312354Z"
        },
        "trusted": true,
        "id": "C4wYhjUs57hh"
      },
      "execution_count": null,
      "outputs": []
    },
    {
      "cell_type": "code",
      "source": [
        "from sklearn.linear_model import LogisticRegression\n",
        "clf4 = LogisticRegression(random_state = 0)\n",
        "clf4.fit(X_train, y_train)\n",
        "clf4.score(X_test, y_test)"
      ],
      "metadata": {
        "execution": {
          "iopub.status.busy": "2022-11-07T15:12:05.390988Z",
          "iopub.execute_input": "2022-11-07T15:12:05.391331Z",
          "iopub.status.idle": "2022-11-07T15:12:06.004862Z",
          "shell.execute_reply.started": "2022-11-07T15:12:05.391278Z",
          "shell.execute_reply": "2022-11-07T15:12:06.003611Z"
        },
        "trusted": true,
        "id": "U6j13sBl57hk"
      },
      "execution_count": null,
      "outputs": []
    },
    {
      "cell_type": "code",
      "source": [
        "from sklearn.discriminant_analysis import LinearDiscriminantAnalysis\n",
        "clf5 = LinearDiscriminantAnalysis()\n",
        "clf5.fit(X_train, y_train)\n",
        "clf5.score(X_test, y_test)"
      ],
      "metadata": {
        "execution": {
          "iopub.status.busy": "2022-11-07T15:15:00.156321Z",
          "iopub.execute_input": "2022-11-07T15:15:00.156641Z",
          "iopub.status.idle": "2022-11-07T15:15:22.871409Z",
          "shell.execute_reply.started": "2022-11-07T15:15:00.156586Z",
          "shell.execute_reply": "2022-11-07T15:15:22.870221Z"
        },
        "trusted": true,
        "id": "C9OHCdMq57hm"
      },
      "execution_count": null,
      "outputs": []
    },
    {
      "cell_type": "code",
      "source": [
        "from sklearn.discriminant_analysis import QuadraticDiscriminantAnalysis\n",
        "clf6 = QuadraticDiscriminantAnalysis()\n",
        "clf6.fit(X_train, y_train)\n",
        "clf6.score(X_test, y_test)"
      ],
      "metadata": {
        "execution": {
          "iopub.status.busy": "2022-11-07T15:17:07.649113Z",
          "iopub.execute_input": "2022-11-07T15:17:07.649457Z",
          "iopub.status.idle": "2022-11-07T15:17:56.165378Z",
          "shell.execute_reply.started": "2022-11-07T15:17:07.649394Z",
          "shell.execute_reply": "2022-11-07T15:17:56.164570Z"
        },
        "trusted": true,
        "id": "xDvuOWVt57ho"
      },
      "execution_count": null,
      "outputs": []
    },
    {
      "cell_type": "markdown",
      "source": [
        "### Confusion matrix for all above applied machine learning algorithms"
      ],
      "metadata": {
        "id": "REvdUg5f57hp"
      }
    },
    {
      "cell_type": "code",
      "source": [
        "y_pred = clf6.predict(X_train)\n",
        "y_true = y_train\n",
        "from sklearn.metrics import confusion_matrix\n",
        "cm = confusion_matrix(y_true, y_pred)\n",
        "import seaborn as sns\n",
        "import matplotlib.pyplot as plt \n",
        "f, ax = plt.subplots(figsize = (5, 5))\n",
        "sns.heatmap(cm, annot = True, linewidths = 0.5, linecolor = \"Black\", fmt = \".0f\", ax = ax) \n",
        "plt.show()\n",
        "\n",
        "from sklearn.metrics import classification_report\n",
        "print(classification_report(y_true, y_pred))"
      ],
      "metadata": {
        "execution": {
          "iopub.status.busy": "2022-11-07T15:20:01.040897Z",
          "iopub.execute_input": "2022-11-07T15:20:01.041250Z",
          "iopub.status.idle": "2022-11-07T15:20:15.525314Z",
          "shell.execute_reply.started": "2022-11-07T15:20:01.041192Z",
          "shell.execute_reply": "2022-11-07T15:20:15.522648Z"
        },
        "trusted": true,
        "id": "v3P42sQn57hr"
      },
      "execution_count": null,
      "outputs": []
    },
    {
      "cell_type": "code",
      "source": [
        "y_pred = clf5.predict(X_train)\n",
        "y_true = y_train\n",
        "from sklearn.metrics import confusion_matrix\n",
        "cm = confusion_matrix(y_true, y_pred)\n",
        "import seaborn as sns\n",
        "import matplotlib.pyplot as plt \n",
        "f, ax = plt.subplots(figsize = (5, 5))\n",
        "sns.heatmap(cm, annot = True, linewidths = 0.5, linecolor = \"Black\", fmt = \".0f\", ax = ax) \n",
        "plt.show()\n",
        "\n",
        "from sklearn.metrics import classification_report\n",
        "print(classification_report(y_true, y_pred))"
      ],
      "metadata": {
        "execution": {
          "iopub.status.busy": "2022-11-07T15:20:39.016375Z",
          "iopub.execute_input": "2022-11-07T15:20:39.016685Z",
          "iopub.status.idle": "2022-11-07T15:20:39.647668Z",
          "shell.execute_reply.started": "2022-11-07T15:20:39.016631Z",
          "shell.execute_reply": "2022-11-07T15:20:39.644814Z"
        },
        "trusted": true,
        "id": "85kBfoph57hs"
      },
      "execution_count": null,
      "outputs": []
    },
    {
      "cell_type": "code",
      "source": [
        "y_pred = clf4.predict(X_train)\n",
        "y_true = y_train\n",
        "from sklearn.metrics import confusion_matrix\n",
        "cm = confusion_matrix(y_true, y_pred)\n",
        "import seaborn as sns\n",
        "import matplotlib.pyplot as plt \n",
        "f, ax = plt.subplots(figsize = (5, 5))\n",
        "sns.heatmap(cm, annot = True, linewidths = 0.5, linecolor = \"Black\", fmt = \".0f\", ax = ax) \n",
        "plt.show()\n",
        "\n",
        "from sklearn.metrics import classification_report\n",
        "print(classification_report(y_true, y_pred))"
      ],
      "metadata": {
        "execution": {
          "iopub.status.busy": "2022-11-07T15:21:06.781936Z",
          "iopub.execute_input": "2022-11-07T15:21:06.782326Z",
          "iopub.status.idle": "2022-11-07T15:21:07.436699Z",
          "shell.execute_reply.started": "2022-11-07T15:21:06.782265Z",
          "shell.execute_reply": "2022-11-07T15:21:07.435735Z"
        },
        "trusted": true,
        "id": "Taea0iV657ht"
      },
      "execution_count": null,
      "outputs": []
    },
    {
      "cell_type": "code",
      "source": [
        "y_pred = clf3.predict(X_train)\n",
        "y_true = y_train\n",
        "from sklearn.metrics import confusion_matrix\n",
        "cm = confusion_matrix(y_true, y_pred)\n",
        "import seaborn as sns\n",
        "import matplotlib.pyplot as plt \n",
        "f, ax = plt.subplots(figsize = (5, 5))\n",
        "sns.heatmap(cm, annot = True, linewidths = 0.5, linecolor = \"Black\", fmt = \".0f\", ax = ax) \n",
        "plt.show()\n",
        "\n",
        "from sklearn.metrics import classification_report\n",
        "print(classification_report(y_true, y_pred))"
      ],
      "metadata": {
        "execution": {
          "iopub.status.busy": "2022-11-07T15:21:35.472464Z",
          "iopub.execute_input": "2022-11-07T15:21:35.472780Z",
          "iopub.status.idle": "2022-11-07T15:21:36.015282Z",
          "shell.execute_reply.started": "2022-11-07T15:21:35.472728Z",
          "shell.execute_reply": "2022-11-07T15:21:36.012731Z"
        },
        "trusted": true,
        "id": "sdC8259Q57hu"
      },
      "execution_count": null,
      "outputs": []
    },
    {
      "cell_type": "code",
      "source": [
        "y_pred = clf2.predict(X_train)\n",
        "y_true = y_train\n",
        "from sklearn.metrics import confusion_matrix\n",
        "cm = confusion_matrix(y_true, y_pred)\n",
        "import seaborn as sns\n",
        "import matplotlib.pyplot as plt \n",
        "f, ax = plt.subplots(figsize = (5, 5))\n",
        "sns.heatmap(cm, annot = True, linewidths = 0.5, linecolor = \"Black\", fmt = \".0f\", ax = ax) \n",
        "plt.show()\n",
        "\n",
        "from sklearn.metrics import classification_report\n",
        "print(classification_report(y_true, y_pred))"
      ],
      "metadata": {
        "execution": {
          "iopub.status.busy": "2022-11-07T15:21:57.350577Z",
          "iopub.execute_input": "2022-11-07T15:21:57.350878Z",
          "iopub.status.idle": "2022-11-07T15:22:11.533132Z",
          "shell.execute_reply.started": "2022-11-07T15:21:57.350826Z",
          "shell.execute_reply": "2022-11-07T15:22:11.530289Z"
        },
        "trusted": true,
        "id": "rsB9VlUV57hw"
      },
      "execution_count": null,
      "outputs": []
    },
    {
      "cell_type": "code",
      "source": [
        "y_pred = clf1.predict(X_train)\n",
        "y_true = y_train\n",
        "from sklearn.metrics import confusion_matrix\n",
        "cm = confusion_matrix(y_true, y_pred)\n",
        "import seaborn as sns\n",
        "import matplotlib.pyplot as plt \n",
        "f, ax = plt.subplots(figsize = (5, 5))\n",
        "sns.heatmap(cm, annot = True, linewidths = 0.5, linecolor = \"Black\", fmt = \".0f\", ax = ax) \n",
        "plt.show()\n",
        "\n",
        "from sklearn.metrics import classification_report\n",
        "print(classification_report(y_true, y_pred))"
      ],
      "metadata": {
        "execution": {
          "iopub.status.busy": "2022-11-07T15:22:27.229596Z",
          "iopub.execute_input": "2022-11-07T15:22:27.229899Z",
          "iopub.status.idle": "2022-11-07T15:29:49.909890Z",
          "shell.execute_reply.started": "2022-11-07T15:22:27.229842Z",
          "shell.execute_reply": "2022-11-07T15:29:49.908849Z"
        },
        "trusted": true,
        "id": "3h-rqN4357hx"
      },
      "execution_count": null,
      "outputs": []
    },
    {
      "cell_type": "code",
      "source": [
        "y_pred = clf.predict(X_train)\n",
        "y_true = y_train\n",
        "from sklearn.metrics import confusion_matrix\n",
        "cm = confusion_matrix(y_true, y_pred)\n",
        "import seaborn as sns\n",
        "import matplotlib.pyplot as plt \n",
        "f, ax = plt.subplots(figsize = (5, 5))\n",
        "sns.heatmap(cm, annot = True, linewidths = 0.5, linecolor = \"Black\", fmt = \".0f\", ax = ax) \n",
        "plt.show()\n",
        "\n",
        "from sklearn.metrics import classification_report\n",
        "print(classification_report(y_true, y_pred))"
      ],
      "metadata": {
        "execution": {
          "iopub.status.busy": "2022-11-07T15:47:23.551761Z",
          "iopub.execute_input": "2022-11-07T15:47:23.552109Z",
          "iopub.status.idle": "2022-11-07T15:47:23.997216Z",
          "shell.execute_reply.started": "2022-11-07T15:47:23.552042Z",
          "shell.execute_reply": "2022-11-07T15:47:23.996196Z"
        },
        "trusted": true,
        "id": "uwhLb14057hz"
      },
      "execution_count": null,
      "outputs": []
    },
    {
      "cell_type": "code",
      "source": [
        "y_pred = model1.predict(X_train)\n",
        "y_true = y_train\n",
        "from sklearn.metrics import confusion_matrix\n",
        "cm = confusion_matrix(y_true, y_pred)\n",
        "import seaborn as sns\n",
        "import matplotlib.pyplot as plt \n",
        "f, ax = plt.subplots(figsize = (5, 5))\n",
        "sns.heatmap(cm, annot = True, linewidths = 0.5, linecolor = \"Black\", fmt = \".0f\", ax = ax) \n",
        "plt.show()\n",
        "\n",
        "from sklearn.metrics import classification_report\n",
        "print(classification_report(y_true, y_pred))"
      ],
      "metadata": {
        "execution": {
          "iopub.status.busy": "2022-11-07T15:47:54.279226Z",
          "iopub.execute_input": "2022-11-07T15:47:54.279600Z",
          "iopub.status.idle": "2022-11-07T15:47:54.733945Z",
          "shell.execute_reply.started": "2022-11-07T15:47:54.279542Z",
          "shell.execute_reply": "2022-11-07T15:47:54.733117Z"
        },
        "trusted": true,
        "id": "RCUmeLFu57h0"
      },
      "execution_count": null,
      "outputs": []
    }
  ]
}