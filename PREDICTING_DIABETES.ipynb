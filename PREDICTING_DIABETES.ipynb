{
  "nbformat": 4,
  "nbformat_minor": 0,
  "metadata": {
    "colab": {
      "provenance": [],
      "collapsed_sections": [
        "7MBZFfvmPeI1",
        "PZ_q93IxpO8y"
      ]
    },
    "kernelspec": {
      "name": "python3",
      "display_name": "Python 3"
    },
    "language_info": {
      "name": "python"
    }
  },
  "cells": [
    {
      "cell_type": "markdown",
      "source": [
        "### Importing necessary libraries"
      ],
      "metadata": {
        "id": "QswvDPegPW4o"
      }
    },
    {
      "cell_type": "code",
      "execution_count": null,
      "metadata": {
        "id": "am_8LJC1MzYf"
      },
      "outputs": [],
      "source": [
        "import numpy as np\n",
        "import pandas as pd\n",
        "import matplotlib.pyplot as plt\n",
        "import seaborn as sns\n",
        "from sklearn.preprocessing import StandardScaler\n",
        "from sklearn.model_selection import train_test_split\n",
        "from sklearn.preprocessing import MinMaxScaler\n",
        "from sklearn.metrics import accuracy_score, confusion_matrix, classification_report"
      ]
    },
    {
      "cell_type": "code",
      "source": [
        "\n",
        "from google.colab import drive\n",
        "drive.mount('/content/drive')"
      ],
      "metadata": {
        "colab": {
          "base_uri": "https://localhost:8080/"
        },
        "id": "IOtddY63M4TD",
        "outputId": "0ac4725f-c93b-468a-8127-bd30d51ca6df"
      },
      "execution_count": null,
      "outputs": [
        {
          "output_type": "stream",
          "name": "stdout",
          "text": [
            "Mounted at /content/drive\n"
          ]
        }
      ]
    },
    {
      "cell_type": "markdown",
      "source": [
        "### Loading data"
      ],
      "metadata": {
        "id": "3XDHYE-zPbWT"
      }
    },
    {
      "cell_type": "code",
      "source": [
        "df = pd.read_csv('/content/drive/My Drive/combinedDS.csv')\n",
        "df"
      ],
      "metadata": {
        "colab": {
          "base_uri": "https://localhost:8080/",
          "height": 488
        },
        "id": "KhLvlgCNOrOU",
        "outputId": "73f166a2-f2c3-46d8-f452-e6e56a318633"
      },
      "execution_count": null,
      "outputs": [
        {
          "output_type": "execute_result",
          "data": {
            "text/plain": [
              "       Pregnancies  PlasmaGlucose/Glucose  \\\n",
              "0                0                    171   \n",
              "1                8                     92   \n",
              "2                7                    115   \n",
              "3                9                    103   \n",
              "4                1                     85   \n",
              "...            ...                    ...   \n",
              "15763           10                    101   \n",
              "15764            2                    122   \n",
              "15765            5                    121   \n",
              "15766            1                    126   \n",
              "15767            1                     93   \n",
              "\n",
              "       DiastolicBloodPressure/BloodPressure  TricepsThickness/SkinThickness  \\\n",
              "0                                        80                              34   \n",
              "1                                        93                              47   \n",
              "2                                        47                              52   \n",
              "3                                        78                              25   \n",
              "4                                        59                              27   \n",
              "...                                     ...                             ...   \n",
              "15763                                    76                              48   \n",
              "15764                                    70                              27   \n",
              "15765                                    72                              23   \n",
              "15766                                    60                               0   \n",
              "15767                                    70                              31   \n",
              "\n",
              "       SerumInsulin/Insulin        BMI  DiabetesPedigree  Age  Diabetic  \n",
              "0                        23  43.509726          1.213191   21         0  \n",
              "1                        36  21.240576          0.158365   23         0  \n",
              "2                        35  41.511523          0.079019   23         0  \n",
              "3                       304  29.582192          1.282870   43         1  \n",
              "4                        35  42.604536          0.549542   22         0  \n",
              "...                     ...        ...               ...  ...       ...  \n",
              "15763                   180  32.900000          0.171000   63         0  \n",
              "15764                     0  36.800000          0.340000   27         0  \n",
              "15765                   112  26.200000          0.245000   30         0  \n",
              "15766                     0  30.100000          0.349000   47         1  \n",
              "15767                     0  30.400000          0.315000   23         0  \n",
              "\n",
              "[15768 rows x 9 columns]"
            ],
            "text/html": [
              "\n",
              "  <div id=\"df-05a846b1-191c-4e70-b7d4-ccf016c90d64\">\n",
              "    <div class=\"colab-df-container\">\n",
              "      <div>\n",
              "<style scoped>\n",
              "    .dataframe tbody tr th:only-of-type {\n",
              "        vertical-align: middle;\n",
              "    }\n",
              "\n",
              "    .dataframe tbody tr th {\n",
              "        vertical-align: top;\n",
              "    }\n",
              "\n",
              "    .dataframe thead th {\n",
              "        text-align: right;\n",
              "    }\n",
              "</style>\n",
              "<table border=\"1\" class=\"dataframe\">\n",
              "  <thead>\n",
              "    <tr style=\"text-align: right;\">\n",
              "      <th></th>\n",
              "      <th>Pregnancies</th>\n",
              "      <th>PlasmaGlucose/Glucose</th>\n",
              "      <th>DiastolicBloodPressure/BloodPressure</th>\n",
              "      <th>TricepsThickness/SkinThickness</th>\n",
              "      <th>SerumInsulin/Insulin</th>\n",
              "      <th>BMI</th>\n",
              "      <th>DiabetesPedigree</th>\n",
              "      <th>Age</th>\n",
              "      <th>Diabetic</th>\n",
              "    </tr>\n",
              "  </thead>\n",
              "  <tbody>\n",
              "    <tr>\n",
              "      <th>0</th>\n",
              "      <td>0</td>\n",
              "      <td>171</td>\n",
              "      <td>80</td>\n",
              "      <td>34</td>\n",
              "      <td>23</td>\n",
              "      <td>43.509726</td>\n",
              "      <td>1.213191</td>\n",
              "      <td>21</td>\n",
              "      <td>0</td>\n",
              "    </tr>\n",
              "    <tr>\n",
              "      <th>1</th>\n",
              "      <td>8</td>\n",
              "      <td>92</td>\n",
              "      <td>93</td>\n",
              "      <td>47</td>\n",
              "      <td>36</td>\n",
              "      <td>21.240576</td>\n",
              "      <td>0.158365</td>\n",
              "      <td>23</td>\n",
              "      <td>0</td>\n",
              "    </tr>\n",
              "    <tr>\n",
              "      <th>2</th>\n",
              "      <td>7</td>\n",
              "      <td>115</td>\n",
              "      <td>47</td>\n",
              "      <td>52</td>\n",
              "      <td>35</td>\n",
              "      <td>41.511523</td>\n",
              "      <td>0.079019</td>\n",
              "      <td>23</td>\n",
              "      <td>0</td>\n",
              "    </tr>\n",
              "    <tr>\n",
              "      <th>3</th>\n",
              "      <td>9</td>\n",
              "      <td>103</td>\n",
              "      <td>78</td>\n",
              "      <td>25</td>\n",
              "      <td>304</td>\n",
              "      <td>29.582192</td>\n",
              "      <td>1.282870</td>\n",
              "      <td>43</td>\n",
              "      <td>1</td>\n",
              "    </tr>\n",
              "    <tr>\n",
              "      <th>4</th>\n",
              "      <td>1</td>\n",
              "      <td>85</td>\n",
              "      <td>59</td>\n",
              "      <td>27</td>\n",
              "      <td>35</td>\n",
              "      <td>42.604536</td>\n",
              "      <td>0.549542</td>\n",
              "      <td>22</td>\n",
              "      <td>0</td>\n",
              "    </tr>\n",
              "    <tr>\n",
              "      <th>...</th>\n",
              "      <td>...</td>\n",
              "      <td>...</td>\n",
              "      <td>...</td>\n",
              "      <td>...</td>\n",
              "      <td>...</td>\n",
              "      <td>...</td>\n",
              "      <td>...</td>\n",
              "      <td>...</td>\n",
              "      <td>...</td>\n",
              "    </tr>\n",
              "    <tr>\n",
              "      <th>15763</th>\n",
              "      <td>10</td>\n",
              "      <td>101</td>\n",
              "      <td>76</td>\n",
              "      <td>48</td>\n",
              "      <td>180</td>\n",
              "      <td>32.900000</td>\n",
              "      <td>0.171000</td>\n",
              "      <td>63</td>\n",
              "      <td>0</td>\n",
              "    </tr>\n",
              "    <tr>\n",
              "      <th>15764</th>\n",
              "      <td>2</td>\n",
              "      <td>122</td>\n",
              "      <td>70</td>\n",
              "      <td>27</td>\n",
              "      <td>0</td>\n",
              "      <td>36.800000</td>\n",
              "      <td>0.340000</td>\n",
              "      <td>27</td>\n",
              "      <td>0</td>\n",
              "    </tr>\n",
              "    <tr>\n",
              "      <th>15765</th>\n",
              "      <td>5</td>\n",
              "      <td>121</td>\n",
              "      <td>72</td>\n",
              "      <td>23</td>\n",
              "      <td>112</td>\n",
              "      <td>26.200000</td>\n",
              "      <td>0.245000</td>\n",
              "      <td>30</td>\n",
              "      <td>0</td>\n",
              "    </tr>\n",
              "    <tr>\n",
              "      <th>15766</th>\n",
              "      <td>1</td>\n",
              "      <td>126</td>\n",
              "      <td>60</td>\n",
              "      <td>0</td>\n",
              "      <td>0</td>\n",
              "      <td>30.100000</td>\n",
              "      <td>0.349000</td>\n",
              "      <td>47</td>\n",
              "      <td>1</td>\n",
              "    </tr>\n",
              "    <tr>\n",
              "      <th>15767</th>\n",
              "      <td>1</td>\n",
              "      <td>93</td>\n",
              "      <td>70</td>\n",
              "      <td>31</td>\n",
              "      <td>0</td>\n",
              "      <td>30.400000</td>\n",
              "      <td>0.315000</td>\n",
              "      <td>23</td>\n",
              "      <td>0</td>\n",
              "    </tr>\n",
              "  </tbody>\n",
              "</table>\n",
              "<p>15768 rows × 9 columns</p>\n",
              "</div>\n",
              "      <button class=\"colab-df-convert\" onclick=\"convertToInteractive('df-05a846b1-191c-4e70-b7d4-ccf016c90d64')\"\n",
              "              title=\"Convert this dataframe to an interactive table.\"\n",
              "              style=\"display:none;\">\n",
              "        \n",
              "  <svg xmlns=\"http://www.w3.org/2000/svg\" height=\"24px\"viewBox=\"0 0 24 24\"\n",
              "       width=\"24px\">\n",
              "    <path d=\"M0 0h24v24H0V0z\" fill=\"none\"/>\n",
              "    <path d=\"M18.56 5.44l.94 2.06.94-2.06 2.06-.94-2.06-.94-.94-2.06-.94 2.06-2.06.94zm-11 1L8.5 8.5l.94-2.06 2.06-.94-2.06-.94L8.5 2.5l-.94 2.06-2.06.94zm10 10l.94 2.06.94-2.06 2.06-.94-2.06-.94-.94-2.06-.94 2.06-2.06.94z\"/><path d=\"M17.41 7.96l-1.37-1.37c-.4-.4-.92-.59-1.43-.59-.52 0-1.04.2-1.43.59L10.3 9.45l-7.72 7.72c-.78.78-.78 2.05 0 2.83L4 21.41c.39.39.9.59 1.41.59.51 0 1.02-.2 1.41-.59l7.78-7.78 2.81-2.81c.8-.78.8-2.07 0-2.86zM5.41 20L4 18.59l7.72-7.72 1.47 1.35L5.41 20z\"/>\n",
              "  </svg>\n",
              "      </button>\n",
              "      \n",
              "  <style>\n",
              "    .colab-df-container {\n",
              "      display:flex;\n",
              "      flex-wrap:wrap;\n",
              "      gap: 12px;\n",
              "    }\n",
              "\n",
              "    .colab-df-convert {\n",
              "      background-color: #E8F0FE;\n",
              "      border: none;\n",
              "      border-radius: 50%;\n",
              "      cursor: pointer;\n",
              "      display: none;\n",
              "      fill: #1967D2;\n",
              "      height: 32px;\n",
              "      padding: 0 0 0 0;\n",
              "      width: 32px;\n",
              "    }\n",
              "\n",
              "    .colab-df-convert:hover {\n",
              "      background-color: #E2EBFA;\n",
              "      box-shadow: 0px 1px 2px rgba(60, 64, 67, 0.3), 0px 1px 3px 1px rgba(60, 64, 67, 0.15);\n",
              "      fill: #174EA6;\n",
              "    }\n",
              "\n",
              "    [theme=dark] .colab-df-convert {\n",
              "      background-color: #3B4455;\n",
              "      fill: #D2E3FC;\n",
              "    }\n",
              "\n",
              "    [theme=dark] .colab-df-convert:hover {\n",
              "      background-color: #434B5C;\n",
              "      box-shadow: 0px 1px 3px 1px rgba(0, 0, 0, 0.15);\n",
              "      filter: drop-shadow(0px 1px 2px rgba(0, 0, 0, 0.3));\n",
              "      fill: #FFFFFF;\n",
              "    }\n",
              "  </style>\n",
              "\n",
              "      <script>\n",
              "        const buttonEl =\n",
              "          document.querySelector('#df-05a846b1-191c-4e70-b7d4-ccf016c90d64 button.colab-df-convert');\n",
              "        buttonEl.style.display =\n",
              "          google.colab.kernel.accessAllowed ? 'block' : 'none';\n",
              "\n",
              "        async function convertToInteractive(key) {\n",
              "          const element = document.querySelector('#df-05a846b1-191c-4e70-b7d4-ccf016c90d64');\n",
              "          const dataTable =\n",
              "            await google.colab.kernel.invokeFunction('convertToInteractive',\n",
              "                                                     [key], {});\n",
              "          if (!dataTable) return;\n",
              "\n",
              "          const docLinkHtml = 'Like what you see? Visit the ' +\n",
              "            '<a target=\"_blank\" href=https://colab.research.google.com/notebooks/data_table.ipynb>data table notebook</a>'\n",
              "            + ' to learn more about interactive tables.';\n",
              "          element.innerHTML = '';\n",
              "          dataTable['output_type'] = 'display_data';\n",
              "          await google.colab.output.renderOutput(dataTable, element);\n",
              "          const docLink = document.createElement('div');\n",
              "          docLink.innerHTML = docLinkHtml;\n",
              "          element.appendChild(docLink);\n",
              "        }\n",
              "      </script>\n",
              "    </div>\n",
              "  </div>\n",
              "  "
            ]
          },
          "metadata": {},
          "execution_count": 2
        }
      ]
    },
    {
      "cell_type": "markdown",
      "source": [
        "### Checking for null values "
      ],
      "metadata": {
        "id": "PD6hYxeXPO0V"
      }
    },
    {
      "cell_type": "code",
      "source": [
        "df.isnull().sum()"
      ],
      "metadata": {
        "colab": {
          "base_uri": "https://localhost:8080/"
        },
        "id": "09y0NzZKO_2h",
        "outputId": "082c42aa-c2a7-4b3b-d7b2-7e634693dd19"
      },
      "execution_count": null,
      "outputs": [
        {
          "output_type": "execute_result",
          "data": {
            "text/plain": [
              "Pregnancies                             0\n",
              "PlasmaGlucose/Glucose                   0\n",
              "DiastolicBloodPressure/BloodPressure    0\n",
              "TricepsThickness/SkinThickness          0\n",
              "SerumInsulin/Insulin                    0\n",
              "BMI                                     0\n",
              "DiabetesPedigree                        0\n",
              "Age                                     0\n",
              "Diabetic                                0\n",
              "dtype: int64"
            ]
          },
          "metadata": {},
          "execution_count": 5
        }
      ]
    },
    {
      "cell_type": "markdown",
      "source": [
        "### Some data visualization"
      ],
      "metadata": {
        "id": "7MBZFfvmPeI1"
      }
    },
    {
      "cell_type": "code",
      "source": [
        "df.plot.line(figsize=(8,6))\n",
        "plt.show()"
      ],
      "metadata": {
        "id": "mCSSy_KVKMXV",
        "colab": {
          "base_uri": "https://localhost:8080/",
          "height": 374
        },
        "outputId": "9f781bd1-6792-4ab4-d548-d55c075d4292"
      },
      "execution_count": null,
      "outputs": [
        {
          "output_type": "display_data",
          "data": {
            "text/plain": [
              "<Figure size 576x432 with 1 Axes>"
            ],
            "image/png": "[encoded data removed]"
          },
          "metadata": {
            "needs_background": "light"
          }
        }
      ]
    },
    {
      "cell_type": "code",
      "source": [
        "df.hist()\n",
        "plt.show()"
      ],
      "metadata": {
        "colab": {
          "base_uri": "https://localhost:8080/",
          "height": 281
        },
        "id": "8SZAkLKIjAU3",
        "outputId": "24ad1f71-5d3d-4fd0-bf60-eaa4fa43c64a"
      },
      "execution_count": null,
      "outputs": [
        {
          "output_type": "display_data",
          "data": {
            "text/plain": [
              "<Figure size 432x288 with 9 Axes>"
            ],
            "image/png": "[encoded data removed]"
          },
          "metadata": {
            "needs_background": "light"
          }
        }
      ]
    },
    {
      "cell_type": "code",
      "source": [
        "df.plot(kind='density',subplots=True,sharex=False)\n",
        "plt.show()"
      ],
      "metadata": {
        "colab": {
          "base_uri": "https://localhost:8080/",
          "height": 274
        },
        "id": "KnOdn43zkw-2",
        "outputId": "d59a5a1b-a523-4d07-f633-f28e6a74c3b2"
      },
      "execution_count": null,
      "outputs": [
        {
          "output_type": "display_data",
          "data": {
            "text/plain": [
              "<Figure size 432x288 with 9 Axes>"
            ],
            "image/png": "[encoded data removed]"
          },
          "metadata": {
            "needs_background": "light"
          }
        }
      ]
    },
    {
      "cell_type": "code",
      "source": [
        "df.plot(kind='box',subplots=True,sharex=False,sharey=False)"
      ],
      "metadata": {
        "colab": {
          "base_uri": "https://localhost:8080/",
          "height": 442
        },
        "id": "8rPOFLjMk_Dy",
        "outputId": "406c2eb3-5c23-431e-9668-5e3b14661f8a"
      },
      "execution_count": null,
      "outputs": [
        {
          "output_type": "execute_result",
          "data": {
            "text/plain": [
              "Pregnancies                                AxesSubplot(0.125,0.125;0.0731132x0.755)\n",
              "PlasmaGlucose/Glucose                   AxesSubplot(0.212736,0.125;0.0731132x0.755)\n",
              "DiastolicBloodPressure/BloodPressure    AxesSubplot(0.300472,0.125;0.0731132x0.755)\n",
              "TricepsThickness/SkinThickness          AxesSubplot(0.388208,0.125;0.0731132x0.755)\n",
              "SerumInsulin/Insulin                    AxesSubplot(0.475943,0.125;0.0731132x0.755)\n",
              "BMI                                     AxesSubplot(0.563679,0.125;0.0731132x0.755)\n",
              "DiabetesPedigree                        AxesSubplot(0.651415,0.125;0.0731132x0.755)\n",
              "Age                                     AxesSubplot(0.739151,0.125;0.0731132x0.755)\n",
              "Diabetic                                AxesSubplot(0.826887,0.125;0.0731132x0.755)\n",
              "dtype: object"
            ]
          },
          "metadata": {},
          "execution_count": 22
        },
        {
          "output_type": "display_data",
          "data": {
            "text/plain": [
              "<Figure size 432x288 with 9 Axes>"
            ],
            "image/png": "[encoded data removed]"
          },
          "metadata": {
            "needs_background": "light"
          }
        }
      ]
    },
    {
      "cell_type": "code",
      "source": [
        " correlations=df.corr()\n",
        " fig=plt.figure()\n",
        " ax=fig.add_subplot(111)\n",
        " cax=ax.matshow(correlations,vmin=-1,vmax=1)\n",
        " fig.colorbar(cax)\n",
        " ticks=np.arange(0,9,1)\n",
        " ax.set_xticks(ticks)\n",
        " ax.set_yticks(ticks)\n",
        " plt.show()"
      ],
      "metadata": {
        "colab": {
          "base_uri": "https://localhost:8080/",
          "height": 271
        },
        "id": "vA4LoPXqlHkU",
        "outputId": "39ce8755-63be-48ce-b678-6c6d199f195d"
      },
      "execution_count": null,
      "outputs": [
        {
          "output_type": "display_data",
          "data": {
            "text/plain": [
              "<Figure size 432x288 with 2 Axes>"
            ],
            "image/png": "[encoded data removed]"
          },
          "metadata": {
            "needs_background": "light"
          }
        }
      ]
    },
    {
      "cell_type": "code",
      "source": [
        " pd.plotting.scatter_matrix(df)"
      ],
      "metadata": {
        "colab": {
          "base_uri": "https://localhost:8080/",
          "height": 1000
        },
        "id": "LUFjjIHhlQJB",
        "outputId": "2117bcd6-3718-4513-f081-00d480942290"
      },
      "execution_count": null,
      "outputs": [
        {
          "output_type": "execute_result",
          "data": {
            "text/plain": [
              "array([[<matplotlib.axes._subplots.AxesSubplot object at 0x7f3f16bbb710>,\n",
              "        <matplotlib.axes._subplots.AxesSubplot object at 0x7f3f16b6db90>,\n",
              "        <matplotlib.axes._subplots.AxesSubplot object at 0x7f3f16b19b90>,\n",
              "        <matplotlib.axes._subplots.AxesSubplot object at 0x7f3f16ae5590>,\n",
              "        <matplotlib.axes._subplots.AxesSubplot object at 0x7f3f16a9ca90>,\n",
              "        <matplotlib.axes._subplots.AxesSubplot object at 0x7f3f16a53f90>,\n",
              "        <matplotlib.axes._subplots.AxesSubplot object at 0x7f3f16a18550>,\n",
              "        <matplotlib.axes._subplots.AxesSubplot object at 0x7f3f16a4d990>,\n",
              "        <matplotlib.axes._subplots.AxesSubplot object at 0x7f3f16a4d9d0>],\n",
              "       [<matplotlib.axes._subplots.AxesSubplot object at 0x7f3f16a03fd0>,\n",
              "        <matplotlib.axes._subplots.AxesSubplot object at 0x7f3f1697d910>,\n",
              "        <matplotlib.axes._subplots.AxesSubplot object at 0x7f3f16932e10>,\n",
              "        <matplotlib.axes._subplots.AxesSubplot object at 0x7f3f168f6350>,\n",
              "        <matplotlib.axes._subplots.AxesSubplot object at 0x7f3f168ad850>,\n",
              "        <matplotlib.axes._subplots.AxesSubplot object at 0x7f3f16863d50>,\n",
              "        <matplotlib.axes._subplots.AxesSubplot object at 0x7f3f16829290>,\n",
              "        <matplotlib.axes._subplots.AxesSubplot object at 0x7f3f167de7d0>,\n",
              "        <matplotlib.axes._subplots.AxesSubplot object at 0x7f3f16794d10>],\n",
              "       [<matplotlib.axes._subplots.AxesSubplot object at 0x7f3f16758250>,\n",
              "        <matplotlib.axes._subplots.AxesSubplot object at 0x7f3f1678e750>,\n",
              "        <matplotlib.axes._subplots.AxesSubplot object at 0x7f3f16743c50>,\n",
              "        <matplotlib.axes._subplots.AxesSubplot object at 0x7f3f16706190>,\n",
              "        <matplotlib.axes._subplots.AxesSubplot object at 0x7f3f166bd690>,\n",
              "        <matplotlib.axes._subplots.AxesSubplot object at 0x7f3f16676b90>,\n",
              "        <matplotlib.axes._subplots.AxesSubplot object at 0x7f3f166380d0>,\n",
              "        <matplotlib.axes._subplots.AxesSubplot object at 0x7f3f165ee5d0>,\n",
              "        <matplotlib.axes._subplots.AxesSubplot object at 0x7f3f165a3ad0>],\n",
              "       [<matplotlib.axes._subplots.AxesSubplot object at 0x7f3f165d0b10>,\n",
              "        <matplotlib.axes._subplots.AxesSubplot object at 0x7f3f1651d510>,\n",
              "        <matplotlib.axes._subplots.AxesSubplot object at 0x7f3f164d4a10>,\n",
              "        <matplotlib.axes._subplots.AxesSubplot object at 0x7f3f1650cf10>,\n",
              "        <matplotlib.axes._subplots.AxesSubplot object at 0x7f3f164cf450>,\n",
              "        <matplotlib.axes._subplots.AxesSubplot object at 0x7f3f16487950>,\n",
              "        <matplotlib.axes._subplots.AxesSubplot object at 0x7f3f1643be50>,\n",
              "        <matplotlib.axes._subplots.AxesSubplot object at 0x7f3f16400390>,\n",
              "        <matplotlib.axes._subplots.AxesSubplot object at 0x7f3f163b6890>],\n",
              "       [<matplotlib.axes._subplots.AxesSubplot object at 0x7f3f1636dd90>,\n",
              "        <matplotlib.axes._subplots.AxesSubplot object at 0x7f3f163302d0>,\n",
              "        <matplotlib.axes._subplots.AxesSubplot object at 0x7f3f162e67d0>,\n",
              "        <matplotlib.axes._subplots.AxesSubplot object at 0x7f3f1629ccd0>,\n",
              "        <matplotlib.axes._subplots.AxesSubplot object at 0x7f3f16261210>,\n",
              "        <matplotlib.axes._subplots.AxesSubplot object at 0x7f3f16217710>,\n",
              "        <matplotlib.axes._subplots.AxesSubplot object at 0x7f3f1624cc10>,\n",
              "        <matplotlib.axes._subplots.AxesSubplot object at 0x7f3f16192150>,\n",
              "        <matplotlib.axes._subplots.AxesSubplot object at 0x7f3f161c7650>],\n",
              "       [<matplotlib.axes._subplots.AxesSubplot object at 0x7f3f1617eb50>,\n",
              "        <matplotlib.axes._subplots.AxesSubplot object at 0x7f3f1612bb90>,\n",
              "        <matplotlib.axes._subplots.AxesSubplot object at 0x7f3f160fa590>,\n",
              "        <matplotlib.axes._subplots.AxesSubplot object at 0x7f3f160afa90>,\n",
              "        <matplotlib.axes._subplots.AxesSubplot object at 0x7f3f16067f90>,\n",
              "        <matplotlib.axes._subplots.AxesSubplot object at 0x7f3f1602a4d0>,\n",
              "        <matplotlib.axes._subplots.AxesSubplot object at 0x7f3f15fdd9d0>,\n",
              "        <matplotlib.axes._subplots.AxesSubplot object at 0x7f3f15f96ed0>,\n",
              "        <matplotlib.axes._subplots.AxesSubplot object at 0x7f3f15f58410>],\n",
              "       [<matplotlib.axes._subplots.AxesSubplot object at 0x7f3f15f91910>,\n",
              "        <matplotlib.axes._subplots.AxesSubplot object at 0x7f3f15f46e10>,\n",
              "        <matplotlib.axes._subplots.AxesSubplot object at 0x7f3f15f0a350>,\n",
              "        <matplotlib.axes._subplots.AxesSubplot object at 0x7f3f15ec1850>,\n",
              "        <matplotlib.axes._subplots.AxesSubplot object at 0x7f3f15e76d50>,\n",
              "        <matplotlib.axes._subplots.AxesSubplot object at 0x7f3f15e3a290>,\n",
              "        <matplotlib.axes._subplots.AxesSubplot object at 0x7f3f15df0790>,\n",
              "        <matplotlib.axes._subplots.AxesSubplot object at 0x7f3f15da7c90>,\n",
              "        <matplotlib.axes._subplots.AxesSubplot object at 0x7f3f15d6d1d0>],\n",
              "       [<matplotlib.axes._subplots.AxesSubplot object at 0x7f3f15d246d0>,\n",
              "        <matplotlib.axes._subplots.AxesSubplot object at 0x7f3f15cd9bd0>,\n",
              "        <matplotlib.axes._subplots.AxesSubplot object at 0x7f3f15c9d110>,\n",
              "        <matplotlib.axes._subplots.AxesSubplot object at 0x7f3f15c53610>,\n",
              "        <matplotlib.axes._subplots.AxesSubplot object at 0x7f3f15c8ab10>,\n",
              "        <matplotlib.axes._subplots.AxesSubplot object at 0x7f3f15c41fd0>,\n",
              "        <matplotlib.axes._subplots.AxesSubplot object at 0x7f3f15c04550>,\n",
              "        <matplotlib.axes._subplots.AxesSubplot object at 0x7f3f15bbcbd0>,\n",
              "        <matplotlib.axes._subplots.AxesSubplot object at 0x7f3f15b83290>],\n",
              "       [<matplotlib.axes._subplots.AxesSubplot object at 0x7f3f15b3d510>,\n",
              "        <matplotlib.axes._subplots.AxesSubplot object at 0x7f3f15af39d0>,\n",
              "        <matplotlib.axes._subplots.AxesSubplot object at 0x7f3f15aaaed0>,\n",
              "        <matplotlib.axes._subplots.AxesSubplot object at 0x7f3f15a6d410>,\n",
              "        <matplotlib.axes._subplots.AxesSubplot object at 0x7f3f15a23910>,\n",
              "        <matplotlib.axes._subplots.AxesSubplot object at 0x7f3f159dbe10>,\n",
              "        <matplotlib.axes._subplots.AxesSubplot object at 0x7f3f1599f350>,\n",
              "        <matplotlib.axes._subplots.AxesSubplot object at 0x7f3f15955850>,\n",
              "        <matplotlib.axes._subplots.AxesSubplot object at 0x7f3f1598cd50>]],\n",
              "      dtype=object)"
            ]
          },
          "metadata": {},
          "execution_count": 30
        },
        {
          "output_type": "display_data",
          "data": {
            "text/plain": [
              "<Figure size 432x288 with 81 Axes>"
            ],
            "image/png": "[encoded data removed]"
          },
          "metadata": {
            "needs_background": "light"
          }
        }
      ]
    },
    {
      "cell_type": "code",
      "source": [
        "df[\"Diabetic\"].plot.kde()\n",
        "plt.show()"
      ],
      "metadata": {
        "colab": {
          "base_uri": "https://localhost:8080/",
          "height": 265
        },
        "id": "PwdHBMZ-lhuW",
        "outputId": "685b1661-73fb-4a33-9c20-18c806cf31c0"
      },
      "execution_count": null,
      "outputs": [
        {
          "output_type": "display_data",
          "data": {
            "text/plain": [
              "<Figure size 432x288 with 1 Axes>"
            ],
            "image/png": "[encoded data removed]"
          },
          "metadata": {
            "needs_background": "light"
          }
        }
      ]
    },
    {
      "cell_type": "code",
      "source": [
        "df.plot.box(figsize=(8,6))\n",
        "plt.show()"
      ],
      "metadata": {
        "colab": {
          "base_uri": "https://localhost:8080/",
          "height": 374
        },
        "id": "7wHA0IuJmIDz",
        "outputId": "8453a313-7183-4643-a02f-9a0aff42c20e"
      },
      "execution_count": null,
      "outputs": [
        {
          "output_type": "display_data",
          "data": {
            "text/plain": [
              "<Figure size 576x432 with 1 Axes>"
            ],
            "image/png": "[encoded data removed]"
          },
          "metadata": {
            "needs_background": "light"
          }
        }
      ]
    },
    {
      "cell_type": "code",
      "source": [
        "df[\"Diabetic\"].hist()\n",
        "plt.show()"
      ],
      "metadata": {
        "colab": {
          "base_uri": "https://localhost:8080/",
          "height": 265
        },
        "id": "DuJGx2HFmRDD",
        "outputId": "83b47982-b71c-4767-b45d-20a844cc7bd4"
      },
      "execution_count": null,
      "outputs": [
        {
          "output_type": "display_data",
          "data": {
            "text/plain": [
              "<Figure size 432x288 with 1 Axes>"
            ],
            "image/png": "[encoded data removed]"
          },
          "metadata": {
            "needs_background": "light"
          }
        }
      ]
    },
    {
      "cell_type": "markdown",
      "source": [
        "### Data Splitting"
      ],
      "metadata": {
        "id": "pTWfID7jmiGi"
      }
    },
    {
      "cell_type": "code",
      "source": [
        "y = df.Diabetic\n",
        "x = df.drop('Diabetic', axis=1)"
      ],
      "metadata": {
        "id": "rZOlEbFmm50Z"
      },
      "execution_count": null,
      "outputs": []
    },
    {
      "cell_type": "code",
      "source": [
        "x_train, x_test, y_train, y_test = train_test_split(x, y, test_size=0.2)\n",
        "x_train.head()"
      ],
      "metadata": {
        "colab": {
          "base_uri": "https://localhost:8080/",
          "height": 270
        },
        "id": "yazfJ_-HnQj0",
        "outputId": "5cd4b02b-0c95-4a2c-a37a-75e915c55447"
      },
      "execution_count": null,
      "outputs": [
        {
          "output_type": "execute_result",
          "data": {
            "text/plain": [
              "       Pregnancies  PlasmaGlucose/Glucose  \\\n",
              "15029            5                    117   \n",
              "8657             0                     89   \n",
              "2768             4                    109   \n",
              "8776            14                    114   \n",
              "11807            0                     85   \n",
              "\n",
              "       DiastolicBloodPressure/BloodPressure  TricepsThickness/SkinThickness  \\\n",
              "15029                                    92                               0   \n",
              "8657                                     63                              44   \n",
              "2768                                     81                               9   \n",
              "8776                                     76                              12   \n",
              "11807                                    86                              12   \n",
              "\n",
              "       SerumInsulin/Insulin        BMI  DiabetesPedigree  Age  \n",
              "15029                     0  34.100000          0.337000   38  \n",
              "8657                    218  40.855567          0.127805   42  \n",
              "2768                    339  27.204728          0.214603   53  \n",
              "8776                     55  30.665377          0.886569   22  \n",
              "11807                    47  20.438595          0.842283   22  "
            ],
            "text/html": [
              "\n",
              "  <div id=\"df-57b9a03a-1d9b-4cdd-9de8-93e2bb337b00\">\n",
              "    <div class=\"colab-df-container\">\n",
              "      <div>\n",
              "<style scoped>\n",
              "    .dataframe tbody tr th:only-of-type {\n",
              "        vertical-align: middle;\n",
              "    }\n",
              "\n",
              "    .dataframe tbody tr th {\n",
              "        vertical-align: top;\n",
              "    }\n",
              "\n",
              "    .dataframe thead th {\n",
              "        text-align: right;\n",
              "    }\n",
              "</style>\n",
              "<table border=\"1\" class=\"dataframe\">\n",
              "  <thead>\n",
              "    <tr style=\"text-align: right;\">\n",
              "      <th></th>\n",
              "      <th>Pregnancies</th>\n",
              "      <th>PlasmaGlucose/Glucose</th>\n",
              "      <th>DiastolicBloodPressure/BloodPressure</th>\n",
              "      <th>TricepsThickness/SkinThickness</th>\n",
              "      <th>SerumInsulin/Insulin</th>\n",
              "      <th>BMI</th>\n",
              "      <th>DiabetesPedigree</th>\n",
              "      <th>Age</th>\n",
              "    </tr>\n",
              "  </thead>\n",
              "  <tbody>\n",
              "    <tr>\n",
              "      <th>15029</th>\n",
              "      <td>5</td>\n",
              "      <td>117</td>\n",
              "      <td>92</td>\n",
              "      <td>0</td>\n",
              "      <td>0</td>\n",
              "      <td>34.100000</td>\n",
              "      <td>0.337000</td>\n",
              "      <td>38</td>\n",
              "    </tr>\n",
              "    <tr>\n",
              "      <th>8657</th>\n",
              "      <td>0</td>\n",
              "      <td>89</td>\n",
              "      <td>63</td>\n",
              "      <td>44</td>\n",
              "      <td>218</td>\n",
              "      <td>40.855567</td>\n",
              "      <td>0.127805</td>\n",
              "      <td>42</td>\n",
              "    </tr>\n",
              "    <tr>\n",
              "      <th>2768</th>\n",
              "      <td>4</td>\n",
              "      <td>109</td>\n",
              "      <td>81</td>\n",
              "      <td>9</td>\n",
              "      <td>339</td>\n",
              "      <td>27.204728</td>\n",
              "      <td>0.214603</td>\n",
              "      <td>53</td>\n",
              "    </tr>\n",
              "    <tr>\n",
              "      <th>8776</th>\n",
              "      <td>14</td>\n",
              "      <td>114</td>\n",
              "      <td>76</td>\n",
              "      <td>12</td>\n",
              "      <td>55</td>\n",
              "      <td>30.665377</td>\n",
              "      <td>0.886569</td>\n",
              "      <td>22</td>\n",
              "    </tr>\n",
              "    <tr>\n",
              "      <th>11807</th>\n",
              "      <td>0</td>\n",
              "      <td>85</td>\n",
              "      <td>86</td>\n",
              "      <td>12</td>\n",
              "      <td>47</td>\n",
              "      <td>20.438595</td>\n",
              "      <td>0.842283</td>\n",
              "      <td>22</td>\n",
              "    </tr>\n",
              "  </tbody>\n",
              "</table>\n",
              "</div>\n",
              "      <button class=\"colab-df-convert\" onclick=\"convertToInteractive('df-57b9a03a-1d9b-4cdd-9de8-93e2bb337b00')\"\n",
              "              title=\"Convert this dataframe to an interactive table.\"\n",
              "              style=\"display:none;\">\n",
              "        \n",
              "  <svg xmlns=\"http://www.w3.org/2000/svg\" height=\"24px\"viewBox=\"0 0 24 24\"\n",
              "       width=\"24px\">\n",
              "    <path d=\"M0 0h24v24H0V0z\" fill=\"none\"/>\n",
              "    <path d=\"M18.56 5.44l.94 2.06.94-2.06 2.06-.94-2.06-.94-.94-2.06-.94 2.06-2.06.94zm-11 1L8.5 8.5l.94-2.06 2.06-.94-2.06-.94L8.5 2.5l-.94 2.06-2.06.94zm10 10l.94 2.06.94-2.06 2.06-.94-2.06-.94-.94-2.06-.94 2.06-2.06.94z\"/><path d=\"M17.41 7.96l-1.37-1.37c-.4-.4-.92-.59-1.43-.59-.52 0-1.04.2-1.43.59L10.3 9.45l-7.72 7.72c-.78.78-.78 2.05 0 2.83L4 21.41c.39.39.9.59 1.41.59.51 0 1.02-.2 1.41-.59l7.78-7.78 2.81-2.81c.8-.78.8-2.07 0-2.86zM5.41 20L4 18.59l7.72-7.72 1.47 1.35L5.41 20z\"/>\n",
              "  </svg>\n",
              "      </button>\n",
              "      \n",
              "  <style>\n",
              "    .colab-df-container {\n",
              "      display:flex;\n",
              "      flex-wrap:wrap;\n",
              "      gap: 12px;\n",
              "    }\n",
              "\n",
              "    .colab-df-convert {\n",
              "      background-color: #E8F0FE;\n",
              "      border: none;\n",
              "      border-radius: 50%;\n",
              "      cursor: pointer;\n",
              "      display: none;\n",
              "      fill: #1967D2;\n",
              "      height: 32px;\n",
              "      padding: 0 0 0 0;\n",
              "      width: 32px;\n",
              "    }\n",
              "\n",
              "    .colab-df-convert:hover {\n",
              "      background-color: #E2EBFA;\n",
              "      box-shadow: 0px 1px 2px rgba(60, 64, 67, 0.3), 0px 1px 3px 1px rgba(60, 64, 67, 0.15);\n",
              "      fill: #174EA6;\n",
              "    }\n",
              "\n",
              "    [theme=dark] .colab-df-convert {\n",
              "      background-color: #3B4455;\n",
              "      fill: #D2E3FC;\n",
              "    }\n",
              "\n",
              "    [theme=dark] .colab-df-convert:hover {\n",
              "      background-color: #434B5C;\n",
              "      box-shadow: 0px 1px 3px 1px rgba(0, 0, 0, 0.15);\n",
              "      filter: drop-shadow(0px 1px 2px rgba(0, 0, 0, 0.3));\n",
              "      fill: #FFFFFF;\n",
              "    }\n",
              "  </style>\n",
              "\n",
              "      <script>\n",
              "        const buttonEl =\n",
              "          document.querySelector('#df-57b9a03a-1d9b-4cdd-9de8-93e2bb337b00 button.colab-df-convert');\n",
              "        buttonEl.style.display =\n",
              "          google.colab.kernel.accessAllowed ? 'block' : 'none';\n",
              "\n",
              "        async function convertToInteractive(key) {\n",
              "          const element = document.querySelector('#df-57b9a03a-1d9b-4cdd-9de8-93e2bb337b00');\n",
              "          const dataTable =\n",
              "            await google.colab.kernel.invokeFunction('convertToInteractive',\n",
              "                                                     [key], {});\n",
              "          if (!dataTable) return;\n",
              "\n",
              "          const docLinkHtml = 'Like what you see? Visit the ' +\n",
              "            '<a target=\"_blank\" href=https://colab.research.google.com/notebooks/data_table.ipynb>data table notebook</a>'\n",
              "            + ' to learn more about interactive tables.';\n",
              "          element.innerHTML = '';\n",
              "          dataTable['output_type'] = 'display_data';\n",
              "          await google.colab.output.renderOutput(dataTable, element);\n",
              "          const docLink = document.createElement('div');\n",
              "          docLink.innerHTML = docLinkHtml;\n",
              "          element.appendChild(docLink);\n",
              "        }\n",
              "      </script>\n",
              "    </div>\n",
              "  </div>\n",
              "  "
            ]
          },
          "metadata": {},
          "execution_count": 4
        }
      ]
    },
    {
      "cell_type": "code",
      "source": [
        "x_train.shape"
      ],
      "metadata": {
        "colab": {
          "base_uri": "https://localhost:8080/"
        },
        "id": "cpnaDLxCngRe",
        "outputId": "72094ee8-6b62-41dd-c5fe-72c478942691"
      },
      "execution_count": null,
      "outputs": [
        {
          "output_type": "execute_result",
          "data": {
            "text/plain": [
              "(12614, 8)"
            ]
          },
          "metadata": {},
          "execution_count": 5
        }
      ]
    },
    {
      "cell_type": "code",
      "source": [
        "x_test.head()"
      ],
      "metadata": {
        "colab": {
          "base_uri": "https://localhost:8080/",
          "height": 270
        },
        "id": "zG2sLPyInlW-",
        "outputId": "649090d0-85ef-4f42-e458-7d4ce64efc5c"
      },
      "execution_count": null,
      "outputs": [
        {
          "output_type": "execute_result",
          "data": {
            "text/plain": [
              "       Pregnancies  PlasmaGlucose/Glucose  \\\n",
              "8653             0                    156   \n",
              "3495             1                     59   \n",
              "1674             0                    109   \n",
              "10017            0                     97   \n",
              "4647             0                     96   \n",
              "\n",
              "       DiastolicBloodPressure/BloodPressure  TricepsThickness/SkinThickness  \\\n",
              "8653                                     79                              33   \n",
              "3495                                     87                              31   \n",
              "1674                                     87                              31   \n",
              "10017                                    63                              45   \n",
              "4647                                     61                              41   \n",
              "\n",
              "       SerumInsulin/Insulin        BMI  DiabetesPedigree  Age  \n",
              "8653                    204  19.168125          0.088306   21  \n",
              "3495                     95  30.421390          0.464941   57  \n",
              "1674                    165  18.562167          0.143872   32  \n",
              "10017                    50  21.339073          0.165936   24  \n",
              "4647                     53  34.377257          0.190524   22  "
            ],
            "text/html": [
              "\n",
              "  <div id=\"df-4982c7d3-9586-4e04-a676-64b0fba3b4f8\">\n",
              "    <div class=\"colab-df-container\">\n",
              "      <div>\n",
              "<style scoped>\n",
              "    .dataframe tbody tr th:only-of-type {\n",
              "        vertical-align: middle;\n",
              "    }\n",
              "\n",
              "    .dataframe tbody tr th {\n",
              "        vertical-align: top;\n",
              "    }\n",
              "\n",
              "    .dataframe thead th {\n",
              "        text-align: right;\n",
              "    }\n",
              "</style>\n",
              "<table border=\"1\" class=\"dataframe\">\n",
              "  <thead>\n",
              "    <tr style=\"text-align: right;\">\n",
              "      <th></th>\n",
              "      <th>Pregnancies</th>\n",
              "      <th>PlasmaGlucose/Glucose</th>\n",
              "      <th>DiastolicBloodPressure/BloodPressure</th>\n",
              "      <th>TricepsThickness/SkinThickness</th>\n",
              "      <th>SerumInsulin/Insulin</th>\n",
              "      <th>BMI</th>\n",
              "      <th>DiabetesPedigree</th>\n",
              "      <th>Age</th>\n",
              "    </tr>\n",
              "  </thead>\n",
              "  <tbody>\n",
              "    <tr>\n",
              "      <th>8653</th>\n",
              "      <td>0</td>\n",
              "      <td>156</td>\n",
              "      <td>79</td>\n",
              "      <td>33</td>\n",
              "      <td>204</td>\n",
              "      <td>19.168125</td>\n",
              "      <td>0.088306</td>\n",
              "      <td>21</td>\n",
              "    </tr>\n",
              "    <tr>\n",
              "      <th>3495</th>\n",
              "      <td>1</td>\n",
              "      <td>59</td>\n",
              "      <td>87</td>\n",
              "      <td>31</td>\n",
              "      <td>95</td>\n",
              "      <td>30.421390</td>\n",
              "      <td>0.464941</td>\n",
              "      <td>57</td>\n",
              "    </tr>\n",
              "    <tr>\n",
              "      <th>1674</th>\n",
              "      <td>0</td>\n",
              "      <td>109</td>\n",
              "      <td>87</td>\n",
              "      <td>31</td>\n",
              "      <td>165</td>\n",
              "      <td>18.562167</td>\n",
              "      <td>0.143872</td>\n",
              "      <td>32</td>\n",
              "    </tr>\n",
              "    <tr>\n",
              "      <th>10017</th>\n",
              "      <td>0</td>\n",
              "      <td>97</td>\n",
              "      <td>63</td>\n",
              "      <td>45</td>\n",
              "      <td>50</td>\n",
              "      <td>21.339073</td>\n",
              "      <td>0.165936</td>\n",
              "      <td>24</td>\n",
              "    </tr>\n",
              "    <tr>\n",
              "      <th>4647</th>\n",
              "      <td>0</td>\n",
              "      <td>96</td>\n",
              "      <td>61</td>\n",
              "      <td>41</td>\n",
              "      <td>53</td>\n",
              "      <td>34.377257</td>\n",
              "      <td>0.190524</td>\n",
              "      <td>22</td>\n",
              "    </tr>\n",
              "  </tbody>\n",
              "</table>\n",
              "</div>\n",
              "      <button class=\"colab-df-convert\" onclick=\"convertToInteractive('df-4982c7d3-9586-4e04-a676-64b0fba3b4f8')\"\n",
              "              title=\"Convert this dataframe to an interactive table.\"\n",
              "              style=\"display:none;\">\n",
              "        \n",
              "  <svg xmlns=\"http://www.w3.org/2000/svg\" height=\"24px\"viewBox=\"0 0 24 24\"\n",
              "       width=\"24px\">\n",
              "    <path d=\"M0 0h24v24H0V0z\" fill=\"none\"/>\n",
              "    <path d=\"M18.56 5.44l.94 2.06.94-2.06 2.06-.94-2.06-.94-.94-2.06-.94 2.06-2.06.94zm-11 1L8.5 8.5l.94-2.06 2.06-.94-2.06-.94L8.5 2.5l-.94 2.06-2.06.94zm10 10l.94 2.06.94-2.06 2.06-.94-2.06-.94-.94-2.06-.94 2.06-2.06.94z\"/><path d=\"M17.41 7.96l-1.37-1.37c-.4-.4-.92-.59-1.43-.59-.52 0-1.04.2-1.43.59L10.3 9.45l-7.72 7.72c-.78.78-.78 2.05 0 2.83L4 21.41c.39.39.9.59 1.41.59.51 0 1.02-.2 1.41-.59l7.78-7.78 2.81-2.81c.8-.78.8-2.07 0-2.86zM5.41 20L4 18.59l7.72-7.72 1.47 1.35L5.41 20z\"/>\n",
              "  </svg>\n",
              "      </button>\n",
              "      \n",
              "  <style>\n",
              "    .colab-df-container {\n",
              "      display:flex;\n",
              "      flex-wrap:wrap;\n",
              "      gap: 12px;\n",
              "    }\n",
              "\n",
              "    .colab-df-convert {\n",
              "      background-color: #E8F0FE;\n",
              "      border: none;\n",
              "      border-radius: 50%;\n",
              "      cursor: pointer;\n",
              "      display: none;\n",
              "      fill: #1967D2;\n",
              "      height: 32px;\n",
              "      padding: 0 0 0 0;\n",
              "      width: 32px;\n",
              "    }\n",
              "\n",
              "    .colab-df-convert:hover {\n",
              "      background-color: #E2EBFA;\n",
              "      box-shadow: 0px 1px 2px rgba(60, 64, 67, 0.3), 0px 1px 3px 1px rgba(60, 64, 67, 0.15);\n",
              "      fill: #174EA6;\n",
              "    }\n",
              "\n",
              "    [theme=dark] .colab-df-convert {\n",
              "      background-color: #3B4455;\n",
              "      fill: #D2E3FC;\n",
              "    }\n",
              "\n",
              "    [theme=dark] .colab-df-convert:hover {\n",
              "      background-color: #434B5C;\n",
              "      box-shadow: 0px 1px 3px 1px rgba(0, 0, 0, 0.15);\n",
              "      filter: drop-shadow(0px 1px 2px rgba(0, 0, 0, 0.3));\n",
              "      fill: #FFFFFF;\n",
              "    }\n",
              "  </style>\n",
              "\n",
              "      <script>\n",
              "        const buttonEl =\n",
              "          document.querySelector('#df-4982c7d3-9586-4e04-a676-64b0fba3b4f8 button.colab-df-convert');\n",
              "        buttonEl.style.display =\n",
              "          google.colab.kernel.accessAllowed ? 'block' : 'none';\n",
              "\n",
              "        async function convertToInteractive(key) {\n",
              "          const element = document.querySelector('#df-4982c7d3-9586-4e04-a676-64b0fba3b4f8');\n",
              "          const dataTable =\n",
              "            await google.colab.kernel.invokeFunction('convertToInteractive',\n",
              "                                                     [key], {});\n",
              "          if (!dataTable) return;\n",
              "\n",
              "          const docLinkHtml = 'Like what you see? Visit the ' +\n",
              "            '<a target=\"_blank\" href=https://colab.research.google.com/notebooks/data_table.ipynb>data table notebook</a>'\n",
              "            + ' to learn more about interactive tables.';\n",
              "          element.innerHTML = '';\n",
              "          dataTable['output_type'] = 'display_data';\n",
              "          await google.colab.output.renderOutput(dataTable, element);\n",
              "          const docLink = document.createElement('div');\n",
              "          docLink.innerHTML = docLinkHtml;\n",
              "          element.appendChild(docLink);\n",
              "        }\n",
              "      </script>\n",
              "    </div>\n",
              "  </div>\n",
              "  "
            ]
          },
          "metadata": {},
          "execution_count": 6
        }
      ]
    },
    {
      "cell_type": "code",
      "source": [
        "x_test.shape"
      ],
      "metadata": {
        "colab": {
          "base_uri": "https://localhost:8080/"
        },
        "id": "K2KZJmKHnqXC",
        "outputId": "8cb5047b-8644-4157-da9b-675a65194b51"
      },
      "execution_count": null,
      "outputs": [
        {
          "output_type": "execute_result",
          "data": {
            "text/plain": [
              "(3154, 8)"
            ]
          },
          "metadata": {},
          "execution_count": 7
        }
      ]
    },
    {
      "cell_type": "markdown",
      "source": [
        "### Applying machine learning algorithms & showing their probabilities"
      ],
      "metadata": {
        "id": "pIHtwFeNnumL"
      }
    },
    {
      "cell_type": "code",
      "source": [
        "from sklearn import tree\n",
        "model1 = tree.DecisionTreeClassifier()\n",
        "model1.fit(x_train, y_train)\n",
        "model1.score(x_test, y_test)"
      ],
      "metadata": {
        "colab": {
          "base_uri": "https://localhost:8080/"
        },
        "id": "i0B5SxcDnzxo",
        "outputId": "4f2d67df-d26b-4aa5-daec-eaeceed4ac1e"
      },
      "execution_count": null,
      "outputs": [
        {
          "output_type": "execute_result",
          "data": {
            "text/plain": [
              "0.8795180722891566"
            ]
          },
          "metadata": {},
          "execution_count": 8
        }
      ]
    },
    {
      "cell_type": "code",
      "source": [
        "prob_decision_tree = model1.predict(x_test)\n",
        "print(prob_decision_tree)"
      ],
      "metadata": {
        "id": "zkweIopvZL6z",
        "colab": {
          "base_uri": "https://localhost:8080/"
        },
        "outputId": "a0d0edbf-99f3-44aa-9317-c6535dfc00de"
      },
      "execution_count": null,
      "outputs": [
        {
          "output_type": "stream",
          "name": "stdout",
          "text": [
            "[0 0 0 ... 0 1 0]\n"
          ]
        }
      ]
    },
    {
      "cell_type": "code",
      "source": [
        "from sklearn.ensemble import RandomForestClassifier\n",
        "clf = RandomForestClassifier(max_depth = 2, random_state = 0)\n",
        "clf.fit(x_train, y_train) \n",
        "clf.score(x_test, y_test)"
      ],
      "metadata": {
        "colab": {
          "base_uri": "https://localhost:8080/"
        },
        "id": "RNG5P-HioMXz",
        "outputId": "9527c0e4-1cd7-4b23-87f1-1fafcd6cddc3"
      },
      "execution_count": null,
      "outputs": [
        {
          "output_type": "execute_result",
          "data": {
            "text/plain": [
              "0.8817374762206721"
            ]
          },
          "metadata": {},
          "execution_count": 13
        }
      ]
    },
    {
      "cell_type": "code",
      "source": [
        "prob_random_forest = clf.predict_proba(x_test)\n",
        "print(prob_random_forest)"
      ],
      "metadata": {
        "colab": {
          "base_uri": "https://localhost:8080/"
        },
        "id": "sP3G_JY0A5um",
        "outputId": "8eff46b9-2264-4787-df05-bea95643393f"
      },
      "execution_count": null,
      "outputs": [
        {
          "output_type": "stream",
          "name": "stdout",
          "text": [
            "[[0.82185246 0.17814754]\n",
            " [0.62081958 0.37918042]\n",
            " [0.82755731 0.17244269]\n",
            " ...\n",
            " [0.87492708 0.12507292]\n",
            " [0.32561841 0.67438159]\n",
            " [0.92925021 0.07074979]]\n"
          ]
        }
      ]
    },
    {
      "cell_type": "code",
      "source": [
        "from sklearn import svm \n",
        "clf1 = svm.SVC(probability=True)\n",
        "clf1.fit(x_train, y_train)\n",
        "clf1.score(x_test, y_test)"
      ],
      "metadata": {
        "colab": {
          "base_uri": "https://localhost:8080/"
        },
        "id": "BbPK5WwEoiJe",
        "outputId": "0e776a91-ee67-40ed-f4f0-3f52beb542e8"
      },
      "execution_count": null,
      "outputs": [
        {
          "output_type": "execute_result",
          "data": {
            "text/plain": [
              "0.8072289156626506"
            ]
          },
          "metadata": {},
          "execution_count": 17
        }
      ]
    },
    {
      "cell_type": "code",
      "source": [
        "prob_svm = clf1.predict_proba(x_test)\n",
        "print(prob_svm)"
      ],
      "metadata": {
        "colab": {
          "base_uri": "https://localhost:8080/"
        },
        "id": "1-m_NyXABHC8",
        "outputId": "2343b955-a80b-42a4-f826-5abe9429ad26"
      },
      "execution_count": null,
      "outputs": [
        {
          "output_type": "stream",
          "name": "stdout",
          "text": [
            "[[0.92768105 0.07231895]\n",
            " [0.28703522 0.71296478]\n",
            " [0.83669916 0.16330084]\n",
            " ...\n",
            " [0.95839552 0.04160448]\n",
            " [0.0351099  0.9648901 ]\n",
            " [0.95338223 0.04661777]]\n"
          ]
        }
      ]
    },
    {
      "cell_type": "code",
      "source": [
        "from sklearn.ensemble import AdaBoostClassifier \n",
        "clf2 = AdaBoostClassifier(n_estimators = 100, random_state = 0)\n",
        "clf2.fit(x_train, y_train)\n",
        "clf2.score(x_test, y_test)"
      ],
      "metadata": {
        "colab": {
          "base_uri": "https://localhost:8080/"
        },
        "id": "cANJp8yuoorQ",
        "outputId": "bb33a9bf-a9e0-4602-9beb-9f5cd3910f4a"
      },
      "execution_count": null,
      "outputs": [
        {
          "output_type": "execute_result",
          "data": {
            "text/plain": [
              "0.937856689917565"
            ]
          },
          "metadata": {},
          "execution_count": 19
        }
      ]
    },
    {
      "cell_type": "code",
      "source": [
        "prob_adaboost = clf2.predict_proba(x_test) \n",
        "print(prob_adaboost)"
      ],
      "metadata": {
        "colab": {
          "base_uri": "https://localhost:8080/"
        },
        "id": "At0oroI9Bf10",
        "outputId": "844198c7-cb0f-4001-cbe7-db23b26281a7"
      },
      "execution_count": null,
      "outputs": [
        {
          "output_type": "stream",
          "name": "stdout",
          "text": [
            "[[0.51587152 0.48412848]\n",
            " [0.49911172 0.50088828]\n",
            " [0.51518196 0.48481804]\n",
            " ...\n",
            " [0.51265642 0.48734358]\n",
            " [0.489736   0.510264  ]\n",
            " [0.52737112 0.47262888]]\n"
          ]
        }
      ]
    },
    {
      "cell_type": "code",
      "source": [
        "from sklearn.ensemble import GradientBoostingClassifier \n",
        "clf3 = GradientBoostingClassifier(n_estimators = 100, learning_rate = 1.0, max_depth = 1, random_state = 0)\n",
        "clf3.fit(x_train, y_train) \n",
        "clf3.score(x_test, y_test)"
      ],
      "metadata": {
        "colab": {
          "base_uri": "https://localhost:8080/"
        },
        "id": "Z8wCp6z6otir",
        "outputId": "657e1d15-b0e7-4490-a96d-d6a4a04b0526"
      },
      "execution_count": null,
      "outputs": [
        {
          "output_type": "execute_result",
          "data": {
            "text/plain": [
              "0.9375396322130628"
            ]
          },
          "metadata": {},
          "execution_count": 21
        }
      ]
    },
    {
      "cell_type": "code",
      "source": [
        "prob_gradient_boost = clf3.predict_proba(x_test) \n",
        "print(prob_gradient_boost)"
      ],
      "metadata": {
        "colab": {
          "base_uri": "https://localhost:8080/"
        },
        "id": "YTh85N4wBrCq",
        "outputId": "7aba111f-2562-4db9-bce9-131f0078d007"
      },
      "execution_count": null,
      "outputs": [
        {
          "output_type": "stream",
          "name": "stdout",
          "text": [
            "[[9.96799627e-01 3.20037312e-03]\n",
            " [4.66239070e-01 5.33760930e-01]\n",
            " [9.96549696e-01 3.45030380e-03]\n",
            " ...\n",
            " [9.91046953e-01 8.95304661e-03]\n",
            " [3.48342193e-02 9.65165781e-01]\n",
            " [9.99913141e-01 8.68589816e-05]]\n"
          ]
        }
      ]
    },
    {
      "cell_type": "code",
      "source": [
        "from sklearn.discriminant_analysis import LinearDiscriminantAnalysis\n",
        "clf4 = LinearDiscriminantAnalysis()\n",
        "clf4.fit(x_train, y_train)\n",
        "clf4.score(x_test, y_test)"
      ],
      "metadata": {
        "colab": {
          "base_uri": "https://localhost:8080/"
        },
        "id": "RK_4jNa_ox3z",
        "outputId": "66009429-e0c3-4583-8493-395a2967c53f"
      },
      "execution_count": null,
      "outputs": [
        {
          "output_type": "execute_result",
          "data": {
            "text/plain": [
              "0.7850348763474952"
            ]
          },
          "metadata": {},
          "execution_count": 23
        }
      ]
    },
    {
      "cell_type": "code",
      "source": [
        "prob_linear_discriminant_analysis = clf4.predict_proba(x_test) \n",
        "print(prob_linear_discriminant_analysis) "
      ],
      "metadata": {
        "colab": {
          "base_uri": "https://localhost:8080/"
        },
        "id": "xzvNvFCFB4Gy",
        "outputId": "9e36f5ef-1b42-4e6a-ff1f-53f39fda2ac3"
      },
      "execution_count": null,
      "outputs": [
        {
          "output_type": "stream",
          "name": "stdout",
          "text": [
            "[[0.93424869 0.06575131]\n",
            " [0.60456181 0.39543819]\n",
            " [0.92366657 0.07633343]\n",
            " ...\n",
            " [0.91034517 0.08965483]\n",
            " [0.03104993 0.96895007]\n",
            " [0.98505072 0.01494928]]\n"
          ]
        }
      ]
    },
    {
      "cell_type": "code",
      "source": [
        "from sklearn.discriminant_analysis import QuadraticDiscriminantAnalysis\n",
        "clf5 = QuadraticDiscriminantAnalysis()\n",
        "clf5.fit(x_train, y_train)\n",
        "clf5.score(x_test, y_test)"
      ],
      "metadata": {
        "colab": {
          "base_uri": "https://localhost:8080/"
        },
        "id": "YUtAXHFpo4RO",
        "outputId": "280a8f36-87fd-4274-93da-6bec6102fc02"
      },
      "execution_count": null,
      "outputs": [
        {
          "output_type": "execute_result",
          "data": {
            "text/plain": [
              "0.7859860494610019"
            ]
          },
          "metadata": {},
          "execution_count": 25
        }
      ]
    },
    {
      "cell_type": "code",
      "source": [
        "prob_quadratic_discriminant_analysis = clf5.predict_proba(x_test) \n",
        "print(prob_quadratic_discriminant_analysis)"
      ],
      "metadata": {
        "colab": {
          "base_uri": "https://localhost:8080/"
        },
        "id": "uZ2sRO3jCG27",
        "outputId": "16df0f29-dccc-4aad-9041-4ee3703ad6d9"
      },
      "execution_count": null,
      "outputs": [
        {
          "output_type": "stream",
          "name": "stdout",
          "text": [
            "[[0.96009317 0.03990683]\n",
            " [0.41532232 0.58467768]\n",
            " [0.97023032 0.02976968]\n",
            " ...\n",
            " [0.90629798 0.09370202]\n",
            " [0.0309317  0.9690683 ]\n",
            " [0.98709841 0.01290159]]\n"
          ]
        }
      ]
    },
    {
      "cell_type": "markdown",
      "source": [
        "### Confusion matrix for all algorithms"
      ],
      "metadata": {
        "id": "PZ_q93IxpO8y"
      }
    },
    {
      "cell_type": "code",
      "source": [
        "y_pred = clf5.predict(x_train)\n",
        "y_true = y_train\n",
        "from sklearn.metrics import confusion_matrix\n",
        "cm = confusion_matrix(y_true, y_pred)\n",
        "import seaborn as sns\n",
        "import matplotlib.pyplot as plt \n",
        "f, ax = plt.subplots(figsize = (5, 5))\n",
        "sns.heatmap(cm, annot = True, linewidths = 0.5, linecolor = \"Black\", fmt = \".0f\", ax = ax) \n",
        "plt.show()\n",
        "\n",
        "from sklearn.metrics import classification_report\n",
        "print(classification_report(y_true, y_pred))"
      ],
      "metadata": {
        "colab": {
          "base_uri": "https://localhost:8080/",
          "height": 476
        },
        "id": "8VXRVB9ApSBc",
        "outputId": "6fdd526f-6d08-43c6-faf2-b7e014bf0195"
      },
      "execution_count": null,
      "outputs": [
        {
          "output_type": "display_data",
          "data": {
            "text/plain": [
              "<Figure size 360x360 with 2 Axes>"
            ],
            "image/png": "[encoded data removed]"
          },
          "metadata": {
            "needs_background": "light"
          }
        },
        {
          "output_type": "stream",
          "name": "stdout",
          "text": [
            "              precision    recall  f1-score   support\n",
            "\n",
            "           0       0.81      0.87      0.84      8395\n",
            "           1       0.71      0.60      0.65      4219\n",
            "\n",
            "    accuracy                           0.78     12614\n",
            "   macro avg       0.76      0.74      0.75     12614\n",
            "weighted avg       0.78      0.78      0.78     12614\n",
            "\n"
          ]
        }
      ]
    },
    {
      "cell_type": "code",
      "source": [
        "y_pred = clf4.predict(x_train)\n",
        "y_true = y_train\n",
        "from sklearn.metrics import confusion_matrix\n",
        "cm = confusion_matrix(y_true, y_pred)\n",
        "import seaborn as sns\n",
        "import matplotlib.pyplot as plt \n",
        "f, ax = plt.subplots(figsize = (5, 5))\n",
        "sns.heatmap(cm, annot = True, linewidths = 0.5, linecolor = \"Black\", fmt = \".0f\", ax = ax) \n",
        "plt.show()\n",
        "\n",
        "from sklearn.metrics import classification_report\n",
        "print(classification_report(y_true, y_pred))"
      ],
      "metadata": {
        "colab": {
          "base_uri": "https://localhost:8080/",
          "height": 476
        },
        "id": "5H1591ippaVJ",
        "outputId": "e5fc5918-9d4b-4312-8528-386ab6c0cb27"
      },
      "execution_count": null,
      "outputs": [
        {
          "output_type": "display_data",
          "data": {
            "text/plain": [
              "<Figure size 360x360 with 2 Axes>"
            ],
            "image/png": "[encoded data removed]"
          },
          "metadata": {
            "needs_background": "light"
          }
        },
        {
          "output_type": "stream",
          "name": "stdout",
          "text": [
            "              precision    recall  f1-score   support\n",
            "\n",
            "           0       0.81      0.88      0.85      8395\n",
            "           1       0.72      0.59      0.65      4219\n",
            "\n",
            "    accuracy                           0.79     12614\n",
            "   macro avg       0.77      0.74      0.75     12614\n",
            "weighted avg       0.78      0.79      0.78     12614\n",
            "\n"
          ]
        }
      ]
    },
    {
      "cell_type": "code",
      "source": [
        "y_pred = clf3.predict(x_train)\n",
        "y_true = y_train\n",
        "from sklearn.metrics import confusion_matrix\n",
        "cm = confusion_matrix(y_true, y_pred)\n",
        "import seaborn as sns\n",
        "import matplotlib.pyplot as plt \n",
        "f, ax = plt.subplots(figsize = (5, 5))\n",
        "sns.heatmap(cm, annot = True, linewidths = 0.5, linecolor = \"Black\", fmt = \".0f\", ax = ax) \n",
        "plt.show()\n",
        "\n",
        "from sklearn.metrics import classification_report\n",
        "print(classification_report(y_true, y_pred))"
      ],
      "metadata": {
        "colab": {
          "base_uri": "https://localhost:8080/",
          "height": 479
        },
        "id": "_5ffX-lUpdH9",
        "outputId": "1dcb67db-b007-40bf-896e-b6e5d17f795c"
      },
      "execution_count": null,
      "outputs": [
        {
          "output_type": "display_data",
          "data": {
            "text/plain": [
              "<Figure size 360x360 with 2 Axes>"
            ],
            "image/png": "[encoded data removed]"
          },
          "metadata": {
            "needs_background": "light"
          }
        },
        {
          "output_type": "stream",
          "name": "stdout",
          "text": [
            "              precision    recall  f1-score   support\n",
            "\n",
            "           0       0.95      0.96      0.96      8395\n",
            "           1       0.91      0.91      0.91      4219\n",
            "\n",
            "    accuracy                           0.94     12614\n",
            "   macro avg       0.93      0.93      0.93     12614\n",
            "weighted avg       0.94      0.94      0.94     12614\n",
            "\n"
          ]
        }
      ]
    },
    {
      "cell_type": "code",
      "source": [
        "y_pred = clf2.predict(x_train)\n",
        "y_true = y_train\n",
        "from sklearn.metrics import confusion_matrix\n",
        "cm = confusion_matrix(y_true, y_pred)\n",
        "import seaborn as sns\n",
        "import matplotlib.pyplot as plt \n",
        "f, ax = plt.subplots(figsize = (5, 5))\n",
        "sns.heatmap(cm, annot = True, linewidths = 0.5, linecolor = \"Black\", fmt = \".0f\", ax = ax) \n",
        "plt.show()\n",
        "\n",
        "from sklearn.metrics import classification_report\n",
        "print(classification_report(y_true, y_pred))"
      ],
      "metadata": {
        "colab": {
          "base_uri": "https://localhost:8080/",
          "height": 480
        },
        "id": "2jVxPVSapnKw",
        "outputId": "acf248db-8edb-4e59-f2da-ef9abcdd2bc5"
      },
      "execution_count": null,
      "outputs": [
        {
          "output_type": "display_data",
          "data": {
            "text/plain": [
              "<Figure size 360x360 with 2 Axes>"
            ],
            "image/png": "[encoded data removed]"
          },
          "metadata": {
            "needs_background": "light"
          }
        },
        {
          "output_type": "stream",
          "name": "stdout",
          "text": [
            "              precision    recall  f1-score   support\n",
            "\n",
            "           0       0.95      0.95      0.95      8395\n",
            "           1       0.91      0.90      0.90      4219\n",
            "\n",
            "    accuracy                           0.94     12614\n",
            "   macro avg       0.93      0.93      0.93     12614\n",
            "weighted avg       0.94      0.94      0.94     12614\n",
            "\n"
          ]
        }
      ]
    },
    {
      "cell_type": "code",
      "source": [
        "\n",
        "y_pred = clf1.predict(x_train)\n",
        "y_true = y_train\n",
        "from sklearn.metrics import confusion_matrix\n",
        "cm = confusion_matrix(y_true, y_pred)\n",
        "import seaborn as sns\n",
        "import matplotlib.pyplot as plt \n",
        "f, ax = plt.subplots(figsize = (5, 5))\n",
        "sns.heatmap(cm, annot = True, linewidths = 0.5, linecolor = \"Black\", fmt = \".0f\", ax = ax) \n",
        "plt.show()\n",
        "\n",
        "from sklearn.metrics import classification_report\n",
        "print(classification_report(y_true, y_pred))"
      ],
      "metadata": {
        "colab": {
          "base_uri": "https://localhost:8080/",
          "height": 476
        },
        "id": "scfUrBsnpw_x",
        "outputId": "97d899df-e27a-47f6-816a-39faf078ac8a"
      },
      "execution_count": null,
      "outputs": [
        {
          "output_type": "display_data",
          "data": {
            "text/plain": [
              "<Figure size 360x360 with 2 Axes>"
            ],
            "image/png": "[encoded data removed]"
          },
          "metadata": {
            "needs_background": "light"
          }
        },
        {
          "output_type": "stream",
          "name": "stdout",
          "text": [
            "              precision    recall  f1-score   support\n",
            "\n",
            "           0       0.82      0.91      0.86      8395\n",
            "           1       0.76      0.59      0.67      4219\n",
            "\n",
            "    accuracy                           0.80     12614\n",
            "   macro avg       0.79      0.75      0.76     12614\n",
            "weighted avg       0.80      0.80      0.79     12614\n",
            "\n"
          ]
        }
      ]
    },
    {
      "cell_type": "code",
      "source": [
        "y_pred = clf.predict(x_train)\n",
        "y_true = y_train\n",
        "from sklearn.metrics import confusion_matrix\n",
        "cm = confusion_matrix(y_true, y_pred)\n",
        "import seaborn as sns\n",
        "import matplotlib.pyplot as plt \n",
        "f, ax = plt.subplots(figsize = (5, 5))\n",
        "sns.heatmap(cm, annot = True, linewidths = 0.5, linecolor = \"Black\", fmt = \".0f\", ax = ax) \n",
        "plt.show()\n",
        "\n",
        "from sklearn.metrics import classification_report\n",
        "print(classification_report(y_true, y_pred))"
      ],
      "metadata": {
        "colab": {
          "base_uri": "https://localhost:8080/",
          "height": 476
        },
        "id": "p-rwHq_zp4db",
        "outputId": "23d81ef9-079d-454a-8df6-69f7812861fa"
      },
      "execution_count": null,
      "outputs": [
        {
          "output_type": "display_data",
          "data": {
            "text/plain": [
              "<Figure size 360x360 with 2 Axes>"
            ],
            "image/png": "[encoded data removed]"
          },
          "metadata": {
            "needs_background": "light"
          }
        },
        {
          "output_type": "stream",
          "name": "stdout",
          "text": [
            "              precision    recall  f1-score   support\n",
            "\n",
            "           0       0.87      0.95      0.91      8395\n",
            "           1       0.89      0.72      0.80      4219\n",
            "\n",
            "    accuracy                           0.88     12614\n",
            "   macro avg       0.88      0.84      0.85     12614\n",
            "weighted avg       0.88      0.88      0.87     12614\n",
            "\n"
          ]
        }
      ]
    },
    {
      "cell_type": "code",
      "source": [
        "y_pred = model1.predict(x_train)\n",
        "y_true = y_train\n",
        "from sklearn.metrics import confusion_matrix\n",
        "cm = confusion_matrix(y_true, y_pred)\n",
        "import seaborn as sns\n",
        "import matplotlib.pyplot as plt \n",
        "f, ax = plt.subplots(figsize = (5, 5))\n",
        "sns.heatmap(cm, annot = True, linewidths = 0.5, linecolor = \"Black\", fmt = \".0f\", ax = ax) \n",
        "plt.show()\n",
        "\n",
        "from sklearn.metrics import classification_report\n",
        "print(classification_report(y_true, y_pred))"
      ],
      "metadata": {
        "colab": {
          "base_uri": "https://localhost:8080/",
          "height": 476
        },
        "id": "Rzt03ySZp-eG",
        "outputId": "1e3e946d-7bc3-4af0-b176-2675a0d321a6"
      },
      "execution_count": null,
      "outputs": [
        {
          "output_type": "display_data",
          "data": {
            "text/plain": [
              "<Figure size 360x360 with 2 Axes>"
            ],
            "image/png": "[encoded data removed]"
          },
          "metadata": {
            "needs_background": "light"
          }
        },
        {
          "output_type": "stream",
          "name": "stdout",
          "text": [
            "              precision    recall  f1-score   support\n",
            "\n",
            "           0       1.00      1.00      1.00      8395\n",
            "           1       1.00      1.00      1.00      4219\n",
            "\n",
            "    accuracy                           1.00     12614\n",
            "   macro avg       1.00      1.00      1.00     12614\n",
            "weighted avg       1.00      1.00      1.00     12614\n",
            "\n"
          ]
        }
      ]
    },
    {
      "cell_type": "code",
      "source": [
        "x"
      ],
      "metadata": {
        "colab": {
          "base_uri": "https://localhost:8080/",
          "height": 488
        },
        "id": "52QykrzwqPwl",
        "outputId": "3bb918bd-81d3-4619-b6fb-03380fa1ad19"
      },
      "execution_count": null,
      "outputs": [
        {
          "output_type": "execute_result",
          "data": {
            "text/plain": [
              "       Pregnancies  PlasmaGlucose/Glucose  \\\n",
              "0                0                    171   \n",
              "1                8                     92   \n",
              "2                7                    115   \n",
              "3                9                    103   \n",
              "4                1                     85   \n",
              "...            ...                    ...   \n",
              "15763           10                    101   \n",
              "15764            2                    122   \n",
              "15765            5                    121   \n",
              "15766            1                    126   \n",
              "15767            1                     93   \n",
              "\n",
              "       DiastolicBloodPressure/BloodPressure  TricepsThickness/SkinThickness  \\\n",
              "0                                        80                              34   \n",
              "1                                        93                              47   \n",
              "2                                        47                              52   \n",
              "3                                        78                              25   \n",
              "4                                        59                              27   \n",
              "...                                     ...                             ...   \n",
              "15763                                    76                              48   \n",
              "15764                                    70                              27   \n",
              "15765                                    72                              23   \n",
              "15766                                    60                               0   \n",
              "15767                                    70                              31   \n",
              "\n",
              "       SerumInsulin/Insulin        BMI  DiabetesPedigree  Age  \n",
              "0                        23  43.509726          1.213191   21  \n",
              "1                        36  21.240576          0.158365   23  \n",
              "2                        35  41.511523          0.079019   23  \n",
              "3                       304  29.582192          1.282870   43  \n",
              "4                        35  42.604536          0.549542   22  \n",
              "...                     ...        ...               ...  ...  \n",
              "15763                   180  32.900000          0.171000   63  \n",
              "15764                     0  36.800000          0.340000   27  \n",
              "15765                   112  26.200000          0.245000   30  \n",
              "15766                     0  30.100000          0.349000   47  \n",
              "15767                     0  30.400000          0.315000   23  \n",
              "\n",
              "[15768 rows x 8 columns]"
            ],
            "text/html": [
              "\n",
              "  <div id=\"df-717ee15d-1cc0-40fe-ad45-2653f5347020\">\n",
              "    <div class=\"colab-df-container\">\n",
              "      <div>\n",
              "<style scoped>\n",
              "    .dataframe tbody tr th:only-of-type {\n",
              "        vertical-align: middle;\n",
              "    }\n",
              "\n",
              "    .dataframe tbody tr th {\n",
              "        vertical-align: top;\n",
              "    }\n",
              "\n",
              "    .dataframe thead th {\n",
              "        text-align: right;\n",
              "    }\n",
              "</style>\n",
              "<table border=\"1\" class=\"dataframe\">\n",
              "  <thead>\n",
              "    <tr style=\"text-align: right;\">\n",
              "      <th></th>\n",
              "      <th>Pregnancies</th>\n",
              "      <th>PlasmaGlucose/Glucose</th>\n",
              "      <th>DiastolicBloodPressure/BloodPressure</th>\n",
              "      <th>TricepsThickness/SkinThickness</th>\n",
              "      <th>SerumInsulin/Insulin</th>\n",
              "      <th>BMI</th>\n",
              "      <th>DiabetesPedigree</th>\n",
              "      <th>Age</th>\n",
              "    </tr>\n",
              "  </thead>\n",
              "  <tbody>\n",
              "    <tr>\n",
              "      <th>0</th>\n",
              "      <td>0</td>\n",
              "      <td>171</td>\n",
              "      <td>80</td>\n",
              "      <td>34</td>\n",
              "      <td>23</td>\n",
              "      <td>43.509726</td>\n",
              "      <td>1.213191</td>\n",
              "      <td>21</td>\n",
              "    </tr>\n",
              "    <tr>\n",
              "      <th>1</th>\n",
              "      <td>8</td>\n",
              "      <td>92</td>\n",
              "      <td>93</td>\n",
              "      <td>47</td>\n",
              "      <td>36</td>\n",
              "      <td>21.240576</td>\n",
              "      <td>0.158365</td>\n",
              "      <td>23</td>\n",
              "    </tr>\n",
              "    <tr>\n",
              "      <th>2</th>\n",
              "      <td>7</td>\n",
              "      <td>115</td>\n",
              "      <td>47</td>\n",
              "      <td>52</td>\n",
              "      <td>35</td>\n",
              "      <td>41.511523</td>\n",
              "      <td>0.079019</td>\n",
              "      <td>23</td>\n",
              "    </tr>\n",
              "    <tr>\n",
              "      <th>3</th>\n",
              "      <td>9</td>\n",
              "      <td>103</td>\n",
              "      <td>78</td>\n",
              "      <td>25</td>\n",
              "      <td>304</td>\n",
              "      <td>29.582192</td>\n",
              "      <td>1.282870</td>\n",
              "      <td>43</td>\n",
              "    </tr>\n",
              "    <tr>\n",
              "      <th>4</th>\n",
              "      <td>1</td>\n",
              "      <td>85</td>\n",
              "      <td>59</td>\n",
              "      <td>27</td>\n",
              "      <td>35</td>\n",
              "      <td>42.604536</td>\n",
              "      <td>0.549542</td>\n",
              "      <td>22</td>\n",
              "    </tr>\n",
              "    <tr>\n",
              "      <th>...</th>\n",
              "      <td>...</td>\n",
              "      <td>...</td>\n",
              "      <td>...</td>\n",
              "      <td>...</td>\n",
              "      <td>...</td>\n",
              "      <td>...</td>\n",
              "      <td>...</td>\n",
              "      <td>...</td>\n",
              "    </tr>\n",
              "    <tr>\n",
              "      <th>15763</th>\n",
              "      <td>10</td>\n",
              "      <td>101</td>\n",
              "      <td>76</td>\n",
              "      <td>48</td>\n",
              "      <td>180</td>\n",
              "      <td>32.900000</td>\n",
              "      <td>0.171000</td>\n",
              "      <td>63</td>\n",
              "    </tr>\n",
              "    <tr>\n",
              "      <th>15764</th>\n",
              "      <td>2</td>\n",
              "      <td>122</td>\n",
              "      <td>70</td>\n",
              "      <td>27</td>\n",
              "      <td>0</td>\n",
              "      <td>36.800000</td>\n",
              "      <td>0.340000</td>\n",
              "      <td>27</td>\n",
              "    </tr>\n",
              "    <tr>\n",
              "      <th>15765</th>\n",
              "      <td>5</td>\n",
              "      <td>121</td>\n",
              "      <td>72</td>\n",
              "      <td>23</td>\n",
              "      <td>112</td>\n",
              "      <td>26.200000</td>\n",
              "      <td>0.245000</td>\n",
              "      <td>30</td>\n",
              "    </tr>\n",
              "    <tr>\n",
              "      <th>15766</th>\n",
              "      <td>1</td>\n",
              "      <td>126</td>\n",
              "      <td>60</td>\n",
              "      <td>0</td>\n",
              "      <td>0</td>\n",
              "      <td>30.100000</td>\n",
              "      <td>0.349000</td>\n",
              "      <td>47</td>\n",
              "    </tr>\n",
              "    <tr>\n",
              "      <th>15767</th>\n",
              "      <td>1</td>\n",
              "      <td>93</td>\n",
              "      <td>70</td>\n",
              "      <td>31</td>\n",
              "      <td>0</td>\n",
              "      <td>30.400000</td>\n",
              "      <td>0.315000</td>\n",
              "      <td>23</td>\n",
              "    </tr>\n",
              "  </tbody>\n",
              "</table>\n",
              "<p>15768 rows × 8 columns</p>\n",
              "</div>\n",
              "      <button class=\"colab-df-convert\" onclick=\"convertToInteractive('df-717ee15d-1cc0-40fe-ad45-2653f5347020')\"\n",
              "              title=\"Convert this dataframe to an interactive table.\"\n",
              "              style=\"display:none;\">\n",
              "        \n",
              "  <svg xmlns=\"http://www.w3.org/2000/svg\" height=\"24px\"viewBox=\"0 0 24 24\"\n",
              "       width=\"24px\">\n",
              "    <path d=\"M0 0h24v24H0V0z\" fill=\"none\"/>\n",
              "    <path d=\"M18.56 5.44l.94 2.06.94-2.06 2.06-.94-2.06-.94-.94-2.06-.94 2.06-2.06.94zm-11 1L8.5 8.5l.94-2.06 2.06-.94-2.06-.94L8.5 2.5l-.94 2.06-2.06.94zm10 10l.94 2.06.94-2.06 2.06-.94-2.06-.94-.94-2.06-.94 2.06-2.06.94z\"/><path d=\"M17.41 7.96l-1.37-1.37c-.4-.4-.92-.59-1.43-.59-.52 0-1.04.2-1.43.59L10.3 9.45l-7.72 7.72c-.78.78-.78 2.05 0 2.83L4 21.41c.39.39.9.59 1.41.59.51 0 1.02-.2 1.41-.59l7.78-7.78 2.81-2.81c.8-.78.8-2.07 0-2.86zM5.41 20L4 18.59l7.72-7.72 1.47 1.35L5.41 20z\"/>\n",
              "  </svg>\n",
              "      </button>\n",
              "      \n",
              "  <style>\n",
              "    .colab-df-container {\n",
              "      display:flex;\n",
              "      flex-wrap:wrap;\n",
              "      gap: 12px;\n",
              "    }\n",
              "\n",
              "    .colab-df-convert {\n",
              "      background-color: #E8F0FE;\n",
              "      border: none;\n",
              "      border-radius: 50%;\n",
              "      cursor: pointer;\n",
              "      display: none;\n",
              "      fill: #1967D2;\n",
              "      height: 32px;\n",
              "      padding: 0 0 0 0;\n",
              "      width: 32px;\n",
              "    }\n",
              "\n",
              "    .colab-df-convert:hover {\n",
              "      background-color: #E2EBFA;\n",
              "      box-shadow: 0px 1px 2px rgba(60, 64, 67, 0.3), 0px 1px 3px 1px rgba(60, 64, 67, 0.15);\n",
              "      fill: #174EA6;\n",
              "    }\n",
              "\n",
              "    [theme=dark] .colab-df-convert {\n",
              "      background-color: #3B4455;\n",
              "      fill: #D2E3FC;\n",
              "    }\n",
              "\n",
              "    [theme=dark] .colab-df-convert:hover {\n",
              "      background-color: #434B5C;\n",
              "      box-shadow: 0px 1px 3px 1px rgba(0, 0, 0, 0.15);\n",
              "      filter: drop-shadow(0px 1px 2px rgba(0, 0, 0, 0.3));\n",
              "      fill: #FFFFFF;\n",
              "    }\n",
              "  </style>\n",
              "\n",
              "      <script>\n",
              "        const buttonEl =\n",
              "          document.querySelector('#df-717ee15d-1cc0-40fe-ad45-2653f5347020 button.colab-df-convert');\n",
              "        buttonEl.style.display =\n",
              "          google.colab.kernel.accessAllowed ? 'block' : 'none';\n",
              "\n",
              "        async function convertToInteractive(key) {\n",
              "          const element = document.querySelector('#df-717ee15d-1cc0-40fe-ad45-2653f5347020');\n",
              "          const dataTable =\n",
              "            await google.colab.kernel.invokeFunction('convertToInteractive',\n",
              "                                                     [key], {});\n",
              "          if (!dataTable) return;\n",
              "\n",
              "          const docLinkHtml = 'Like what you see? Visit the ' +\n",
              "            '<a target=\"_blank\" href=https://colab.research.google.com/notebooks/data_table.ipynb>data table notebook</a>'\n",
              "            + ' to learn more about interactive tables.';\n",
              "          element.innerHTML = '';\n",
              "          dataTable['output_type'] = 'display_data';\n",
              "          await google.colab.output.renderOutput(dataTable, element);\n",
              "          const docLink = document.createElement('div');\n",
              "          docLink.innerHTML = docLinkHtml;\n",
              "          element.appendChild(docLink);\n",
              "        }\n",
              "      </script>\n",
              "    </div>\n",
              "  </div>\n",
              "  "
            ]
          },
          "metadata": {},
          "execution_count": 54
        }
      ]
    },
    {
      "cell_type": "code",
      "source": [
        "y"
      ],
      "metadata": {
        "colab": {
          "base_uri": "https://localhost:8080/"
        },
        "id": "qx7ZwyknqXCr",
        "outputId": "1ba8ee08-a24b-49f3-ad7e-595ce86fdeef"
      },
      "execution_count": null,
      "outputs": [
        {
          "output_type": "execute_result",
          "data": {
            "text/plain": [
              "0        0\n",
              "1        0\n",
              "2        0\n",
              "3        1\n",
              "4        0\n",
              "        ..\n",
              "15763    0\n",
              "15764    0\n",
              "15765    0\n",
              "15766    1\n",
              "15767    0\n",
              "Name: Diabetic, Length: 15768, dtype: int64"
            ]
          },
          "metadata": {},
          "execution_count": 55
        }
      ]
    },
    {
      "cell_type": "code",
      "source": [
        "df.plot.scatter(x='Pregnancies', y='Diabetic', figsize=(8,6))\n",
        "plt.show()"
      ],
      "metadata": {
        "colab": {
          "base_uri": "https://localhost:8080/",
          "height": 388
        },
        "id": "IvHrKVFhqZs0",
        "outputId": "715f3186-8451-4f18-a70d-809b66b45c5e"
      },
      "execution_count": null,
      "outputs": [
        {
          "output_type": "display_data",
          "data": {
            "text/plain": [
              "<Figure size 576x432 with 1 Axes>"
            ],
            "image/png": "[encoded data removed]"
          },
          "metadata": {
            "needs_background": "light"
          }
        }
      ]
    },
    {
      "cell_type": "code",
      "source": [
        "df.plot.hexbin(x='Pregnancies', y='Diabetic',gridsize=30, figsize=(8,6))\n",
        "plt.show()"
      ],
      "metadata": {
        "colab": {
          "base_uri": "https://localhost:8080/",
          "height": 363
        },
        "id": "-ZFK5j_AqsWJ",
        "outputId": "79662967-b0cf-441f-f40f-33cb4d78de4a"
      },
      "execution_count": null,
      "outputs": [
        {
          "output_type": "display_data",
          "data": {
            "text/plain": [
              "<Figure size 576x432 with 2 Axes>"
            ],
            "image/png": "[encoded data removed]"
          },
          "metadata": {
            "needs_background": "light"
          }
        }
      ]
    }
  ]
}