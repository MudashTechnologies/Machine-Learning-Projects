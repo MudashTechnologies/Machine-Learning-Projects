{
  "metadata": {
    "kernelspec": {
      "language": "python",
      "display_name": "Python 3",
      "name": "python3"
    },
    "language_info": {
      "name": "python",
      "version": "3.7.12",
      "mimetype": "text/x-python",
      "codemirror_mode": {
        "name": "ipython",
        "version": 3
      },
      "pygments_lexer": "ipython3",
      "nbconvert_exporter": "python",
      "file_extension": ".py"
    },
    "colab": {
      "provenance": []
    },
    "accelerator": "GPU",
    "gpuClass": "standard"
  },
  "nbformat_minor": 0,
  "nbformat": 4,
  "cells": [
    {
      "cell_type": "code",
      "source": [
        "import pandas as pd\n",
        "import numpy as np\n",
        "import tensorflow \n",
        "from tensorflow import keras\n",
        "from tensorflow.keras import optimizers, losses, activations, models\n",
        "from tensorflow.keras.callbacks import ModelCheckpoint, EarlyStopping, LearningRateScheduler, ReduceLROnPlateau\n",
        "from tensorflow.keras.layers import Dense, Input, Dropout, Convolution1D, MaxPool1D, GlobalMaxPool1D, GlobalAveragePooling1D, \\\n",
        "    concatenate\n",
        "from sklearn.metrics import f1_score, accuracy_score\n",
        "import matplotlib.pyplot as plt\n",
        "\n",
        "\n",
        "df_train = pd.read_csv(\"/content/drive/MyDrive/ecg/mitbih_train.csv\", header=None)\n",
        "df_train = df_train.sample(frac=1)\n",
        "df_test = pd.read_csv(\"/content/drive/MyDrive/ecg/mitbih_test.csv\", header=None)\n",
        "\n",
        "Y = np.array(df_train[187].values).astype(np.int8)\n",
        "X = np.array(df_train[list(range(187))].values)[..., np.newaxis]\n",
        "\n",
        "Y_test = np.array(df_test[187].values).astype(np.int8)\n",
        "X_test = np.array(df_test[list(range(187))].values)[..., np.newaxis]\n"
      ],
      "metadata": {
        "execution": {
          "iopub.status.busy": "2023-01-05T09:22:46.430306Z",
          "iopub.execute_input": "2023-01-05T09:22:46.430885Z",
          "iopub.status.idle": "2023-01-05T09:23:04.110131Z",
          "shell.execute_reply.started": "2023-01-05T09:22:46.430762Z",
          "shell.execute_reply": "2023-01-05T09:23:04.109145Z"
        },
        "trusted": true,
        "id": "5QFYgBcmuPsk"
      },
      "execution_count": null,
      "outputs": []
    },
    {
      "cell_type": "markdown",
      "source": [
        "### Displaying the shapes of training and testing data"
      ],
      "metadata": {
        "id": "asXoEBf-uPsn"
      }
    },
    {
      "cell_type": "code",
      "source": [
        "print(X.shape) \n",
        "print(Y.shape) \n",
        "print(X_test.shape) \n",
        "print(Y_test.shape)"
      ],
      "metadata": {
        "execution": {
          "iopub.status.busy": "2023-01-05T09:23:04.112273Z",
          "iopub.execute_input": "2023-01-05T09:23:04.112638Z",
          "iopub.status.idle": "2023-01-05T09:23:04.118715Z",
          "shell.execute_reply.started": "2023-01-05T09:23:04.112603Z",
          "shell.execute_reply": "2023-01-05T09:23:04.117377Z"
        },
        "trusted": true,
        "colab": {
          "base_uri": "https://localhost:8080/"
        },
        "id": "Wv2t-h8DuPso",
        "outputId": "867a8049-73f7-47b9-82d4-4a048a3613f1"
      },
      "execution_count": null,
      "outputs": [
        {
          "output_type": "stream",
          "name": "stdout",
          "text": [
            "(87554, 187, 1)\n",
            "(87554,)\n",
            "(21892, 187, 1)\n",
            "(21892,)\n"
          ]
        }
      ]
    },
    {
      "cell_type": "markdown",
      "source": [
        "### Applying ResNet \n",
        "### Defining the residual and the convolutional block"
      ],
      "metadata": {
        "id": "BCpGMH9JuPsp"
      }
    },
    {
      "cell_type": "code",
      "source": [
        "# create residual and convolutional block \n",
        "class Residual_block:\n",
        "    kernel_size = 3\n",
        "    strides = 1\n",
        "    padding = 'same'\n",
        "    data_format = \"channels_last\"    \n",
        "    def __init__(self, x, x_shortcut, filters):\n",
        "        self.x = x \n",
        "        self.filters = filters\n",
        "        self.x_shortcut = x_shortcut \n",
        "        \n",
        "    def unit(self):\n",
        "        x = Conv1D(self.filters, self.kernel_size, self.strides, self.padding, self.data_format)(self.x) \n",
        "        x = Activation('relu')(x)\n",
        "        x = Conv1D(self.filters, self.kernel_size, self.strides, self.padding, self.data_format)(x)\n",
        "        x = Activation('linear')(x)\n",
        "        # add skip connection\n",
        "        if x.shape[1:] == self.x_shortcut.shape[1:]:\n",
        "            x = Add()([x, self.x_shortcut])\n",
        "        else:\n",
        "            raise Exception('Skip Connection Failiure!')\n",
        "        return x\n",
        "class Convolution_block:\n",
        "    kernel_size = 1\n",
        "    strides = 1\n",
        "    padding = 'same'\n",
        "    data_format = \"channels_last\"\n",
        "    \n",
        "    def __init__(self, x, filters):\n",
        "        self.x = x\n",
        "        self.filters = filters\n",
        "        \n",
        "    def unit(self):\n",
        "        x = Conv1D(self.filters, self.kernel_size, self.strides, self.padding, self.data_format)(self.x) \n",
        "        x = Activation('linear')(x)\n",
        "        return x"
      ],
      "metadata": {
        "execution": {
          "iopub.status.busy": "2023-01-05T09:23:04.120263Z",
          "iopub.execute_input": "2023-01-05T09:23:04.121488Z",
          "iopub.status.idle": "2023-01-05T09:23:04.133878Z",
          "shell.execute_reply.started": "2023-01-05T09:23:04.121344Z",
          "shell.execute_reply": "2023-01-05T09:23:04.132873Z"
        },
        "trusted": true,
        "id": "ul_ILPrGuPsq"
      },
      "execution_count": null,
      "outputs": []
    },
    {
      "cell_type": "markdown",
      "source": [
        "### Defining the residual stack"
      ],
      "metadata": {
        "id": "mIDDjKDVuPsq"
      }
    },
    {
      "cell_type": "code",
      "source": [
        "# create residual stack \n",
        "def residual_stack(x, filters):\n",
        "    x = Convolution_block(x, filters)\n",
        "    print('x')\n",
        "    print(x)\n",
        "    x = x.unit()\n",
        "    print('xunit')\n",
        "    print(x)\n",
        "    \n",
        "    x_shortcut = x\n",
        "    x = Residual_block(x, x_shortcut, filters)\n",
        "    x = x.unit() \n",
        "    x_shortcut = x \n",
        "    x = Residual_block(x, x_shortcut, filters)\n",
        "    x = x.unit()\n",
        "    \n",
        "    # max pooling layer\n",
        "    x = MaxPooling1D(pool_size = 2, strides = None, padding='valid', data_format = 'channels_last')(x)\n",
        "    return x"
      ],
      "metadata": {
        "execution": {
          "iopub.status.busy": "2023-01-05T09:23:04.136239Z",
          "iopub.execute_input": "2023-01-05T09:23:04.136525Z",
          "iopub.status.idle": "2023-01-05T09:23:04.148096Z",
          "shell.execute_reply.started": "2023-01-05T09:23:04.136500Z",
          "shell.execute_reply": "2023-01-05T09:23:04.147087Z"
        },
        "trusted": true,
        "id": "R2pF55PvuPsr"
      },
      "execution_count": null,
      "outputs": []
    },
    {
      "cell_type": "markdown",
      "source": [
        "### Making ResNet"
      ],
      "metadata": {
        "id": "1kRe2yi5uPsr"
      }
    },
    {
      "cell_type": "code",
      "source": [
        "# define resnet model \n",
        "def ResNet(input_shape, classes):\n",
        "    x_input = Input(input_shape)\n",
        "    x = x_input \n",
        "    # residual stack \n",
        "    num_filters = 40 \n",
        "    x = residual_stack(x, num_filters)\n",
        "    x = residual_stack(x, num_filters)\n",
        "    x = residual_stack(x, num_filters)\n",
        "    x = residual_stack(x, num_filters)\n",
        "    x = residual_stack(x, num_filters)\n",
        "    # output layer \n",
        "    x = Flatten()(x)\n",
        "    x = Dense(128, activation='selu', kernel_initializer = \"he_normal\")(x)\n",
        "    x = Dropout(.5)(x)\n",
        "    x = Dense(128, activation=\"selu\", kernel_initializer=\"he_normal\")(x)\n",
        "    x = Dropout(.5)(x)\n",
        "    x = Dense(classes, activation=\"softmax\", kernel_initializer=glorot_uniform(seed=0))(x)\n",
        "    # create the model\n",
        "    model = Model(inputs=x_input, outputs=x)\n",
        "    return model"
      ],
      "metadata": {
        "execution": {
          "iopub.status.busy": "2023-01-05T09:23:04.152637Z",
          "iopub.execute_input": "2023-01-05T09:23:04.152900Z",
          "iopub.status.idle": "2023-01-05T09:23:04.161818Z",
          "shell.execute_reply.started": "2023-01-05T09:23:04.152876Z",
          "shell.execute_reply": "2023-01-05T09:23:04.160962Z"
        },
        "trusted": true,
        "id": "Co16zIujuPss"
      },
      "execution_count": null,
      "outputs": []
    },
    {
      "cell_type": "markdown",
      "source": [
        "### Saving model weights and history"
      ],
      "metadata": {
        "id": "UDxRfPOmuPst"
      }
    },
    {
      "cell_type": "code",
      "source": [
        "# option to save model weights and history \n",
        "saved_model = False\n",
        "saved_history = False\n",
        "# create directory for model weights\n",
        "if saved_model is True:\n",
        "    weights_path = input(\"Name model weights directory: \")\n",
        "    weights_path = \"data/weights/\" + weights_path \n",
        "    try:\n",
        "        os.mkdir(weights_path)\n",
        "    except OSError:\n",
        "        print(\"Creation of the directory % failed\" % weights_path)\n",
        "    else:\n",
        "        print(\"Successfully created the directory %s \" % weights_path)\n",
        "    print('\\n')\n",
        "# create directory for model history\n",
        "if saved_history is True:\n",
        "    history_path = input(\"Name model history directory: \")\n",
        "    history_path = \"data/model_history/\" + history_path\n",
        "    try:\n",
        "        os.mkdir(history_path)\n",
        "    except OSError:\n",
        "        print(\"Creation of the directoy failed\" % history_path)\n",
        "    else:\n",
        "        print(\"Successfully created the directory\" % history_path)\n",
        "    print('\\n')"
      ],
      "metadata": {
        "execution": {
          "iopub.status.busy": "2023-01-05T09:23:04.162995Z",
          "iopub.execute_input": "2023-01-05T09:23:04.163428Z",
          "iopub.status.idle": "2023-01-05T09:23:04.177001Z",
          "shell.execute_reply.started": "2023-01-05T09:23:04.163390Z",
          "shell.execute_reply": "2023-01-05T09:23:04.175958Z"
        },
        "trusted": true,
        "id": "EpupBTT6uPst"
      },
      "execution_count": null,
      "outputs": []
    },
    {
      "cell_type": "code",
      "source": [
        "import tensorflow\n",
        "from tensorflow import keras \n",
        "from tensorflow.keras.optimizers import Adam\n",
        "import zipfile\n",
        "# from google.colab import files\n",
        "import os\n",
        "from sklearn.model_selection import train_test_split\n",
        "import numpy as np\n",
        "import keras\n",
        "from keras import layers\n",
        "from tensorflow.keras.utils import to_categorical\n",
        "from keras.models import Model, load_model\n",
        "from keras.initializers import glorot_uniform\n",
        "from keras.layers import Input, Dropout, Add, Dense, Reshape, Activation\n",
        "from keras.layers import BatchNormalization, Flatten, Conv1D, MaxPooling1D\n",
        "from tensorflow.keras.optimizers import Adam"
      ],
      "metadata": {
        "execution": {
          "iopub.status.busy": "2023-01-05T09:23:04.180226Z",
          "iopub.execute_input": "2023-01-05T09:23:04.180481Z",
          "iopub.status.idle": "2023-01-05T09:23:04.201536Z",
          "shell.execute_reply.started": "2023-01-05T09:23:04.180458Z",
          "shell.execute_reply": "2023-01-05T09:23:04.200651Z"
        },
        "trusted": true,
        "id": "gVb4N-KUuPst"
      },
      "execution_count": null,
      "outputs": []
    },
    {
      "cell_type": "markdown",
      "source": [
        "### Initializing the parameters for ResNet"
      ],
      "metadata": {
        "id": "SNvKvFg_uPsu"
      }
    },
    {
      "cell_type": "code",
      "source": [
        "# initialize the optimizer \n",
        "adm = Adam(learning_rate = 0.0001, beta_1 = 0.9, beta_2 = 0.999, epsilon = None, decay = 0.0, amsgrad = False)\n",
        "# set number of epochs \n",
        "num_epochs = int(input('Enter the number of epochs: '))\n",
        "# set batch size \n",
        "batch = 32\n",
        "# configure weights save\n",
        "if saved_model is True:\n",
        "    filepath = weights_path + \"/{epoch}.hdf5\"\n",
        "    checkpoint = keras.callbacks.ModelCheckpoint(filepath, monitor='val_acc', verbose=1, save_best_only=False, mode=\"auto\")\n",
        "    callbacks_list = [checkpoint]\n",
        "else:\n",
        "    callbacks_list = []"
      ],
      "metadata": {
        "execution": {
          "iopub.status.busy": "2023-01-05T09:23:04.204422Z",
          "iopub.execute_input": "2023-01-05T09:23:04.204692Z",
          "iopub.status.idle": "2023-01-05T09:23:07.408458Z",
          "shell.execute_reply.started": "2023-01-05T09:23:04.204666Z",
          "shell.execute_reply": "2023-01-05T09:23:07.407304Z"
        },
        "colab": {
          "base_uri": "https://localhost:8080/"
        },
        "id": "2vVqKI_muPsu",
        "outputId": "79322300-7cbe-4fda-e078-210f645a614d"
      },
      "execution_count": null,
      "outputs": [
        {
          "name": "stdout",
          "output_type": "stream",
          "text": [
            "Enter the number of epochs: 50\n"
          ]
        }
      ]
    },
    {
      "cell_type": "markdown",
      "source": [
        "### Model compilation and fitting"
      ],
      "metadata": {
        "id": "GTVOYRZAuPsu"
      }
    },
    {
      "cell_type": "code",
      "source": [
        "# initialize and train model\n",
        "model = ResNet((187,1), 5)\n",
        "model.compile(optimizer=adm, loss='sparse_categorical_crossentropy', metrics=['accuracy'])\n",
        "model.summary() \n",
        "history = model.fit(X, Y, epochs=num_epochs, batch_size = batch, callbacks=callbacks_list, validation_data=(X_test, Y_test))"
      ],
      "metadata": {
        "execution": {
          "iopub.status.busy": "2023-01-05T09:23:07.410171Z",
          "iopub.execute_input": "2023-01-05T09:23:07.410551Z",
          "iopub.status.idle": "2023-01-05T09:48:20.999298Z",
          "shell.execute_reply.started": "2023-01-05T09:23:07.410513Z",
          "shell.execute_reply": "2023-01-05T09:48:20.998363Z"
        },
        "trusted": true,
        "colab": {
          "base_uri": "https://localhost:8080/"
        },
        "id": "reFxkNNguPsu",
        "outputId": "05e7ff4d-6007-4b7b-fef5-b816d29713fd"
      },
      "execution_count": null,
      "outputs": [
        {
          "output_type": "stream",
          "name": "stdout",
          "text": [
            "x\n",
            "<__main__.Convolution_block object at 0x7fe9a8c12280>\n",
            "xunit\n",
            "KerasTensor(type_spec=TensorSpec(shape=(None, 187, 40), dtype=tf.float32, name=None), name='Placeholder:0', description=\"created by layer 'activation'\")\n",
            "x\n",
            "<__main__.Convolution_block object at 0x7fe94256f910>\n",
            "xunit\n",
            "KerasTensor(type_spec=TensorSpec(shape=(None, 93, 40), dtype=tf.float32, name=None), name='Placeholder:0', description=\"created by layer 'activation_5'\")\n",
            "x\n",
            "<__main__.Convolution_block object at 0x7fe9300ad280>\n",
            "xunit\n",
            "KerasTensor(type_spec=TensorSpec(shape=(None, 46, 40), dtype=tf.float32, name=None), name='Placeholder:0', description=\"created by layer 'activation_10'\")\n",
            "x\n",
            "<__main__.Convolution_block object at 0x7fe930055e50>\n",
            "xunit\n",
            "KerasTensor(type_spec=TensorSpec(shape=(None, 23, 40), dtype=tf.float32, name=None), name='Placeholder:0', description=\"created by layer 'activation_15'\")\n",
            "x\n",
            "<__main__.Convolution_block object at 0x7fe93006bca0>\n",
            "xunit\n",
            "KerasTensor(type_spec=TensorSpec(shape=(None, 11, 40), dtype=tf.float32, name=None), name='Placeholder:0', description=\"created by layer 'activation_20'\")\n",
            "Model: \"model\"\n",
            "__________________________________________________________________________________________________\n",
            " Layer (type)                   Output Shape         Param #     Connected to                     \n",
            "==================================================================================================\n",
            " input_1 (InputLayer)           [(None, 187, 1)]     0           []                               \n",
            "                                                                                                  \n",
            " conv1d (Conv1D)                (None, 187, 40)      80          ['input_1[0][0]']                \n",
            "                                                                                                  \n",
            " activation (Activation)        (None, 187, 40)      0           ['conv1d[0][0]']                 \n",
            "                                                                                                  \n",
            " conv1d_1 (Conv1D)              (None, 187, 40)      4840        ['activation[0][0]']             \n",
            "                                                                                                  \n",
            " activation_1 (Activation)      (None, 187, 40)      0           ['conv1d_1[0][0]']               \n",
            "                                                                                                  \n",
            " conv1d_2 (Conv1D)              (None, 187, 40)      4840        ['activation_1[0][0]']           \n",
            "                                                                                                  \n",
            " activation_2 (Activation)      (None, 187, 40)      0           ['conv1d_2[0][0]']               \n",
            "                                                                                                  \n",
            " add (Add)                      (None, 187, 40)      0           ['activation_2[0][0]',           \n",
            "                                                                  'activation[0][0]']             \n",
            "                                                                                                  \n",
            " conv1d_3 (Conv1D)              (None, 187, 40)      4840        ['add[0][0]']                    \n",
            "                                                                                                  \n",
            " activation_3 (Activation)      (None, 187, 40)      0           ['conv1d_3[0][0]']               \n",
            "                                                                                                  \n",
            " conv1d_4 (Conv1D)              (None, 187, 40)      4840        ['activation_3[0][0]']           \n",
            "                                                                                                  \n",
            " activation_4 (Activation)      (None, 187, 40)      0           ['conv1d_4[0][0]']               \n",
            "                                                                                                  \n",
            " add_1 (Add)                    (None, 187, 40)      0           ['activation_4[0][0]',           \n",
            "                                                                  'add[0][0]']                    \n",
            "                                                                                                  \n",
            " max_pooling1d (MaxPooling1D)   (None, 93, 40)       0           ['add_1[0][0]']                  \n",
            "                                                                                                  \n",
            " conv1d_5 (Conv1D)              (None, 93, 40)       1640        ['max_pooling1d[0][0]']          \n",
            "                                                                                                  \n",
            " activation_5 (Activation)      (None, 93, 40)       0           ['conv1d_5[0][0]']               \n",
            "                                                                                                  \n",
            " conv1d_6 (Conv1D)              (None, 93, 40)       4840        ['activation_5[0][0]']           \n",
            "                                                                                                  \n",
            " activation_6 (Activation)      (None, 93, 40)       0           ['conv1d_6[0][0]']               \n",
            "                                                                                                  \n",
            " conv1d_7 (Conv1D)              (None, 93, 40)       4840        ['activation_6[0][0]']           \n",
            "                                                                                                  \n",
            " activation_7 (Activation)      (None, 93, 40)       0           ['conv1d_7[0][0]']               \n",
            "                                                                                                  \n",
            " add_2 (Add)                    (None, 93, 40)       0           ['activation_7[0][0]',           \n",
            "                                                                  'activation_5[0][0]']           \n",
            "                                                                                                  \n",
            " conv1d_8 (Conv1D)              (None, 93, 40)       4840        ['add_2[0][0]']                  \n",
            "                                                                                                  \n",
            " activation_8 (Activation)      (None, 93, 40)       0           ['conv1d_8[0][0]']               \n",
            "                                                                                                  \n",
            " conv1d_9 (Conv1D)              (None, 93, 40)       4840        ['activation_8[0][0]']           \n",
            "                                                                                                  \n",
            " activation_9 (Activation)      (None, 93, 40)       0           ['conv1d_9[0][0]']               \n",
            "                                                                                                  \n",
            " add_3 (Add)                    (None, 93, 40)       0           ['activation_9[0][0]',           \n",
            "                                                                  'add_2[0][0]']                  \n",
            "                                                                                                  \n",
            " max_pooling1d_1 (MaxPooling1D)  (None, 46, 40)      0           ['add_3[0][0]']                  \n",
            "                                                                                                  \n",
            " conv1d_10 (Conv1D)             (None, 46, 40)       1640        ['max_pooling1d_1[0][0]']        \n",
            "                                                                                                  \n",
            " activation_10 (Activation)     (None, 46, 40)       0           ['conv1d_10[0][0]']              \n",
            "                                                                                                  \n",
            " conv1d_11 (Conv1D)             (None, 46, 40)       4840        ['activation_10[0][0]']          \n",
            "                                                                                                  \n",
            " activation_11 (Activation)     (None, 46, 40)       0           ['conv1d_11[0][0]']              \n",
            "                                                                                                  \n",
            " conv1d_12 (Conv1D)             (None, 46, 40)       4840        ['activation_11[0][0]']          \n",
            "                                                                                                  \n",
            " activation_12 (Activation)     (None, 46, 40)       0           ['conv1d_12[0][0]']              \n",
            "                                                                                                  \n",
            " add_4 (Add)                    (None, 46, 40)       0           ['activation_12[0][0]',          \n",
            "                                                                  'activation_10[0][0]']          \n",
            "                                                                                                  \n",
            " conv1d_13 (Conv1D)             (None, 46, 40)       4840        ['add_4[0][0]']                  \n",
            "                                                                                                  \n",
            " activation_13 (Activation)     (None, 46, 40)       0           ['conv1d_13[0][0]']              \n",
            "                                                                                                  \n",
            " conv1d_14 (Conv1D)             (None, 46, 40)       4840        ['activation_13[0][0]']          \n",
            "                                                                                                  \n",
            " activation_14 (Activation)     (None, 46, 40)       0           ['conv1d_14[0][0]']              \n",
            "                                                                                                  \n",
            " add_5 (Add)                    (None, 46, 40)       0           ['activation_14[0][0]',          \n",
            "                                                                  'add_4[0][0]']                  \n",
            "                                                                                                  \n",
            " max_pooling1d_2 (MaxPooling1D)  (None, 23, 40)      0           ['add_5[0][0]']                  \n",
            "                                                                                                  \n",
            " conv1d_15 (Conv1D)             (None, 23, 40)       1640        ['max_pooling1d_2[0][0]']        \n",
            "                                                                                                  \n",
            " activation_15 (Activation)     (None, 23, 40)       0           ['conv1d_15[0][0]']              \n",
            "                                                                                                  \n",
            " conv1d_16 (Conv1D)             (None, 23, 40)       4840        ['activation_15[0][0]']          \n",
            "                                                                                                  \n",
            " activation_16 (Activation)     (None, 23, 40)       0           ['conv1d_16[0][0]']              \n",
            "                                                                                                  \n",
            " conv1d_17 (Conv1D)             (None, 23, 40)       4840        ['activation_16[0][0]']          \n",
            "                                                                                                  \n",
            " activation_17 (Activation)     (None, 23, 40)       0           ['conv1d_17[0][0]']              \n",
            "                                                                                                  \n",
            " add_6 (Add)                    (None, 23, 40)       0           ['activation_17[0][0]',          \n",
            "                                                                  'activation_15[0][0]']          \n",
            "                                                                                                  \n",
            " conv1d_18 (Conv1D)             (None, 23, 40)       4840        ['add_6[0][0]']                  \n",
            "                                                                                                  \n",
            " activation_18 (Activation)     (None, 23, 40)       0           ['conv1d_18[0][0]']              \n",
            "                                                                                                  \n",
            " conv1d_19 (Conv1D)             (None, 23, 40)       4840        ['activation_18[0][0]']          \n",
            "                                                                                                  \n",
            " activation_19 (Activation)     (None, 23, 40)       0           ['conv1d_19[0][0]']              \n",
            "                                                                                                  \n",
            " add_7 (Add)                    (None, 23, 40)       0           ['activation_19[0][0]',          \n",
            "                                                                  'add_6[0][0]']                  \n",
            "                                                                                                  \n",
            " max_pooling1d_3 (MaxPooling1D)  (None, 11, 40)      0           ['add_7[0][0]']                  \n",
            "                                                                                                  \n",
            " conv1d_20 (Conv1D)             (None, 11, 40)       1640        ['max_pooling1d_3[0][0]']        \n",
            "                                                                                                  \n",
            " activation_20 (Activation)     (None, 11, 40)       0           ['conv1d_20[0][0]']              \n",
            "                                                                                                  \n",
            " conv1d_21 (Conv1D)             (None, 11, 40)       4840        ['activation_20[0][0]']          \n",
            "                                                                                                  \n",
            " activation_21 (Activation)     (None, 11, 40)       0           ['conv1d_21[0][0]']              \n",
            "                                                                                                  \n",
            " conv1d_22 (Conv1D)             (None, 11, 40)       4840        ['activation_21[0][0]']          \n",
            "                                                                                                  \n",
            " activation_22 (Activation)     (None, 11, 40)       0           ['conv1d_22[0][0]']              \n",
            "                                                                                                  \n",
            " add_8 (Add)                    (None, 11, 40)       0           ['activation_22[0][0]',          \n",
            "                                                                  'activation_20[0][0]']          \n",
            "                                                                                                  \n",
            " conv1d_23 (Conv1D)             (None, 11, 40)       4840        ['add_8[0][0]']                  \n",
            "                                                                                                  \n",
            " activation_23 (Activation)     (None, 11, 40)       0           ['conv1d_23[0][0]']              \n",
            "                                                                                                  \n",
            " conv1d_24 (Conv1D)             (None, 11, 40)       4840        ['activation_23[0][0]']          \n",
            "                                                                                                  \n",
            " activation_24 (Activation)     (None, 11, 40)       0           ['conv1d_24[0][0]']              \n",
            "                                                                                                  \n",
            " add_9 (Add)                    (None, 11, 40)       0           ['activation_24[0][0]',          \n",
            "                                                                  'add_8[0][0]']                  \n",
            "                                                                                                  \n",
            " max_pooling1d_4 (MaxPooling1D)  (None, 5, 40)       0           ['add_9[0][0]']                  \n",
            "                                                                                                  \n",
            " flatten (Flatten)              (None, 200)          0           ['max_pooling1d_4[0][0]']        \n",
            "                                                                                                  \n",
            " dense (Dense)                  (None, 128)          25728       ['flatten[0][0]']                \n",
            "                                                                                                  \n",
            " dropout (Dropout)              (None, 128)          0           ['dense[0][0]']                  \n",
            "                                                                                                  \n",
            " dense_1 (Dense)                (None, 128)          16512       ['dropout[0][0]']                \n",
            "                                                                                                  \n",
            " dropout_1 (Dropout)            (None, 128)          0           ['dense_1[0][0]']                \n",
            "                                                                                                  \n",
            " dense_2 (Dense)                (None, 5)            645         ['dropout_1[0][0]']              \n",
            "                                                                                                  \n",
            "==================================================================================================\n",
            "Total params: 146,325\n",
            "Trainable params: 146,325\n",
            "Non-trainable params: 0\n",
            "__________________________________________________________________________________________________\n",
            "Epoch 1/50\n",
            "2737/2737 [==============================] - 42s 12ms/step - loss: 0.2601 - accuracy: 0.9308 - val_loss: 0.1492 - val_accuracy: 0.9624\n",
            "Epoch 2/50\n",
            "2737/2737 [==============================] - 31s 11ms/step - loss: 0.1302 - accuracy: 0.9666 - val_loss: 0.0990 - val_accuracy: 0.9739\n",
            "Epoch 3/50\n",
            "2737/2737 [==============================] - 31s 11ms/step - loss: 0.1037 - accuracy: 0.9729 - val_loss: 0.0979 - val_accuracy: 0.9749\n",
            "Epoch 4/50\n",
            "2737/2737 [==============================] - 34s 12ms/step - loss: 0.0885 - accuracy: 0.9767 - val_loss: 0.0812 - val_accuracy: 0.9790\n",
            "Epoch 5/50\n",
            "2737/2737 [==============================] - 32s 12ms/step - loss: 0.0784 - accuracy: 0.9790 - val_loss: 0.0765 - val_accuracy: 0.9800\n",
            "Epoch 6/50\n",
            "2737/2737 [==============================] - 31s 11ms/step - loss: 0.0688 - accuracy: 0.9810 - val_loss: 0.0749 - val_accuracy: 0.9800\n",
            "Epoch 7/50\n",
            "2737/2737 [==============================] - 31s 11ms/step - loss: 0.0627 - accuracy: 0.9828 - val_loss: 0.0739 - val_accuracy: 0.9814\n",
            "Epoch 8/50\n",
            "2737/2737 [==============================] - 31s 11ms/step - loss: 0.0570 - accuracy: 0.9842 - val_loss: 0.0718 - val_accuracy: 0.9815\n",
            "Epoch 9/50\n",
            "2737/2737 [==============================] - 31s 11ms/step - loss: 0.0545 - accuracy: 0.9849 - val_loss: 0.0632 - val_accuracy: 0.9836\n",
            "Epoch 10/50\n",
            "2737/2737 [==============================] - 31s 11ms/step - loss: 0.0492 - accuracy: 0.9861 - val_loss: 0.0643 - val_accuracy: 0.9833\n",
            "Epoch 11/50\n",
            "2737/2737 [==============================] - 33s 12ms/step - loss: 0.0458 - accuracy: 0.9868 - val_loss: 0.0632 - val_accuracy: 0.9854\n",
            "Epoch 12/50\n",
            "2737/2737 [==============================] - 32s 12ms/step - loss: 0.0438 - accuracy: 0.9875 - val_loss: 0.0699 - val_accuracy: 0.9836\n",
            "Epoch 13/50\n",
            "2737/2737 [==============================] - 34s 12ms/step - loss: 0.0404 - accuracy: 0.9881 - val_loss: 0.0603 - val_accuracy: 0.9855\n",
            "Epoch 14/50\n",
            "2737/2737 [==============================] - 31s 11ms/step - loss: 0.0363 - accuracy: 0.9891 - val_loss: 0.0660 - val_accuracy: 0.9841\n",
            "Epoch 15/50\n",
            "2737/2737 [==============================] - 31s 11ms/step - loss: 0.0362 - accuracy: 0.9895 - val_loss: 0.0645 - val_accuracy: 0.9852\n",
            "Epoch 16/50\n",
            "2737/2737 [==============================] - 31s 12ms/step - loss: 0.0333 - accuracy: 0.9898 - val_loss: 0.0610 - val_accuracy: 0.9860\n",
            "Epoch 17/50\n",
            "2737/2737 [==============================] - 32s 12ms/step - loss: 0.0310 - accuracy: 0.9906 - val_loss: 0.0665 - val_accuracy: 0.9856\n",
            "Epoch 18/50\n",
            "2737/2737 [==============================] - 33s 12ms/step - loss: 0.0286 - accuracy: 0.9912 - val_loss: 0.0679 - val_accuracy: 0.9851\n",
            "Epoch 19/50\n",
            "2737/2737 [==============================] - 34s 12ms/step - loss: 0.0274 - accuracy: 0.9916 - val_loss: 0.0649 - val_accuracy: 0.9847\n",
            "Epoch 20/50\n",
            "2737/2737 [==============================] - 31s 11ms/step - loss: 0.0255 - accuracy: 0.9921 - val_loss: 0.0716 - val_accuracy: 0.9857\n",
            "Epoch 21/50\n",
            "2737/2737 [==============================] - 31s 11ms/step - loss: 0.0255 - accuracy: 0.9921 - val_loss: 0.0609 - val_accuracy: 0.9859\n",
            "Epoch 22/50\n",
            "2737/2737 [==============================] - 33s 12ms/step - loss: 0.0229 - accuracy: 0.9928 - val_loss: 0.0623 - val_accuracy: 0.9846\n",
            "Epoch 23/50\n",
            "2737/2737 [==============================] - 31s 11ms/step - loss: 0.0226 - accuracy: 0.9930 - val_loss: 0.0687 - val_accuracy: 0.9856\n",
            "Epoch 24/50\n",
            "2737/2737 [==============================] - 31s 11ms/step - loss: 0.0213 - accuracy: 0.9932 - val_loss: 0.0653 - val_accuracy: 0.9864\n",
            "Epoch 25/50\n",
            "2737/2737 [==============================] - 32s 12ms/step - loss: 0.0193 - accuracy: 0.9939 - val_loss: 0.0710 - val_accuracy: 0.9863\n",
            "Epoch 26/50\n",
            "2737/2737 [==============================] - 34s 12ms/step - loss: 0.0203 - accuracy: 0.9935 - val_loss: 0.0669 - val_accuracy: 0.9857\n",
            "Epoch 27/50\n",
            "2737/2737 [==============================] - 31s 11ms/step - loss: 0.0188 - accuracy: 0.9940 - val_loss: 0.0768 - val_accuracy: 0.9847\n",
            "Epoch 28/50\n",
            "2737/2737 [==============================] - 31s 11ms/step - loss: 0.0176 - accuracy: 0.9942 - val_loss: 0.0714 - val_accuracy: 0.9858\n",
            "Epoch 29/50\n",
            "2737/2737 [==============================] - 33s 12ms/step - loss: 0.0167 - accuracy: 0.9946 - val_loss: 0.0689 - val_accuracy: 0.9859\n",
            "Epoch 30/50\n",
            "2737/2737 [==============================] - 31s 11ms/step - loss: 0.0156 - accuracy: 0.9947 - val_loss: 0.0695 - val_accuracy: 0.9854\n",
            "Epoch 31/50\n",
            "2737/2737 [==============================] - 31s 11ms/step - loss: 0.0158 - accuracy: 0.9948 - val_loss: 0.0691 - val_accuracy: 0.9868\n",
            "Epoch 32/50\n",
            "2737/2737 [==============================] - 35s 13ms/step - loss: 0.0154 - accuracy: 0.9952 - val_loss: 0.0715 - val_accuracy: 0.9867\n",
            "Epoch 33/50\n",
            "2737/2737 [==============================] - 31s 11ms/step - loss: 0.0148 - accuracy: 0.9951 - val_loss: 0.0687 - val_accuracy: 0.9860\n",
            "Epoch 34/50\n",
            "2737/2737 [==============================] - 31s 11ms/step - loss: 0.0132 - accuracy: 0.9958 - val_loss: 0.0862 - val_accuracy: 0.9857\n",
            "Epoch 35/50\n",
            "2737/2737 [==============================] - 31s 11ms/step - loss: 0.0138 - accuracy: 0.9955 - val_loss: 0.0779 - val_accuracy: 0.9865\n",
            "Epoch 36/50\n",
            "2737/2737 [==============================] - 31s 11ms/step - loss: 0.0121 - accuracy: 0.9961 - val_loss: 0.0779 - val_accuracy: 0.9871\n",
            "Epoch 37/50\n",
            "2737/2737 [==============================] - 31s 11ms/step - loss: 0.0128 - accuracy: 0.9956 - val_loss: 0.0727 - val_accuracy: 0.9873\n",
            "Epoch 38/50\n",
            "2737/2737 [==============================] - 32s 12ms/step - loss: 0.0123 - accuracy: 0.9959 - val_loss: 0.0782 - val_accuracy: 0.9866\n",
            "Epoch 39/50\n",
            "2737/2737 [==============================] - 31s 11ms/step - loss: 0.0127 - accuracy: 0.9961 - val_loss: 0.0773 - val_accuracy: 0.9863\n",
            "Epoch 40/50\n",
            "2737/2737 [==============================] - 34s 12ms/step - loss: 0.0112 - accuracy: 0.9966 - val_loss: 0.0804 - val_accuracy: 0.9858\n",
            "Epoch 41/50\n",
            "2737/2737 [==============================] - 34s 12ms/step - loss: 0.0110 - accuracy: 0.9963 - val_loss: 0.0831 - val_accuracy: 0.9863\n",
            "Epoch 42/50\n",
            "2737/2737 [==============================] - 31s 11ms/step - loss: 0.0106 - accuracy: 0.9965 - val_loss: 0.0900 - val_accuracy: 0.9852\n",
            "Epoch 43/50\n",
            "2737/2737 [==============================] - 31s 11ms/step - loss: 0.0107 - accuracy: 0.9963 - val_loss: 0.0894 - val_accuracy: 0.9849\n",
            "Epoch 44/50\n",
            "2737/2737 [==============================] - 32s 12ms/step - loss: 0.0090 - accuracy: 0.9968 - val_loss: 0.0811 - val_accuracy: 0.9868\n",
            "Epoch 45/50\n",
            "2737/2737 [==============================] - 34s 12ms/step - loss: 0.0101 - accuracy: 0.9968 - val_loss: 0.0896 - val_accuracy: 0.9846\n",
            "Epoch 46/50\n",
            "2737/2737 [==============================] - 31s 11ms/step - loss: 0.0099 - accuracy: 0.9966 - val_loss: 0.0850 - val_accuracy: 0.9833\n",
            "Epoch 47/50\n",
            "2737/2737 [==============================] - 34s 12ms/step - loss: 0.0103 - accuracy: 0.9967 - val_loss: 0.0904 - val_accuracy: 0.9849\n",
            "Epoch 48/50\n",
            "2737/2737 [==============================] - 31s 11ms/step - loss: 0.0097 - accuracy: 0.9969 - val_loss: 0.0838 - val_accuracy: 0.9862\n",
            "Epoch 49/50\n",
            "2737/2737 [==============================] - 31s 11ms/step - loss: 0.0092 - accuracy: 0.9971 - val_loss: 0.0825 - val_accuracy: 0.9863\n",
            "Epoch 50/50\n",
            "2737/2737 [==============================] - 34s 12ms/step - loss: 0.0087 - accuracy: 0.9969 - val_loss: 0.0993 - val_accuracy: 0.9851\n"
          ]
        }
      ]
    },
    {
      "cell_type": "markdown",
      "source": [
        "### Model graphs & confusion matrix\n",
        "### Loss and accuracy graph"
      ],
      "metadata": {
        "id": "EdfuSPdLuPsv"
      }
    },
    {
      "cell_type": "code",
      "source": [
        "plt.figure(0)\n",
        "plt.plot(model.history.history['accuracy'], label='training accuracy')\n",
        "plt.plot(model.history.history['val_accuracy'], label='val accuracy')\n",
        "plt.title('Accuracy')\n",
        "plt.xlabel('epochs')\n",
        "plt.ylabel('accuracy')\n",
        "plt.legend()\n",
        "\n",
        "plt.figure(1)\n",
        "plt.plot(model.history.history['loss'], label='training loss')\n",
        "plt.plot(model.history.history['val_loss'], label='val loss')\n",
        "plt.title('Loss')\n",
        "plt.xlabel('epochs')\n",
        "plt.ylabel('loss')\n",
        "plt.legend()"
      ],
      "metadata": {
        "execution": {
          "iopub.status.busy": "2023-01-05T09:48:21.000948Z",
          "iopub.execute_input": "2023-01-05T09:48:21.001909Z",
          "iopub.status.idle": "2023-01-05T09:48:21.461021Z",
          "shell.execute_reply.started": "2023-01-05T09:48:21.001864Z",
          "shell.execute_reply": "2023-01-05T09:48:21.460170Z"
        },
        "trusted": true,
        "colab": {
          "base_uri": "https://localhost:8080/",
          "height": 591
        },
        "id": "10QhMMsUuPsv",
        "outputId": "74725e94-30c9-4168-9014-867cf2ac6c99"
      },
      "execution_count": null,
      "outputs": [
        {
          "output_type": "execute_result",
          "data": {
            "text/plain": [
              "<matplotlib.legend.Legend at 0x7fe8c778c7c0>"
            ]
          },
          "metadata": {},
          "execution_count": 12
        },
        {
          "output_type": "display_data",
          "data": {
            "text/plain": [
              "<Figure size 432x288 with 1 Axes>"
            ],
            "image/png": "[encoded data removed]"
          },
          "metadata": {
            "needs_background": "light"
          }
        },
        {
          "output_type": "display_data",
          "data": {
            "text/plain": [
              "<Figure size 432x288 with 1 Axes>"
            ],
            "image/png": "[encoded data removed]"
          },
          "metadata": {
            "needs_background": "light"
          }
        }
      ]
    },
    {
      "cell_type": "code",
      "source": [
        "from sklearn.metrics import confusion_matrix"
      ],
      "metadata": {
        "id": "PP1XMBO-2Qyc"
      },
      "execution_count": null,
      "outputs": []
    },
    {
      "cell_type": "code",
      "source": [
        "#Make predictions\n",
        "y_probs = model.predict(X_test)\n",
        "\n",
        "#Convert prediction probabilities into integers\n",
        "y_preds = y_probs.argmax(axis=1)"
      ],
      "metadata": {
        "colab": {
          "base_uri": "https://localhost:8080/"
        },
        "id": "AleUfSs82aGa",
        "outputId": "6ea6e12a-3726-4a40-a01d-1e17eb3099b6"
      },
      "execution_count": null,
      "outputs": [
        {
          "output_type": "stream",
          "name": "stdout",
          "text": [
            "685/685 [==============================] - 3s 4ms/step\n"
          ]
        }
      ]
    },
    {
      "cell_type": "code",
      "source": [
        "import itertools\n",
        "def plot_confusion_matrix(cm, classes,\n",
        "                          normalize=False,\n",
        "                          title='Confusion matrix',\n",
        "                          cmap=plt.cm.Blues):\n",
        "  \n",
        "    \n",
        "    if normalize:\n",
        "        cm = cm.astype('float') / cm.sum(axis=1)[:, np.newaxis]\n",
        "        print(\"Normalized confusion matrix\")\n",
        "    else:\n",
        "        print('Confusion matrix, without normalization')\n",
        "\n",
        "    plt.imshow(cm, interpolation='nearest', cmap=cmap)\n",
        "    plt.title(title)\n",
        "    plt.colorbar()\n",
        "    tick_marks = np.arange(len(classes))\n",
        "    plt.xticks(tick_marks, classes, rotation=45)\n",
        "    plt.yticks(tick_marks, classes)\n",
        "\n",
        "    fmt = '.2f' if normalize else 'd'\n",
        "    thresh = cm.max() / 2.\n",
        "    for i, j in itertools.product(range(cm.shape[0]), range(cm.shape[1])):\n",
        "        plt.text(j, i, format(cm[i, j], fmt),\n",
        "                 horizontalalignment=\"center\",\n",
        "                 color=\"white\" if cm[i, j] > thresh else \"black\")\n",
        "\n",
        "    plt.tight_layout()\n",
        "    plt.ylabel('True label')\n",
        "    plt.xlabel('Predicted label')\n",
        "\n",
        "# Compute confusion matrix\n",
        "cnf_matrix = confusion_matrix(Y_test, y_preds)\n",
        "np.set_printoptions(precision=2)\n",
        "\n",
        "# Plot non-normalized confusion matrix\n",
        "plt.figure(figsize=(10, 10))\n",
        "plot_confusion_matrix(cnf_matrix, classes=classes,normalize=True,\n",
        "                      title='Confusion matrix, with normalization')\n",
        "plt.show()"
      ],
      "metadata": {
        "execution": {
          "iopub.status.busy": "2023-01-05T10:18:01.283754Z",
          "iopub.execute_input": "2023-01-05T10:18:01.284173Z",
          "iopub.status.idle": "2023-01-05T10:18:01.634880Z",
          "shell.execute_reply.started": "2023-01-05T10:18:01.284139Z",
          "shell.execute_reply": "2023-01-05T10:18:01.633790Z"
        },
        "trusted": true,
        "colab": {
          "base_uri": "https://localhost:8080/",
          "height": 747
        },
        "id": "ciYVtxhuuPsv",
        "outputId": "26f865e3-2f8e-4025-99bb-3a83382fcb37"
      },
      "execution_count": null,
      "outputs": [
        {
          "output_type": "stream",
          "name": "stdout",
          "text": [
            "Normalized confusion matrix\n"
          ]
        },
        {
          "output_type": "display_data",
          "data": {
            "text/plain": [
              "<Figure size 720x720 with 2 Axes>"
            ],
            "image/png": "[encoded data removed]"
          },
          "metadata": {
            "needs_background": "light"
          }
        }
      ]
    },
    {
      "cell_type": "markdown",
      "source": [
        "### Applying CNN (Convolutional Neural Network)"
      ],
      "metadata": {
        "id": "yRgo0uOGFv8q"
      }
    },
    {
      "cell_type": "code",
      "source": [
        "def get_model():\n",
        "    nclass = 5\n",
        "    inp = Input(shape=(187, 1))\n",
        "    img_1 = Convolution1D(16, kernel_size=5, activation=activations.relu, padding=\"valid\")(inp)\n",
        "    img_1 = Convolution1D(16, kernel_size=5, activation=activations.relu, padding=\"valid\")(img_1)\n",
        "    img_1 = MaxPool1D(pool_size=2)(img_1)\n",
        "    img_1 = Dropout(rate=0.1)(img_1)\n",
        "    img_1 = Convolution1D(32, kernel_size=3, activation=activations.relu, padding=\"valid\")(img_1)\n",
        "    img_1 = Convolution1D(32, kernel_size=3, activation=activations.relu, padding=\"valid\")(img_1)\n",
        "    img_1 = MaxPool1D(pool_size=2)(img_1)\n",
        "    img_1 = Dropout(rate=0.1)(img_1)\n",
        "    img_1 = Convolution1D(32, kernel_size=3, activation=activations.relu, padding=\"valid\")(img_1)\n",
        "    img_1 = Convolution1D(32, kernel_size=3, activation=activations.relu, padding=\"valid\")(img_1)\n",
        "    img_1 = MaxPool1D(pool_size=2)(img_1)\n",
        "    img_1 = Dropout(rate=0.1)(img_1)\n",
        "    img_1 = Convolution1D(256, kernel_size=3, activation=activations.relu, padding=\"valid\")(img_1)\n",
        "    img_1 = Convolution1D(256, kernel_size=3, activation=activations.relu, padding=\"valid\")(img_1)\n",
        "    img_1 = GlobalMaxPool1D()(img_1)\n",
        "    img_1 = Dropout(rate=0.2)(img_1)\n",
        "\n",
        "    dense_1 = Dense(64, activation=activations.relu, name=\"dense_1\")(img_1)\n",
        "    dense_1 = Dense(64, activation=activations.relu, name=\"dense_2\")(dense_1)\n",
        "    dense_1 = Dense(nclass, activation=activations.softmax, name=\"dense_3_mitbih\")(dense_1)\n",
        "\n",
        "    model = models.Model(inputs=inp, outputs=dense_1)\n",
        "    opt = tensorflow.keras.optimizers.Adam(0.001)\n",
        "\n",
        "    model.compile(optimizer=opt, loss=losses.sparse_categorical_crossentropy, metrics=['acc'])\n",
        "    model.summary()\n",
        "    return model\n",
        "\n",
        "model = get_model()\n",
        "file_path = \"baseline_cnn_mitbih.h5\"\n",
        "checkpoint = ModelCheckpoint(file_path, monitor='val_acc', verbose=1, save_best_only=True, mode='max')\n",
        "early = EarlyStopping(monitor=\"val_acc\", mode=\"max\", patience=5, verbose=1)\n",
        "redonplat = ReduceLROnPlateau(monitor=\"val_acc\", mode=\"max\", patience=3, verbose=1)\n",
        "callbacks_list = [checkpoint, early, redonplat]  # early\n",
        "\n",
        "history = model.fit(X, Y, epochs=1000, verbose=1, callbacks=callbacks_list, validation_split=0.1)\n",
        "model.load_weights(file_path)"
      ],
      "metadata": {
        "execution": {
          "iopub.status.busy": "2023-01-05T09:49:01.805610Z",
          "iopub.execute_input": "2023-01-05T09:49:01.805996Z",
          "iopub.status.idle": "2023-01-05T09:58:13.614615Z",
          "shell.execute_reply.started": "2023-01-05T09:49:01.805964Z",
          "shell.execute_reply": "2023-01-05T09:58:13.613595Z"
        },
        "trusted": true,
        "colab": {
          "base_uri": "https://localhost:8080/"
        },
        "id": "sBBamEqvuPsv",
        "outputId": "cf495743-5497-4857-8525-770237d714c4"
      },
      "execution_count": null,
      "outputs": [
        {
          "output_type": "stream",
          "name": "stdout",
          "text": [
            "Model: \"model_1\"\n",
            "_________________________________________________________________\n",
            " Layer (type)                Output Shape              Param #   \n",
            "=================================================================\n",
            " input_2 (InputLayer)        [(None, 187, 1)]          0         \n",
            "                                                                 \n",
            " conv1d_25 (Conv1D)          (None, 183, 16)           96        \n",
            "                                                                 \n",
            " conv1d_26 (Conv1D)          (None, 179, 16)           1296      \n",
            "                                                                 \n",
            " max_pooling1d_5 (MaxPooling  (None, 89, 16)           0         \n",
            " 1D)                                                             \n",
            "                                                                 \n",
            " dropout_2 (Dropout)         (None, 89, 16)            0         \n",
            "                                                                 \n",
            " conv1d_27 (Conv1D)          (None, 87, 32)            1568      \n",
            "                                                                 \n",
            " conv1d_28 (Conv1D)          (None, 85, 32)            3104      \n",
            "                                                                 \n",
            " max_pooling1d_6 (MaxPooling  (None, 42, 32)           0         \n",
            " 1D)                                                             \n",
            "                                                                 \n",
            " dropout_3 (Dropout)         (None, 42, 32)            0         \n",
            "                                                                 \n",
            " conv1d_29 (Conv1D)          (None, 40, 32)            3104      \n",
            "                                                                 \n",
            " conv1d_30 (Conv1D)          (None, 38, 32)            3104      \n",
            "                                                                 \n",
            " max_pooling1d_7 (MaxPooling  (None, 19, 32)           0         \n",
            " 1D)                                                             \n",
            "                                                                 \n",
            " dropout_4 (Dropout)         (None, 19, 32)            0         \n",
            "                                                                 \n",
            " conv1d_31 (Conv1D)          (None, 17, 256)           24832     \n",
            "                                                                 \n",
            " conv1d_32 (Conv1D)          (None, 15, 256)           196864    \n",
            "                                                                 \n",
            " global_max_pooling1d (Globa  (None, 256)              0         \n",
            " lMaxPooling1D)                                                  \n",
            "                                                                 \n",
            " dropout_5 (Dropout)         (None, 256)               0         \n",
            "                                                                 \n",
            " dense_1 (Dense)             (None, 64)                16448     \n",
            "                                                                 \n",
            " dense_2 (Dense)             (None, 64)                4160      \n",
            "                                                                 \n",
            " dense_3_mitbih (Dense)      (None, 5)                 325       \n",
            "                                                                 \n",
            "=================================================================\n",
            "Total params: 254,901\n",
            "Trainable params: 254,901\n",
            "Non-trainable params: 0\n",
            "_________________________________________________________________\n",
            "Epoch 1/1000\n",
            "2463/2463 [==============================] - ETA: 0s - loss: 0.3693 - acc: 0.8917\n",
            "Epoch 1: val_acc improved from -inf to 0.93856, saving model to baseline_cnn_mitbih.h5\n",
            "2463/2463 [==============================] - 18s 7ms/step - loss: 0.3693 - acc: 0.8917 - val_loss: 0.2317 - val_acc: 0.9386 - lr: 0.0010\n",
            "Epoch 2/1000\n",
            "2462/2463 [============================>.] - ETA: 0s - loss: 0.2227 - acc: 0.9371\n",
            "Epoch 2: val_acc improved from 0.93856 to 0.95226, saving model to baseline_cnn_mitbih.h5\n",
            "2463/2463 [==============================] - 16s 7ms/step - loss: 0.2227 - acc: 0.9371 - val_loss: 0.1722 - val_acc: 0.9523 - lr: 0.0010\n",
            "Epoch 3/1000\n",
            "2463/2463 [==============================] - ETA: 0s - loss: 0.1783 - acc: 0.9513\n",
            "Epoch 3: val_acc improved from 0.95226 to 0.95968, saving model to baseline_cnn_mitbih.h5\n",
            "2463/2463 [==============================] - 16s 7ms/step - loss: 0.1783 - acc: 0.9513 - val_loss: 0.1401 - val_acc: 0.9597 - lr: 0.0010\n",
            "Epoch 4/1000\n",
            "2458/2463 [============================>.] - ETA: 0s - loss: 0.1527 - acc: 0.9586\n",
            "Epoch 4: val_acc improved from 0.95968 to 0.96106, saving model to baseline_cnn_mitbih.h5\n",
            "2463/2463 [==============================] - 16s 6ms/step - loss: 0.1526 - acc: 0.9587 - val_loss: 0.1321 - val_acc: 0.9611 - lr: 0.0010\n",
            "Epoch 5/1000\n",
            "2460/2463 [============================>.] - ETA: 0s - loss: 0.1344 - acc: 0.9632\n",
            "Epoch 5: val_acc improved from 0.96106 to 0.96836, saving model to baseline_cnn_mitbih.h5\n",
            "2463/2463 [==============================] - 16s 6ms/step - loss: 0.1344 - acc: 0.9632 - val_loss: 0.1179 - val_acc: 0.9684 - lr: 0.0010\n",
            "Epoch 6/1000\n",
            "2457/2463 [============================>.] - ETA: 0s - loss: 0.1227 - acc: 0.9664\n",
            "Epoch 6: val_acc improved from 0.96836 to 0.97236, saving model to baseline_cnn_mitbih.h5\n",
            "2463/2463 [==============================] - 17s 7ms/step - loss: 0.1227 - acc: 0.9664 - val_loss: 0.0976 - val_acc: 0.9724 - lr: 0.0010\n",
            "Epoch 7/1000\n",
            "2456/2463 [============================>.] - ETA: 0s - loss: 0.1116 - acc: 0.9687\n",
            "Epoch 7: val_acc improved from 0.97236 to 0.97545, saving model to baseline_cnn_mitbih.h5\n",
            "2463/2463 [==============================] - 17s 7ms/step - loss: 0.1115 - acc: 0.9688 - val_loss: 0.0852 - val_acc: 0.9754 - lr: 0.0010\n",
            "Epoch 8/1000\n",
            "2456/2463 [============================>.] - ETA: 0s - loss: 0.1039 - acc: 0.9710\n",
            "Epoch 8: val_acc did not improve from 0.97545\n",
            "2463/2463 [==============================] - 17s 7ms/step - loss: 0.1037 - acc: 0.9710 - val_loss: 0.0899 - val_acc: 0.9744 - lr: 0.0010\n",
            "Epoch 9/1000\n",
            "2456/2463 [============================>.] - ETA: 0s - loss: 0.0982 - acc: 0.9722\n",
            "Epoch 9: val_acc did not improve from 0.97545\n",
            "2463/2463 [==============================] - 17s 7ms/step - loss: 0.0983 - acc: 0.9721 - val_loss: 0.0901 - val_acc: 0.9736 - lr: 0.0010\n",
            "Epoch 10/1000\n",
            "2457/2463 [============================>.] - ETA: 0s - loss: 0.0928 - acc: 0.9735\n",
            "Epoch 10: val_acc improved from 0.97545 to 0.97602, saving model to baseline_cnn_mitbih.h5\n",
            "2463/2463 [==============================] - 16s 7ms/step - loss: 0.0930 - acc: 0.9734 - val_loss: 0.0810 - val_acc: 0.9760 - lr: 0.0010\n",
            "Epoch 11/1000\n",
            "2460/2463 [============================>.] - ETA: 0s - loss: 0.0874 - acc: 0.9754\n",
            "Epoch 11: val_acc improved from 0.97602 to 0.97796, saving model to baseline_cnn_mitbih.h5\n",
            "2463/2463 [==============================] - 17s 7ms/step - loss: 0.0874 - acc: 0.9754 - val_loss: 0.0713 - val_acc: 0.9780 - lr: 0.0010\n",
            "Epoch 12/1000\n",
            "2461/2463 [============================>.] - ETA: 0s - loss: 0.0837 - acc: 0.9761\n",
            "Epoch 12: val_acc improved from 0.97796 to 0.97956, saving model to baseline_cnn_mitbih.h5\n",
            "2463/2463 [==============================] - 19s 8ms/step - loss: 0.0837 - acc: 0.9761 - val_loss: 0.0703 - val_acc: 0.9796 - lr: 0.0010\n",
            "Epoch 13/1000\n",
            "2461/2463 [============================>.] - ETA: 0s - loss: 0.0813 - acc: 0.9761\n",
            "Epoch 13: val_acc improved from 0.97956 to 0.98024, saving model to baseline_cnn_mitbih.h5\n",
            "2463/2463 [==============================] - 16s 7ms/step - loss: 0.0814 - acc: 0.9761 - val_loss: 0.0710 - val_acc: 0.9802 - lr: 0.0010\n",
            "Epoch 14/1000\n",
            "2461/2463 [============================>.] - ETA: 0s - loss: 0.0778 - acc: 0.9769\n",
            "Epoch 14: val_acc did not improve from 0.98024\n",
            "2463/2463 [==============================] - 17s 7ms/step - loss: 0.0777 - acc: 0.9769 - val_loss: 0.0736 - val_acc: 0.9796 - lr: 0.0010\n",
            "Epoch 15/1000\n",
            "2460/2463 [============================>.] - ETA: 0s - loss: 0.0757 - acc: 0.9779\n",
            "Epoch 15: val_acc improved from 0.98024 to 0.98127, saving model to baseline_cnn_mitbih.h5\n",
            "2463/2463 [==============================] - 17s 7ms/step - loss: 0.0758 - acc: 0.9779 - val_loss: 0.0644 - val_acc: 0.9813 - lr: 0.0010\n",
            "Epoch 16/1000\n",
            "2463/2463 [==============================] - ETA: 0s - loss: 0.0738 - acc: 0.9790\n",
            "Epoch 16: val_acc improved from 0.98127 to 0.98173, saving model to baseline_cnn_mitbih.h5\n",
            "2463/2463 [==============================] - 16s 7ms/step - loss: 0.0738 - acc: 0.9790 - val_loss: 0.0672 - val_acc: 0.9817 - lr: 0.0010\n",
            "Epoch 17/1000\n",
            "2460/2463 [============================>.] - ETA: 0s - loss: 0.0699 - acc: 0.9793\n",
            "Epoch 17: val_acc did not improve from 0.98173\n",
            "2463/2463 [==============================] - 17s 7ms/step - loss: 0.0698 - acc: 0.9793 - val_loss: 0.0633 - val_acc: 0.9815 - lr: 0.0010\n",
            "Epoch 18/1000\n",
            "2462/2463 [============================>.] - ETA: 0s - loss: 0.0682 - acc: 0.9799\n",
            "Epoch 18: val_acc improved from 0.98173 to 0.98344, saving model to baseline_cnn_mitbih.h5\n",
            "2463/2463 [==============================] - 16s 7ms/step - loss: 0.0682 - acc: 0.9799 - val_loss: 0.0573 - val_acc: 0.9834 - lr: 0.0010\n",
            "Epoch 19/1000\n",
            "2459/2463 [============================>.] - ETA: 0s - loss: 0.0669 - acc: 0.9805\n",
            "Epoch 19: val_acc did not improve from 0.98344\n",
            "2463/2463 [==============================] - 16s 7ms/step - loss: 0.0669 - acc: 0.9806 - val_loss: 0.0587 - val_acc: 0.9834 - lr: 0.0010\n",
            "Epoch 20/1000\n",
            "2457/2463 [============================>.] - ETA: 0s - loss: 0.0652 - acc: 0.9808\n",
            "Epoch 20: val_acc did not improve from 0.98344\n",
            "2463/2463 [==============================] - 17s 7ms/step - loss: 0.0652 - acc: 0.9808 - val_loss: 0.0635 - val_acc: 0.9822 - lr: 0.0010\n",
            "Epoch 21/1000\n",
            "2459/2463 [============================>.] - ETA: 0s - loss: 0.0642 - acc: 0.9814\n",
            "Epoch 21: val_acc did not improve from 0.98344\n",
            "\n",
            "Epoch 21: ReduceLROnPlateau reducing learning rate to 0.00010000000474974513.\n",
            "2463/2463 [==============================] - 17s 7ms/step - loss: 0.0641 - acc: 0.9814 - val_loss: 0.0657 - val_acc: 0.9812 - lr: 0.0010\n",
            "Epoch 22/1000\n",
            "2458/2463 [============================>.] - ETA: 0s - loss: 0.0471 - acc: 0.9859\n",
            "Epoch 22: val_acc improved from 0.98344 to 0.98607, saving model to baseline_cnn_mitbih.h5\n",
            "2463/2463 [==============================] - 16s 7ms/step - loss: 0.0471 - acc: 0.9859 - val_loss: 0.0487 - val_acc: 0.9861 - lr: 1.0000e-04\n",
            "Epoch 23/1000\n",
            "2463/2463 [==============================] - ETA: 0s - loss: 0.0425 - acc: 0.9868\n",
            "Epoch 23: val_acc improved from 0.98607 to 0.98744, saving model to baseline_cnn_mitbih.h5\n",
            "2463/2463 [==============================] - 16s 7ms/step - loss: 0.0425 - acc: 0.9868 - val_loss: 0.0470 - val_acc: 0.9874 - lr: 1.0000e-04\n",
            "Epoch 24/1000\n",
            "2463/2463 [==============================] - ETA: 0s - loss: 0.0390 - acc: 0.9877\n",
            "Epoch 24: val_acc did not improve from 0.98744\n",
            "2463/2463 [==============================] - 16s 7ms/step - loss: 0.0390 - acc: 0.9877 - val_loss: 0.0467 - val_acc: 0.9870 - lr: 1.0000e-04\n",
            "Epoch 25/1000\n",
            "2456/2463 [============================>.] - ETA: 0s - loss: 0.0398 - acc: 0.9877\n",
            "Epoch 25: val_acc did not improve from 0.98744\n",
            "2463/2463 [==============================] - 17s 7ms/step - loss: 0.0398 - acc: 0.9877 - val_loss: 0.0472 - val_acc: 0.9868 - lr: 1.0000e-04\n",
            "Epoch 26/1000\n",
            "2460/2463 [============================>.] - ETA: 0s - loss: 0.0372 - acc: 0.9885\n",
            "Epoch 26: val_acc did not improve from 0.98744\n",
            "\n",
            "Epoch 26: ReduceLROnPlateau reducing learning rate to 1.0000000474974514e-05.\n",
            "2463/2463 [==============================] - 17s 7ms/step - loss: 0.0372 - acc: 0.9885 - val_loss: 0.0459 - val_acc: 0.9874 - lr: 1.0000e-04\n",
            "Epoch 27/1000\n",
            "2462/2463 [============================>.] - ETA: 0s - loss: 0.0355 - acc: 0.9886\n",
            "Epoch 27: val_acc improved from 0.98744 to 0.98778, saving model to baseline_cnn_mitbih.h5\n",
            "2463/2463 [==============================] - 17s 7ms/step - loss: 0.0355 - acc: 0.9886 - val_loss: 0.0460 - val_acc: 0.9878 - lr: 1.0000e-05\n",
            "Epoch 28/1000\n",
            "2460/2463 [============================>.] - ETA: 0s - loss: 0.0353 - acc: 0.9888\n",
            "Epoch 28: val_acc did not improve from 0.98778\n",
            "2463/2463 [==============================] - 16s 7ms/step - loss: 0.0353 - acc: 0.9888 - val_loss: 0.0459 - val_acc: 0.9876 - lr: 1.0000e-05\n",
            "Epoch 29/1000\n",
            "2462/2463 [============================>.] - ETA: 0s - loss: 0.0352 - acc: 0.9891\n",
            "Epoch 29: val_acc did not improve from 0.98778\n",
            "2463/2463 [==============================] - 17s 7ms/step - loss: 0.0352 - acc: 0.9891 - val_loss: 0.0459 - val_acc: 0.9873 - lr: 1.0000e-05\n",
            "Epoch 30/1000\n",
            "2462/2463 [============================>.] - ETA: 0s - loss: 0.0348 - acc: 0.9890\n",
            "Epoch 30: val_acc did not improve from 0.98778\n",
            "\n",
            "Epoch 30: ReduceLROnPlateau reducing learning rate to 1.0000000656873453e-06.\n",
            "2463/2463 [==============================] - 18s 7ms/step - loss: 0.0348 - acc: 0.9890 - val_loss: 0.0462 - val_acc: 0.9871 - lr: 1.0000e-05\n",
            "Epoch 31/1000\n",
            "2459/2463 [============================>.] - ETA: 0s - loss: 0.0344 - acc: 0.9891\n",
            "Epoch 31: val_acc did not improve from 0.98778\n",
            "2463/2463 [==============================] - 18s 7ms/step - loss: 0.0344 - acc: 0.9891 - val_loss: 0.0462 - val_acc: 0.9872 - lr: 1.0000e-06\n",
            "Epoch 32/1000\n",
            "2458/2463 [============================>.] - ETA: 0s - loss: 0.0344 - acc: 0.9889\n",
            "Epoch 32: val_acc did not improve from 0.98778\n",
            "2463/2463 [==============================] - 16s 6ms/step - loss: 0.0343 - acc: 0.9889 - val_loss: 0.0462 - val_acc: 0.9871 - lr: 1.0000e-06\n",
            "Epoch 32: early stopping\n"
          ]
        }
      ]
    },
    {
      "cell_type": "markdown",
      "source": [
        "### Accuracy & Loss Graphs"
      ],
      "metadata": {
        "id": "9oM5yx4quPsw"
      }
    },
    {
      "cell_type": "code",
      "source": [
        "import matplotlib.pyplot as plt \n",
        "import tensorflow \n",
        "from tensorflow import keras"
      ],
      "metadata": {
        "execution": {
          "iopub.status.busy": "2023-01-05T09:59:09.312944Z",
          "iopub.execute_input": "2023-01-05T09:59:09.313844Z",
          "iopub.status.idle": "2023-01-05T09:59:09.319276Z",
          "shell.execute_reply.started": "2023-01-05T09:59:09.313797Z",
          "shell.execute_reply": "2023-01-05T09:59:09.317900Z"
        },
        "trusted": true,
        "id": "raTf14xruPsw"
      },
      "execution_count": null,
      "outputs": []
    },
    {
      "cell_type": "code",
      "source": [
        "plt.figure(0)\n",
        "plt.plot(model.history.history['acc'], label='training accuracy')\n",
        "plt.plot(model.history.history['val_acc'], label='val accuracy')\n",
        "plt.title('Accuracy')\n",
        "plt.xlabel('epochs')\n",
        "plt.ylabel('accuracy')\n",
        "plt.legend()\n",
        "\n",
        "plt.figure(1)\n",
        "plt.plot(model.history.history['loss'], label='training loss')\n",
        "plt.plot(model.history.history['val_loss'], label='val loss')\n",
        "plt.title('Loss')\n",
        "plt.xlabel('epochs')\n",
        "plt.ylabel('loss')\n",
        "plt.legend()"
      ],
      "metadata": {
        "execution": {
          "iopub.status.busy": "2023-01-05T09:59:12.051510Z",
          "iopub.execute_input": "2023-01-05T09:59:12.051881Z",
          "iopub.status.idle": "2023-01-05T09:59:25.574706Z",
          "shell.execute_reply.started": "2023-01-05T09:59:12.051849Z",
          "shell.execute_reply": "2023-01-05T09:59:25.573826Z"
        },
        "trusted": true,
        "colab": {
          "base_uri": "https://localhost:8080/",
          "height": 591
        },
        "id": "FvCHcCS8uPsw",
        "outputId": "025ca8a8-18fc-4752-d32b-781eaf8156cf"
      },
      "execution_count": null,
      "outputs": [
        {
          "output_type": "execute_result",
          "data": {
            "text/plain": [
              "<matplotlib.legend.Legend at 0x7fe8c03efb80>"
            ]
          },
          "metadata": {},
          "execution_count": 22
        },
        {
          "output_type": "display_data",
          "data": {
            "text/plain": [
              "<Figure size 432x288 with 1 Axes>"
            ],
            "image/png": "[encoded data removed]"
          },
          "metadata": {
            "needs_background": "light"
          }
        },
        {
          "output_type": "display_data",
          "data": {
            "text/plain": [
              "<Figure size 432x288 with 1 Axes>"
            ],
            "image/png": "[encoded data removed]"
          },
          "metadata": {
            "needs_background": "light"
          }
        }
      ]
    },
    {
      "cell_type": "code",
      "source": [
        "import matplotlib.pyplot as plt\n",
        "from sklearn.metrics import confusion_matrix\n",
        "from sklearn.metrics import plot_confusion_matrix, ConfusionMatrixDisplay, confusion_matrix"
      ],
      "metadata": {
        "execution": {
          "iopub.status.busy": "2023-01-05T09:59:33.229716Z",
          "iopub.execute_input": "2023-01-05T09:59:33.230096Z",
          "iopub.status.idle": "2023-01-05T09:59:33.235681Z",
          "shell.execute_reply.started": "2023-01-05T09:59:33.230063Z",
          "shell.execute_reply": "2023-01-05T09:59:33.234406Z"
        },
        "trusted": true,
        "id": "18EDfU4suPsx"
      },
      "execution_count": null,
      "outputs": []
    },
    {
      "cell_type": "code",
      "source": [
        "classes = [\"0\", \"1\", \"2\", \"3\", \"4\"]"
      ],
      "metadata": {
        "execution": {
          "iopub.status.busy": "2023-01-05T09:59:35.329675Z",
          "iopub.execute_input": "2023-01-05T09:59:35.330140Z",
          "iopub.status.idle": "2023-01-05T09:59:35.338314Z",
          "shell.execute_reply.started": "2023-01-05T09:59:35.330101Z",
          "shell.execute_reply": "2023-01-05T09:59:35.336787Z"
        },
        "trusted": true,
        "id": "g-BXTNZSuPsx"
      },
      "execution_count": null,
      "outputs": []
    },
    {
      "cell_type": "code",
      "source": [
        "#Make predictions\n",
        "y_probs = model.predict(X_test)\n",
        "\n",
        "#Convert prediction probabilities into integers\n",
        "y_preds = y_probs.argmax(axis=1)"
      ],
      "metadata": {
        "execution": {
          "iopub.status.busy": "2023-01-05T09:59:36.844520Z",
          "iopub.execute_input": "2023-01-05T09:59:36.845005Z",
          "iopub.status.idle": "2023-01-05T09:59:38.386606Z",
          "shell.execute_reply.started": "2023-01-05T09:59:36.844964Z",
          "shell.execute_reply": "2023-01-05T09:59:38.385627Z"
        },
        "trusted": true,
        "colab": {
          "base_uri": "https://localhost:8080/"
        },
        "id": "k0TtEqcpuPsx",
        "outputId": "cae401a1-e68c-4dde-9085-a9d31ac26df1"
      },
      "execution_count": null,
      "outputs": [
        {
          "output_type": "stream",
          "name": "stdout",
          "text": [
            "685/685 [==============================] - 2s 3ms/step\n"
          ]
        }
      ]
    },
    {
      "cell_type": "code",
      "source": [
        "import itertools\n",
        "def plot_confusion_matrix(cm, classes,\n",
        "                          normalize=False,\n",
        "                          title='Confusion matrix',\n",
        "                          cmap=plt.cm.Blues):\n",
        "  \n",
        "    \n",
        "    if normalize:\n",
        "        cm = cm.astype('float') / cm.sum(axis=1)[:, np.newaxis]\n",
        "        print(\"Normalized confusion matrix\")\n",
        "    else:\n",
        "        print('Confusion matrix, without normalization')\n",
        "\n",
        "    plt.imshow(cm, interpolation='nearest', cmap=cmap)\n",
        "    plt.title(title)\n",
        "    plt.colorbar()\n",
        "    tick_marks = np.arange(len(classes))\n",
        "    plt.xticks(tick_marks, classes, rotation=45)\n",
        "    plt.yticks(tick_marks, classes)\n",
        "\n",
        "    fmt = '.2f' if normalize else 'd'\n",
        "    thresh = cm.max() / 2.\n",
        "    for i, j in itertools.product(range(cm.shape[0]), range(cm.shape[1])):\n",
        "        plt.text(j, i, format(cm[i, j], fmt),\n",
        "                 horizontalalignment=\"center\",\n",
        "                 color=\"white\" if cm[i, j] > thresh else \"black\")\n",
        "\n",
        "    plt.tight_layout()\n",
        "    plt.ylabel('True label')\n",
        "    plt.xlabel('Predicted label')\n",
        "\n",
        "# Compute confusion matrix\n",
        "cnf_matrix = confusion_matrix(Y_test, y_preds)\n",
        "np.set_printoptions(precision=2)\n",
        "\n",
        "# Plot non-normalized confusion matrix\n",
        "plt.figure(figsize=(10, 10))\n",
        "plot_confusion_matrix(cnf_matrix, classes=classes,normalize=True,\n",
        "                      title='Confusion matrix, with normalization')\n",
        "plt.show()"
      ],
      "metadata": {
        "execution": {
          "iopub.status.busy": "2023-01-05T09:59:41.263861Z",
          "iopub.execute_input": "2023-01-05T09:59:41.264574Z",
          "iopub.status.idle": "2023-01-05T09:59:41.620904Z",
          "shell.execute_reply.started": "2023-01-05T09:59:41.264537Z",
          "shell.execute_reply": "2023-01-05T09:59:41.619899Z"
        },
        "trusted": true,
        "colab": {
          "base_uri": "https://localhost:8080/",
          "height": 747
        },
        "id": "qgszP_DsuPsx",
        "outputId": "8bad04ae-4916-47c6-be01-d1de3ec6ec8b"
      },
      "execution_count": null,
      "outputs": [
        {
          "output_type": "stream",
          "name": "stdout",
          "text": [
            "Normalized confusion matrix\n"
          ]
        },
        {
          "output_type": "display_data",
          "data": {
            "text/plain": [
              "<Figure size 720x720 with 2 Axes>"
            ],
            "image/png": "[encoded data removed]"
          },
          "metadata": {
            "needs_background": "light"
          }
        }
      ]
    },
    {
      "cell_type": "code",
      "source": [
        "!pip install keras-layer-normalization"
      ],
      "metadata": {
        "execution": {
          "iopub.status.busy": "2023-01-05T09:48:21.963711Z",
          "iopub.status.idle": "2023-01-05T09:48:21.964493Z",
          "shell.execute_reply.started": "2023-01-05T09:48:21.964237Z",
          "shell.execute_reply": "2023-01-05T09:48:21.964261Z"
        },
        "trusted": true,
        "id": "zQiw-IEFuPs2"
      },
      "execution_count": null,
      "outputs": []
    }
  ]
}