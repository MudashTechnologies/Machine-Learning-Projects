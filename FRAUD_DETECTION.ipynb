{
  "metadata": {
    "kernelspec": {
      "display_name": "Python 3",
      "language": "python",
      "name": "python3"
    },
    "language_info": {
      "name": "python",
      "version": "3.7.12",
      "mimetype": "text/x-python",
      "codemirror_mode": {
        "name": "ipython",
        "version": 3
      },
      "pygments_lexer": "ipython3",
      "nbconvert_exporter": "python",
      "file_extension": ".py"
    },
    "papermill": {
      "duration": 44.655388,
      "end_time": "2020-11-05T08:00:31.707206",
      "environment_variables": {},
      "exception": null,
      "input_path": "__notebook__.ipynb",
      "output_path": "__notebook__.ipynb",
      "parameters": {},
      "start_time": "2020-11-05T07:59:47.051818",
      "version": "2.1.0"
    },
    "colab": {
      "provenance": []
    }
  },
  "nbformat_minor": 0,
  "nbformat": 4,
  "cells": [
    {
      "cell_type": "markdown",
      "source": [
        "## Data Loading"
      ],
      "metadata": {
        "papermill": {
          "duration": 0.024404,
          "end_time": "2020-11-05T07:59:53.290884",
          "exception": false,
          "start_time": "2020-11-05T07:59:53.266480",
          "status": "completed"
        },
        "tags": [],
        "id": "BeVqLWx_XkuZ"
      }
    },
    {
      "cell_type": "code",
      "source": [
        "import numpy as np # linear algebra\n",
        "import pandas as pd # data processing, CSV file I/O (e.g. pd.read_csv)\n",
        "import matplotlib\n",
        "import seaborn as sns\n",
        "import sklearn\n",
        "import imblearn\n",
        "import matplotlib.pyplot as plt\n",
        "import time\n",
        "import sklearn.metrics as m\n",
        "import xgboost as xgb\n",
        "# Ignore warnings\n",
        "import warnings\n",
        "warnings.filterwarnings('ignore')\n",
        "from sklearn.preprocessing import LabelEncoder\n",
        "from sklearn.model_selection import train_test_split \n",
        "#Settings\n",
        "pd.set_option('display.max_columns', None)\n",
        "pd.set_option('display.max_rows', None)\n",
        "\n"
      ],
      "metadata": {
        "_cell_guid": "79c7e3d0-c299-4dcb-8224-4455121ee9b0",
        "_uuid": "d629ff2d2480ee46fbb7e2d37f6b5fab8052498a",
        "papermill": {
          "duration": 9.992805,
          "end_time": "2020-11-05T08:00:03.306447",
          "exception": false,
          "start_time": "2020-11-05T07:59:53.313642",
          "status": "completed"
        },
        "pycharm": {
          "is_executing": true
        },
        "tags": [],
        "id": "CQkaLJSJXkuZ",
        "execution": {
          "iopub.status.busy": "2022-12-12T09:01:52.099025Z",
          "iopub.execute_input": "2022-12-12T09:01:52.099498Z",
          "iopub.status.idle": "2022-12-12T09:01:53.672181Z",
          "shell.execute_reply.started": "2022-12-12T09:01:52.099397Z",
          "shell.execute_reply": "2022-12-12T09:01:53.670689Z"
        },
        "trusted": true
      },
      "execution_count": null,
      "outputs": []
    },
    {
      "cell_type": "code",
      "source": [
        "train_transaction=pd.read_csv('/content/drive/MyDrive/ieee-fraud-detection/train_transaction.csv')\n",
        "train_identity=pd.read_csv('/content/drive/MyDrive/ieee-fraud-detection/train_identity.csv')\n",
        "test_transaction=pd.read_csv('/content/drive/MyDrive/ieee-fraud-detection/test_transaction.csv')\n",
        "test_identity=pd.read_csv('/content/drive/MyDrive/ieee-fraud-detection/test_identity.csv')\n",
        "sample_submission=pd.read_csv('/content/drive/MyDrive/ieee-fraud-detection/sample_submission.csv')"
      ],
      "metadata": {
        "execution": {
          "iopub.status.busy": "2022-12-12T09:02:04.965290Z",
          "iopub.execute_input": "2022-12-12T09:02:04.965763Z",
          "iopub.status.idle": "2022-12-12T09:03:14.576178Z",
          "shell.execute_reply.started": "2022-12-12T09:02:04.965724Z",
          "shell.execute_reply": "2022-12-12T09:03:14.574221Z"
        },
        "trusted": true,
        "id": "KUpotqH2Gpj2"
      },
      "execution_count": null,
      "outputs": []
    },
    {
      "cell_type": "markdown",
      "source": [
        "### Merging multiple dataframes"
      ],
      "metadata": {
        "id": "nQgaqMfsHC41"
      }
    },
    {
      "cell_type": "code",
      "source": [
        "train_df = train_transaction.merge(train_identity, how=\"left\", on=\"TransactionID\")\n",
        "\n",
        "test_df = test_transaction.merge(test_identity, how=\"left\", on=\"TransactionID\")"
      ],
      "metadata": {
        "execution": {
          "iopub.status.busy": "2022-12-12T09:03:26.138911Z",
          "iopub.execute_input": "2022-12-12T09:03:26.139425Z",
          "iopub.status.idle": "2022-12-12T09:03:48.494702Z",
          "shell.execute_reply.started": "2022-12-12T09:03:26.139388Z",
          "shell.execute_reply": "2022-12-12T09:03:48.493205Z"
        },
        "trusted": true,
        "id": "1Wi8-CX0Gpj3"
      },
      "execution_count": null,
      "outputs": []
    },
    {
      "cell_type": "markdown",
      "source": [
        "### Renaming test dataframe"
      ],
      "metadata": {
        "id": "nO4ZQZ19HHr0"
      }
    },
    {
      "cell_type": "code",
      "source": [
        "test_df= test_df.rename(columns=lambda x:\"_\".join(x.split(\"-\")))"
      ],
      "metadata": {
        "execution": {
          "iopub.status.busy": "2022-12-12T09:04:00.829114Z",
          "iopub.execute_input": "2022-12-12T09:04:00.829617Z",
          "iopub.status.idle": "2022-12-12T09:04:05.159020Z",
          "shell.execute_reply.started": "2022-12-12T09:04:00.829568Z",
          "shell.execute_reply": "2022-12-12T09:04:05.157827Z"
        },
        "trusted": true,
        "id": "ufKomu85Gpj3"
      },
      "execution_count": null,
      "outputs": []
    },
    {
      "cell_type": "markdown",
      "source": [
        "### Data preprocessing"
      ],
      "metadata": {
        "id": "ipa-N2rPHMfs"
      }
    },
    {
      "cell_type": "code",
      "source": [
        "train_df = train_df.fillna(-999)\n",
        "test_df = test_df.fillna(-999)"
      ],
      "metadata": {
        "execution": {
          "iopub.status.busy": "2022-12-12T09:04:08.272919Z",
          "iopub.execute_input": "2022-12-12T09:04:08.273397Z",
          "iopub.status.idle": "2022-12-12T09:04:20.137123Z",
          "shell.execute_reply.started": "2022-12-12T09:04:08.273356Z",
          "shell.execute_reply": "2022-12-12T09:04:20.134558Z"
        },
        "trusted": true,
        "id": "k6nQmqjpGpj3"
      },
      "execution_count": null,
      "outputs": []
    },
    {
      "cell_type": "code",
      "source": [
        "# Label Encoding\n",
        "for f in train_df.columns:\n",
        "    if train_df[f].dtype=='object': \n",
        "        lbl = LabelEncoder()\n",
        "        lbl.fit(list(train_df[f].values))\n",
        "        train_df[f] = lbl.transform(list(train_df[f].values)) "
      ],
      "metadata": {
        "execution": {
          "iopub.status.busy": "2022-12-12T09:04:27.807272Z",
          "iopub.execute_input": "2022-12-12T09:04:27.807800Z",
          "iopub.status.idle": "2022-12-12T09:04:56.738698Z",
          "shell.execute_reply.started": "2022-12-12T09:04:27.807762Z",
          "shell.execute_reply": "2022-12-12T09:04:56.736966Z"
        },
        "trusted": true,
        "id": "ZWEv6Tj_Gpj3"
      },
      "execution_count": null,
      "outputs": []
    },
    {
      "cell_type": "code",
      "source": [
        "for f in test_df.columns:\n",
        "    if test_df[f].dtype=='object': \n",
        "        lbl = LabelEncoder()\n",
        "        lbl.fit(list(test_df[f].values))\n",
        "        test_df[f] = lbl.transform(list(test_df[f].values))"
      ],
      "metadata": {
        "execution": {
          "iopub.status.busy": "2022-12-12T09:05:07.796309Z",
          "iopub.execute_input": "2022-12-12T09:05:07.796748Z",
          "iopub.status.idle": "2022-12-12T09:05:32.498082Z",
          "shell.execute_reply.started": "2022-12-12T09:05:07.796714Z",
          "shell.execute_reply": "2022-12-12T09:05:32.496051Z"
        },
        "trusted": true,
        "id": "whDybIA5Gpj3"
      },
      "execution_count": null,
      "outputs": []
    },
    {
      "cell_type": "markdown",
      "source": [
        "### Splitting into target and features"
      ],
      "metadata": {
        "id": "6C0ssL3DHQcN"
      }
    },
    {
      "cell_type": "code",
      "source": [
        "y = train_df[\"isFraud\"]\n",
        "X = train_df.drop([\"isFraud\", \"TransactionID\"], axis=1)\n",
        "test_df = test_df.drop([\"TransactionID\"], axis=1)"
      ],
      "metadata": {
        "execution": {
          "iopub.status.busy": "2022-12-12T09:05:46.771012Z",
          "iopub.execute_input": "2022-12-12T09:05:46.771446Z",
          "iopub.status.idle": "2022-12-12T09:05:50.363546Z",
          "shell.execute_reply.started": "2022-12-12T09:05:46.771412Z",
          "shell.execute_reply": "2022-12-12T09:05:50.362551Z"
        },
        "trusted": true,
        "id": "gWtExZxMGpj4"
      },
      "execution_count": null,
      "outputs": []
    },
    {
      "cell_type": "markdown",
      "source": [
        "### Splitting into training and validation sets"
      ],
      "metadata": {
        "id": "JM7r_AlGHUSr"
      }
    },
    {
      "cell_type": "code",
      "source": [
        "X_train, X_test, y_train, y_test = train_test_split(X, y, test_size=0.3, random_state=0, stratify=y)"
      ],
      "metadata": {
        "execution": {
          "iopub.status.busy": "2022-12-12T09:05:52.824190Z",
          "iopub.execute_input": "2022-12-12T09:05:52.824777Z",
          "iopub.status.idle": "2022-12-12T09:05:57.620527Z",
          "shell.execute_reply.started": "2022-12-12T09:05:52.824730Z",
          "shell.execute_reply": "2022-12-12T09:05:57.618382Z"
        },
        "trusted": true,
        "id": "zZgTBAnQGpj4"
      },
      "execution_count": null,
      "outputs": []
    },
    {
      "cell_type": "markdown",
      "source": [
        "### Applying machine learning algorithms"
      ],
      "metadata": {
        "id": "z7ZITzYpHXlb"
      }
    },
    {
      "cell_type": "code",
      "source": [
        "from sklearn.tree import DecisionTreeClassifier \n",
        "model = DecisionTreeClassifier() \n",
        "model.fit(X_train, y_train) \n"
      ],
      "metadata": {
        "execution": {
          "iopub.status.busy": "2022-12-12T09:06:00.393225Z",
          "iopub.execute_input": "2022-12-12T09:06:00.393752Z",
          "iopub.status.idle": "2022-12-12T09:11:13.909381Z",
          "shell.execute_reply.started": "2022-12-12T09:06:00.393699Z",
          "shell.execute_reply": "2022-12-12T09:11:13.907676Z"
        },
        "trusted": true,
        "id": "rAatqOlnGpj4",
        "outputId": "b7a29051-a7fc-4773-b1f0-0619fe6235b7"
      },
      "execution_count": null,
      "outputs": [
        {
          "execution_count": 10,
          "output_type": "execute_result",
          "data": {
            "text/plain": "DecisionTreeClassifier()"
          },
          "metadata": {}
        }
      ]
    },
    {
      "cell_type": "code",
      "source": [
        "model.score(X_test, y_test)"
      ],
      "metadata": {
        "execution": {
          "iopub.status.busy": "2022-12-12T09:12:06.384850Z",
          "iopub.execute_input": "2022-12-12T09:12:06.385464Z",
          "iopub.status.idle": "2022-12-12T09:12:07.006255Z",
          "shell.execute_reply.started": "2022-12-12T09:12:06.385423Z",
          "shell.execute_reply": "2022-12-12T09:12:07.004822Z"
        },
        "trusted": true,
        "id": "untogCmcGpj5",
        "outputId": "5502b367-f78a-47e1-dc1d-84714402a219"
      },
      "execution_count": null,
      "outputs": [
        {
          "execution_count": 11,
          "output_type": "execute_result",
          "data": {
            "text/plain": "0.9677696119935426"
          },
          "metadata": {}
        }
      ]
    },
    {
      "cell_type": "code",
      "source": [
        "from sklearn.ensemble import RandomForestClassifier \n",
        "model2 = RandomForestClassifier(random_state = 0) \n",
        "model2.fit(X_train, y_train) \n",
        "model2.score(X_test, y_test)"
      ],
      "metadata": {
        "execution": {
          "iopub.status.busy": "2022-12-12T09:12:13.688000Z",
          "iopub.execute_input": "2022-12-12T09:12:13.688511Z",
          "iopub.status.idle": "2022-12-12T09:24:59.901627Z",
          "shell.execute_reply.started": "2022-12-12T09:12:13.688475Z",
          "shell.execute_reply": "2022-12-12T09:24:59.899912Z"
        },
        "trusted": true,
        "id": "iQZpbP7rGpj6",
        "outputId": "78b50f8e-d030-4dd3-ed67-8ae238105bcf"
      },
      "execution_count": null,
      "outputs": [
        {
          "execution_count": 12,
          "output_type": "execute_result",
          "data": {
            "text/plain": "0.9794143213555955"
          },
          "metadata": {}
        }
      ]
    },
    {
      "cell_type": "code",
      "source": [
        "from sklearn.linear_model import LogisticRegression \n",
        "model3 = LogisticRegression(random_state = 0) \n",
        "model3.fit(X_train, y_train) \n",
        "model3.score(X_test, y_test)"
      ],
      "metadata": {
        "execution": {
          "iopub.status.busy": "2022-12-12T09:25:28.999810Z",
          "iopub.execute_input": "2022-12-12T09:25:29.000984Z",
          "iopub.status.idle": "2022-12-12T09:26:11.466731Z",
          "shell.execute_reply.started": "2022-12-12T09:25:29.000927Z",
          "shell.execute_reply": "2022-12-12T09:26:11.464156Z"
        },
        "trusted": true,
        "id": "CFhgAb6yGpj6",
        "outputId": "95f1a18f-0ddd-4811-fe07-545dcc6e906f"
      },
      "execution_count": null,
      "outputs": [
        {
          "execution_count": 13,
          "output_type": "execute_result",
          "data": {
            "text/plain": "0.9649416917849201"
          },
          "metadata": {}
        }
      ]
    },
    {
      "cell_type": "code",
      "source": [
        "from sklearn.ensemble import AdaBoostClassifier \n",
        "model4 = AdaBoostClassifier(n_estimators = 100, random_state = 0) \n",
        "model4.fit(X_train, y_train) \n",
        "model4.score(X_test, y_test)"
      ],
      "metadata": {
        "execution": {
          "iopub.status.busy": "2022-12-12T09:28:06.666249Z",
          "iopub.execute_input": "2022-12-12T09:28:06.666759Z",
          "iopub.status.idle": "2022-12-12T09:47:18.385294Z",
          "shell.execute_reply.started": "2022-12-12T09:28:06.666722Z",
          "shell.execute_reply": "2022-12-12T09:47:18.383786Z"
        },
        "trusted": true,
        "id": "RHn4_hfzGpj6",
        "outputId": "052e7459-d22e-43ec-cd74-f0ec0e224d0c"
      },
      "execution_count": null,
      "outputs": [
        {
          "execution_count": 14,
          "output_type": "execute_result",
          "data": {
            "text/plain": "0.9726803716372585"
          },
          "metadata": {}
        }
      ]
    },
    {
      "cell_type": "code",
      "source": [
        "from sklearn.ensemble import GradientBoostingClassifier \n",
        "model5 = GradientBoostingClassifier(n_estimators=100, learning_rate=1.0, max_depth=1, random_state=0) \n",
        "model5.fit(X_train, y_train) \n",
        "model5.score(X_test, y_test)"
      ],
      "metadata": {
        "execution": {
          "iopub.status.busy": "2022-12-12T09:56:28.476611Z",
          "iopub.execute_input": "2022-12-12T09:56:28.477031Z",
          "iopub.status.idle": "2022-12-12T10:02:57.297733Z",
          "shell.execute_reply.started": "2022-12-12T09:56:28.476989Z",
          "shell.execute_reply": "2022-12-12T10:02:57.296386Z"
        },
        "trusted": true,
        "id": "3BVKYkkBGpj6",
        "outputId": "b5957d58-24a1-457d-b8e7-8014d952a9f8"
      },
      "execution_count": null,
      "outputs": [
        {
          "execution_count": 16,
          "output_type": "execute_result",
          "data": {
            "text/plain": "0.9650094264006954"
          },
          "metadata": {}
        }
      ]
    },
    {
      "cell_type": "markdown",
      "source": [
        "### Confusion matrix"
      ],
      "metadata": {
        "id": "Vg0HloTtHcJi"
      }
    },
    {
      "cell_type": "code",
      "source": [
        "\n",
        "y_pred = model.predict(X_train)\n",
        "y_true = y_train\n",
        "from sklearn.metrics import confusion_matrix\n",
        "cm = confusion_matrix(y_true, y_pred)\n",
        "import seaborn as sns\n",
        "import matplotlib.pyplot as plt \n",
        "f, ax = plt.subplots(figsize = (5, 5))\n",
        "sns.heatmap(cm, annot = True, linewidths = 0.5, linecolor = \"Black\", fmt = \".0f\", ax = ax) \n",
        "plt.show()\n",
        "\n",
        "from sklearn.metrics import classification_report\n",
        "print(classification_report(y_true, y_pred))"
      ],
      "metadata": {
        "id": "Salpq1XvGpj6"
      },
      "execution_count": null,
      "outputs": []
    },
    {
      "cell_type": "code",
      "source": [
        "\n",
        "y_pred = model2.predict(X_train)\n",
        "y_true = y_train\n",
        "from sklearn.metrics import confusion_matrix\n",
        "cm = confusion_matrix(y_true, y_pred)\n",
        "import seaborn as sns\n",
        "import matplotlib.pyplot as plt \n",
        "f, ax = plt.subplots(figsize = (5, 5))\n",
        "sns.heatmap(cm, annot = True, linewidths = 0.5, linecolor = \"Black\", fmt = \".0f\", ax = ax) \n",
        "plt.show()\n",
        "\n",
        "from sklearn.metrics import classification_report\n",
        "print(classification_report(y_true, y_pred))"
      ],
      "metadata": {
        "id": "7gIXsEPkGpj7"
      },
      "execution_count": null,
      "outputs": []
    },
    {
      "cell_type": "code",
      "source": [
        "\n",
        "y_pred = model3.predict(X_train)\n",
        "y_true = y_train\n",
        "from sklearn.metrics import confusion_matrix\n",
        "cm = confusion_matrix(y_true, y_pred)\n",
        "import seaborn as sns\n",
        "import matplotlib.pyplot as plt \n",
        "f, ax = plt.subplots(figsize = (5, 5))\n",
        "sns.heatmap(cm, annot = True, linewidths = 0.5, linecolor = \"Black\", fmt = \".0f\", ax = ax) \n",
        "plt.show()\n",
        "\n",
        "from sklearn.metrics import classification_report\n",
        "print(classification_report(y_true, y_pred))"
      ],
      "metadata": {
        "id": "C_WbwOC_Gpj7"
      },
      "execution_count": null,
      "outputs": []
    },
    {
      "cell_type": "code",
      "source": [
        "\n",
        "y_pred = model4.predict(X_train)\n",
        "y_true = y_train\n",
        "from sklearn.metrics import confusion_matrix\n",
        "cm = confusion_matrix(y_true, y_pred)\n",
        "import seaborn as sns\n",
        "import matplotlib.pyplot as plt \n",
        "f, ax = plt.subplots(figsize = (5, 5))\n",
        "sns.heatmap(cm, annot = True, linewidths = 0.5, linecolor = \"Black\", fmt = \".0f\", ax = ax) \n",
        "plt.show()\n",
        "\n",
        "from sklearn.metrics import classification_report\n",
        "print(classification_report(y_true, y_pred))"
      ],
      "metadata": {
        "id": "FY0RkBUxGpj7"
      },
      "execution_count": null,
      "outputs": []
    },
    {
      "cell_type": "code",
      "source": [
        "\n",
        "y_pred = model5.predict(X_train)\n",
        "y_true = y_train\n",
        "from sklearn.metrics import confusion_matrix\n",
        "cm = confusion_matrix(y_true, y_pred)\n",
        "import seaborn as sns\n",
        "import matplotlib.pyplot as plt \n",
        "f, ax = plt.subplots(figsize = (5, 5))\n",
        "sns.heatmap(cm, annot = True, linewidths = 0.5, linecolor = \"Black\", fmt = \".0f\", ax = ax) \n",
        "plt.show()\n",
        "\n",
        "from sklearn.metrics import classification_report\n",
        "print(classification_report(y_true, y_pred))"
      ],
      "metadata": {
        "id": "XcZ1r59JGpj7"
      },
      "execution_count": null,
      "outputs": []
    }
  ]
}