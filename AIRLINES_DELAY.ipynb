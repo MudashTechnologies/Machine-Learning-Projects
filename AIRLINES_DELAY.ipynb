{
  "metadata": {
    "_change_revision": 0,
    "_is_fork": false,
    "kernelspec": {
      "display_name": "Python 3",
      "language": "python",
      "name": "python3"
    },
    "language_info": {
      "name": "python",
      "version": "3.7.12",
      "mimetype": "text/x-python",
      "codemirror_mode": {
        "name": "ipython",
        "version": 3
      },
      "pygments_lexer": "ipython3",
      "nbconvert_exporter": "python",
      "file_extension": ".py"
    },
    "colab": {
      "provenance": []
    }
  },
  "nbformat_minor": 0,
  "nbformat": 4,
  "cells": [
    {
      "cell_type": "markdown",
      "source": [
        "----------"
      ],
      "metadata": {
        "_cell_guid": "0dd9e23e-bbba-9fa4-0b03-e076d948da78",
        "id": "um4jXeJhaRMv"
      }
    },
    {
      "cell_type": "markdown",
      "source": [
        "### Importing necessarily libraries"
      ],
      "metadata": {
        "id": "9sTlEdSrL-Xy"
      }
    },
    {
      "cell_type": "code",
      "source": [
        "from pandas import read_csv\n",
        "from pandas import concat\n",
        "from pandas import get_dummies\n",
        "from sklearn.ensemble import RandomForestClassifier \n",
        "from sklearn.metrics import confusion_matrix\n",
        "import seaborn as sns\n",
        "import matplotlib.pyplot as plt \n",
        "from sklearn.metrics import classification_report"
      ],
      "metadata": {
        "id": "x8ZHbM67NxIA"
      },
      "execution_count": null,
      "outputs": []
    },
    {
      "cell_type": "markdown",
      "source": [
        "### Importing dataset"
      ],
      "metadata": {
        "id": "VVS7s5YfMBYi"
      }
    },
    {
      "cell_type": "code",
      "source": [
        "\n",
        "data = read_csv(\"/content/drive/My Drive/DelayedFlights.csv\")\n",
        "data"
      ],
      "metadata": {
        "_cell_guid": "4280da61-7f5f-457a-11ed-edf1d1db7a4f",
        "colab": {
          "base_uri": "https://localhost:8080/",
          "height": 505
        },
        "id": "oe2Mv4T8aRMx",
        "outputId": "66e018fc-52de-492e-f318-8ee5d7ed9b83"
      },
      "execution_count": null,
      "outputs": [
        {
          "output_type": "execute_result",
          "data": {
            "text/plain": [
              "         Unnamed: 0  Year  Month  DayofMonth  DayOfWeek  DepTime  CRSDepTime  \\\n",
              "0                 0  2008      1           3          4   2003.0        1955   \n",
              "1                 1  2008      1           3          4    754.0         735   \n",
              "2                 2  2008      1           3          4    628.0         620   \n",
              "3                 4  2008      1           3          4   1829.0        1755   \n",
              "4                 5  2008      1           3          4   1940.0        1915   \n",
              "...             ...   ...    ...         ...        ...      ...         ...   \n",
              "1936753     7009710  2008     12          13          6   1250.0        1220   \n",
              "1936754     7009717  2008     12          13          6    657.0         600   \n",
              "1936755     7009718  2008     12          13          6   1007.0         847   \n",
              "1936756     7009726  2008     12          13          6   1251.0        1240   \n",
              "1936757     7009727  2008     12          13          6   1110.0        1103   \n",
              "\n",
              "         ArrTime  CRSArrTime UniqueCarrier  ...  TaxiIn TaxiOut  Cancelled  \\\n",
              "0         2211.0        2225            WN  ...     4.0     8.0          0   \n",
              "1         1002.0        1000            WN  ...     5.0    10.0          0   \n",
              "2          804.0         750            WN  ...     3.0    17.0          0   \n",
              "3         1959.0        1925            WN  ...     3.0    10.0          0   \n",
              "4         2121.0        2110            WN  ...     4.0    10.0          0   \n",
              "...          ...         ...           ...  ...     ...     ...        ...   \n",
              "1936753   1617.0        1552            DL  ...     9.0    18.0          0   \n",
              "1936754    904.0         749            DL  ...    15.0    34.0          0   \n",
              "1936755   1149.0        1010            DL  ...     8.0    32.0          0   \n",
              "1936756   1446.0        1437            DL  ...    13.0    13.0          0   \n",
              "1936757   1413.0        1418            DL  ...     8.0    11.0          0   \n",
              "\n",
              "         CancellationCode  Diverted  CarrierDelay  WeatherDelay NASDelay  \\\n",
              "0                       N         0           NaN           NaN      NaN   \n",
              "1                       N         0           NaN           NaN      NaN   \n",
              "2                       N         0           NaN           NaN      NaN   \n",
              "3                       N         0           2.0           0.0      0.0   \n",
              "4                       N         0           NaN           NaN      NaN   \n",
              "...                   ...       ...           ...           ...      ...   \n",
              "1936753                 N         0           3.0           0.0      0.0   \n",
              "1936754                 N         0           0.0          57.0     18.0   \n",
              "1936755                 N         0           1.0           0.0     19.0   \n",
              "1936756                 N         0           NaN           NaN      NaN   \n",
              "1936757                 N         0           NaN           NaN      NaN   \n",
              "\n",
              "        SecurityDelay  LateAircraftDelay  \n",
              "0                 NaN                NaN  \n",
              "1                 NaN                NaN  \n",
              "2                 NaN                NaN  \n",
              "3                 0.0               32.0  \n",
              "4                 NaN                NaN  \n",
              "...               ...                ...  \n",
              "1936753           0.0               22.0  \n",
              "1936754           0.0                0.0  \n",
              "1936755           0.0               79.0  \n",
              "1936756           NaN                NaN  \n",
              "1936757           NaN                NaN  \n",
              "\n",
              "[1936758 rows x 30 columns]"
            ],
            "text/html": [
              "\n",
              "  <div id=\"df-4b922d8d-43e1-42d9-9e36-e9414f902638\">\n",
              "    <div class=\"colab-df-container\">\n",
              "      <div>\n",
              "<style scoped>\n",
              "    .dataframe tbody tr th:only-of-type {\n",
              "        vertical-align: middle;\n",
              "    }\n",
              "\n",
              "    .dataframe tbody tr th {\n",
              "        vertical-align: top;\n",
              "    }\n",
              "\n",
              "    .dataframe thead th {\n",
              "        text-align: right;\n",
              "    }\n",
              "</style>\n",
              "<table border=\"1\" class=\"dataframe\">\n",
              "  <thead>\n",
              "    <tr style=\"text-align: right;\">\n",
              "      <th></th>\n",
              "      <th>Unnamed: 0</th>\n",
              "      <th>Year</th>\n",
              "      <th>Month</th>\n",
              "      <th>DayofMonth</th>\n",
              "      <th>DayOfWeek</th>\n",
              "      <th>DepTime</th>\n",
              "      <th>CRSDepTime</th>\n",
              "      <th>ArrTime</th>\n",
              "      <th>CRSArrTime</th>\n",
              "      <th>UniqueCarrier</th>\n",
              "      <th>...</th>\n",
              "      <th>TaxiIn</th>\n",
              "      <th>TaxiOut</th>\n",
              "      <th>Cancelled</th>\n",
              "      <th>CancellationCode</th>\n",
              "      <th>Diverted</th>\n",
              "      <th>CarrierDelay</th>\n",
              "      <th>WeatherDelay</th>\n",
              "      <th>NASDelay</th>\n",
              "      <th>SecurityDelay</th>\n",
              "      <th>LateAircraftDelay</th>\n",
              "    </tr>\n",
              "  </thead>\n",
              "  <tbody>\n",
              "    <tr>\n",
              "      <th>0</th>\n",
              "      <td>0</td>\n",
              "      <td>2008</td>\n",
              "      <td>1</td>\n",
              "      <td>3</td>\n",
              "      <td>4</td>\n",
              "      <td>2003.0</td>\n",
              "      <td>1955</td>\n",
              "      <td>2211.0</td>\n",
              "      <td>2225</td>\n",
              "      <td>WN</td>\n",
              "      <td>...</td>\n",
              "      <td>4.0</td>\n",
              "      <td>8.0</td>\n",
              "      <td>0</td>\n",
              "      <td>N</td>\n",
              "      <td>0</td>\n",
              "      <td>NaN</td>\n",
              "      <td>NaN</td>\n",
              "      <td>NaN</td>\n",
              "      <td>NaN</td>\n",
              "      <td>NaN</td>\n",
              "    </tr>\n",
              "    <tr>\n",
              "      <th>1</th>\n",
              "      <td>1</td>\n",
              "      <td>2008</td>\n",
              "      <td>1</td>\n",
              "      <td>3</td>\n",
              "      <td>4</td>\n",
              "      <td>754.0</td>\n",
              "      <td>735</td>\n",
              "      <td>1002.0</td>\n",
              "      <td>1000</td>\n",
              "      <td>WN</td>\n",
              "      <td>...</td>\n",
              "      <td>5.0</td>\n",
              "      <td>10.0</td>\n",
              "      <td>0</td>\n",
              "      <td>N</td>\n",
              "      <td>0</td>\n",
              "      <td>NaN</td>\n",
              "      <td>NaN</td>\n",
              "      <td>NaN</td>\n",
              "      <td>NaN</td>\n",
              "      <td>NaN</td>\n",
              "    </tr>\n",
              "    <tr>\n",
              "      <th>2</th>\n",
              "      <td>2</td>\n",
              "      <td>2008</td>\n",
              "      <td>1</td>\n",
              "      <td>3</td>\n",
              "      <td>4</td>\n",
              "      <td>628.0</td>\n",
              "      <td>620</td>\n",
              "      <td>804.0</td>\n",
              "      <td>750</td>\n",
              "      <td>WN</td>\n",
              "      <td>...</td>\n",
              "      <td>3.0</td>\n",
              "      <td>17.0</td>\n",
              "      <td>0</td>\n",
              "      <td>N</td>\n",
              "      <td>0</td>\n",
              "      <td>NaN</td>\n",
              "      <td>NaN</td>\n",
              "      <td>NaN</td>\n",
              "      <td>NaN</td>\n",
              "      <td>NaN</td>\n",
              "    </tr>\n",
              "    <tr>\n",
              "      <th>3</th>\n",
              "      <td>4</td>\n",
              "      <td>2008</td>\n",
              "      <td>1</td>\n",
              "      <td>3</td>\n",
              "      <td>4</td>\n",
              "      <td>1829.0</td>\n",
              "      <td>1755</td>\n",
              "      <td>1959.0</td>\n",
              "      <td>1925</td>\n",
              "      <td>WN</td>\n",
              "      <td>...</td>\n",
              "      <td>3.0</td>\n",
              "      <td>10.0</td>\n",
              "      <td>0</td>\n",
              "      <td>N</td>\n",
              "      <td>0</td>\n",
              "      <td>2.0</td>\n",
              "      <td>0.0</td>\n",
              "      <td>0.0</td>\n",
              "      <td>0.0</td>\n",
              "      <td>32.0</td>\n",
              "    </tr>\n",
              "    <tr>\n",
              "      <th>4</th>\n",
              "      <td>5</td>\n",
              "      <td>2008</td>\n",
              "      <td>1</td>\n",
              "      <td>3</td>\n",
              "      <td>4</td>\n",
              "      <td>1940.0</td>\n",
              "      <td>1915</td>\n",
              "      <td>2121.0</td>\n",
              "      <td>2110</td>\n",
              "      <td>WN</td>\n",
              "      <td>...</td>\n",
              "      <td>4.0</td>\n",
              "      <td>10.0</td>\n",
              "      <td>0</td>\n",
              "      <td>N</td>\n",
              "      <td>0</td>\n",
              "      <td>NaN</td>\n",
              "      <td>NaN</td>\n",
              "      <td>NaN</td>\n",
              "      <td>NaN</td>\n",
              "      <td>NaN</td>\n",
              "    </tr>\n",
              "    <tr>\n",
              "      <th>...</th>\n",
              "      <td>...</td>\n",
              "      <td>...</td>\n",
              "      <td>...</td>\n",
              "      <td>...</td>\n",
              "      <td>...</td>\n",
              "      <td>...</td>\n",
              "      <td>...</td>\n",
              "      <td>...</td>\n",
              "      <td>...</td>\n",
              "      <td>...</td>\n",
              "      <td>...</td>\n",
              "      <td>...</td>\n",
              "      <td>...</td>\n",
              "      <td>...</td>\n",
              "      <td>...</td>\n",
              "      <td>...</td>\n",
              "      <td>...</td>\n",
              "      <td>...</td>\n",
              "      <td>...</td>\n",
              "      <td>...</td>\n",
              "      <td>...</td>\n",
              "    </tr>\n",
              "    <tr>\n",
              "      <th>1936753</th>\n",
              "      <td>7009710</td>\n",
              "      <td>2008</td>\n",
              "      <td>12</td>\n",
              "      <td>13</td>\n",
              "      <td>6</td>\n",
              "      <td>1250.0</td>\n",
              "      <td>1220</td>\n",
              "      <td>1617.0</td>\n",
              "      <td>1552</td>\n",
              "      <td>DL</td>\n",
              "      <td>...</td>\n",
              "      <td>9.0</td>\n",
              "      <td>18.0</td>\n",
              "      <td>0</td>\n",
              "      <td>N</td>\n",
              "      <td>0</td>\n",
              "      <td>3.0</td>\n",
              "      <td>0.0</td>\n",
              "      <td>0.0</td>\n",
              "      <td>0.0</td>\n",
              "      <td>22.0</td>\n",
              "    </tr>\n",
              "    <tr>\n",
              "      <th>1936754</th>\n",
              "      <td>7009717</td>\n",
              "      <td>2008</td>\n",
              "      <td>12</td>\n",
              "      <td>13</td>\n",
              "      <td>6</td>\n",
              "      <td>657.0</td>\n",
              "      <td>600</td>\n",
              "      <td>904.0</td>\n",
              "      <td>749</td>\n",
              "      <td>DL</td>\n",
              "      <td>...</td>\n",
              "      <td>15.0</td>\n",
              "      <td>34.0</td>\n",
              "      <td>0</td>\n",
              "      <td>N</td>\n",
              "      <td>0</td>\n",
              "      <td>0.0</td>\n",
              "      <td>57.0</td>\n",
              "      <td>18.0</td>\n",
              "      <td>0.0</td>\n",
              "      <td>0.0</td>\n",
              "    </tr>\n",
              "    <tr>\n",
              "      <th>1936755</th>\n",
              "      <td>7009718</td>\n",
              "      <td>2008</td>\n",
              "      <td>12</td>\n",
              "      <td>13</td>\n",
              "      <td>6</td>\n",
              "      <td>1007.0</td>\n",
              "      <td>847</td>\n",
              "      <td>1149.0</td>\n",
              "      <td>1010</td>\n",
              "      <td>DL</td>\n",
              "      <td>...</td>\n",
              "      <td>8.0</td>\n",
              "      <td>32.0</td>\n",
              "      <td>0</td>\n",
              "      <td>N</td>\n",
              "      <td>0</td>\n",
              "      <td>1.0</td>\n",
              "      <td>0.0</td>\n",
              "      <td>19.0</td>\n",
              "      <td>0.0</td>\n",
              "      <td>79.0</td>\n",
              "    </tr>\n",
              "    <tr>\n",
              "      <th>1936756</th>\n",
              "      <td>7009726</td>\n",
              "      <td>2008</td>\n",
              "      <td>12</td>\n",
              "      <td>13</td>\n",
              "      <td>6</td>\n",
              "      <td>1251.0</td>\n",
              "      <td>1240</td>\n",
              "      <td>1446.0</td>\n",
              "      <td>1437</td>\n",
              "      <td>DL</td>\n",
              "      <td>...</td>\n",
              "      <td>13.0</td>\n",
              "      <td>13.0</td>\n",
              "      <td>0</td>\n",
              "      <td>N</td>\n",
              "      <td>0</td>\n",
              "      <td>NaN</td>\n",
              "      <td>NaN</td>\n",
              "      <td>NaN</td>\n",
              "      <td>NaN</td>\n",
              "      <td>NaN</td>\n",
              "    </tr>\n",
              "    <tr>\n",
              "      <th>1936757</th>\n",
              "      <td>7009727</td>\n",
              "      <td>2008</td>\n",
              "      <td>12</td>\n",
              "      <td>13</td>\n",
              "      <td>6</td>\n",
              "      <td>1110.0</td>\n",
              "      <td>1103</td>\n",
              "      <td>1413.0</td>\n",
              "      <td>1418</td>\n",
              "      <td>DL</td>\n",
              "      <td>...</td>\n",
              "      <td>8.0</td>\n",
              "      <td>11.0</td>\n",
              "      <td>0</td>\n",
              "      <td>N</td>\n",
              "      <td>0</td>\n",
              "      <td>NaN</td>\n",
              "      <td>NaN</td>\n",
              "      <td>NaN</td>\n",
              "      <td>NaN</td>\n",
              "      <td>NaN</td>\n",
              "    </tr>\n",
              "  </tbody>\n",
              "</table>\n",
              "<p>1936758 rows × 30 columns</p>\n",
              "</div>\n",
              "      <button class=\"colab-df-convert\" onclick=\"convertToInteractive('df-4b922d8d-43e1-42d9-9e36-e9414f902638')\"\n",
              "              title=\"Convert this dataframe to an interactive table.\"\n",
              "              style=\"display:none;\">\n",
              "        \n",
              "  <svg xmlns=\"http://www.w3.org/2000/svg\" height=\"24px\"viewBox=\"0 0 24 24\"\n",
              "       width=\"24px\">\n",
              "    <path d=\"M0 0h24v24H0V0z\" fill=\"none\"/>\n",
              "    <path d=\"M18.56 5.44l.94 2.06.94-2.06 2.06-.94-2.06-.94-.94-2.06-.94 2.06-2.06.94zm-11 1L8.5 8.5l.94-2.06 2.06-.94-2.06-.94L8.5 2.5l-.94 2.06-2.06.94zm10 10l.94 2.06.94-2.06 2.06-.94-2.06-.94-.94-2.06-.94 2.06-2.06.94z\"/><path d=\"M17.41 7.96l-1.37-1.37c-.4-.4-.92-.59-1.43-.59-.52 0-1.04.2-1.43.59L10.3 9.45l-7.72 7.72c-.78.78-.78 2.05 0 2.83L4 21.41c.39.39.9.59 1.41.59.51 0 1.02-.2 1.41-.59l7.78-7.78 2.81-2.81c.8-.78.8-2.07 0-2.86zM5.41 20L4 18.59l7.72-7.72 1.47 1.35L5.41 20z\"/>\n",
              "  </svg>\n",
              "      </button>\n",
              "      \n",
              "  <style>\n",
              "    .colab-df-container {\n",
              "      display:flex;\n",
              "      flex-wrap:wrap;\n",
              "      gap: 12px;\n",
              "    }\n",
              "\n",
              "    .colab-df-convert {\n",
              "      background-color: #E8F0FE;\n",
              "      border: none;\n",
              "      border-radius: 50%;\n",
              "      cursor: pointer;\n",
              "      display: none;\n",
              "      fill: #1967D2;\n",
              "      height: 32px;\n",
              "      padding: 0 0 0 0;\n",
              "      width: 32px;\n",
              "    }\n",
              "\n",
              "    .colab-df-convert:hover {\n",
              "      background-color: #E2EBFA;\n",
              "      box-shadow: 0px 1px 2px rgba(60, 64, 67, 0.3), 0px 1px 3px 1px rgba(60, 64, 67, 0.15);\n",
              "      fill: #174EA6;\n",
              "    }\n",
              "\n",
              "    [theme=dark] .colab-df-convert {\n",
              "      background-color: #3B4455;\n",
              "      fill: #D2E3FC;\n",
              "    }\n",
              "\n",
              "    [theme=dark] .colab-df-convert:hover {\n",
              "      background-color: #434B5C;\n",
              "      box-shadow: 0px 1px 3px 1px rgba(0, 0, 0, 0.15);\n",
              "      filter: drop-shadow(0px 1px 2px rgba(0, 0, 0, 0.3));\n",
              "      fill: #FFFFFF;\n",
              "    }\n",
              "  </style>\n",
              "\n",
              "      <script>\n",
              "        const buttonEl =\n",
              "          document.querySelector('#df-4b922d8d-43e1-42d9-9e36-e9414f902638 button.colab-df-convert');\n",
              "        buttonEl.style.display =\n",
              "          google.colab.kernel.accessAllowed ? 'block' : 'none';\n",
              "\n",
              "        async function convertToInteractive(key) {\n",
              "          const element = document.querySelector('#df-4b922d8d-43e1-42d9-9e36-e9414f902638');\n",
              "          const dataTable =\n",
              "            await google.colab.kernel.invokeFunction('convertToInteractive',\n",
              "                                                     [key], {});\n",
              "          if (!dataTable) return;\n",
              "\n",
              "          const docLinkHtml = 'Like what you see? Visit the ' +\n",
              "            '<a target=\"_blank\" href=https://colab.research.google.com/notebooks/data_table.ipynb>data table notebook</a>'\n",
              "            + ' to learn more about interactive tables.';\n",
              "          element.innerHTML = '';\n",
              "          dataTable['output_type'] = 'display_data';\n",
              "          await google.colab.output.renderOutput(dataTable, element);\n",
              "          const docLink = document.createElement('div');\n",
              "          docLink.innerHTML = docLinkHtml;\n",
              "          element.appendChild(docLink);\n",
              "        }\n",
              "      </script>\n",
              "    </div>\n",
              "  </div>\n",
              "  "
            ]
          },
          "metadata": {},
          "execution_count": 3
        }
      ]
    },
    {
      "cell_type": "markdown",
      "source": [
        "### Mounting ggogle drive"
      ],
      "metadata": {
        "id": "Tua1I4C1MEHq"
      }
    },
    {
      "cell_type": "code",
      "source": [
        "\n",
        "from google.colab import drive\n",
        "drive.mount('/content/drive')"
      ],
      "metadata": {
        "colab": {
          "base_uri": "https://localhost:8080/"
        },
        "id": "cF0KPIW8gKuK",
        "outputId": "dc27cc9c-3ec5-44f3-fea1-7b173ca1fef8"
      },
      "execution_count": null,
      "outputs": [
        {
          "output_type": "stream",
          "name": "stdout",
          "text": [
            "Mounted at /content/drive\n"
          ]
        }
      ]
    },
    {
      "cell_type": "markdown",
      "source": [
        "### Data preprocessing and splitting into X and Y (features and targets)"
      ],
      "metadata": {
        "id": "NIdMsFVjMG4y"
      }
    },
    {
      "cell_type": "code",
      "source": [
        "data = data.drop(\"Unnamed: 0\",1)"
      ],
      "metadata": {
        "_cell_guid": "00971b21-f5f2-f126-92eb-c308290b56a0",
        "colab": {
          "base_uri": "https://localhost:8080/"
        },
        "id": "JVgrY2OJaRMz",
        "outputId": "05f95fe2-8624-4c03-b934-84d90615f450"
      },
      "execution_count": null,
      "outputs": [
        {
          "output_type": "stream",
          "name": "stderr",
          "text": [
            "/usr/local/lib/python3.7/dist-packages/ipykernel_launcher.py:1: FutureWarning: In a future version of pandas all arguments of DataFrame.drop except for the argument 'labels' will be keyword-only\n",
            "  \"\"\"Entry point for launching an IPython kernel.\n"
          ]
        }
      ]
    },
    {
      "cell_type": "code",
      "source": [
        "target = [\"Cancelled\"]\n",
        "leaky_features = [\"Year\", \"Diverted\", \"ArrTime\", \"ActualElapsedTime\", \"AirTime\", \"ActualElapsedTime\", \"AirTime\", \"ArrDelay\", \"TaxiIn\", \"CarrierDelay\", \"WeatherDelay\", \"NASDelay\", \"SecurityDelay\",\"LateAircraftDelay\", \"CancellationCode\"]\n",
        "features = [x for x in data.columns if (x != target[0]) & (x not in leaky_features) & (len(data[x].unique().tolist()) > 1)]"
      ],
      "metadata": {
        "_cell_guid": "e2ce1329-e785-f443-2c19-978cc3f057ec",
        "id": "ONNSmppkaRM0"
      },
      "execution_count": null,
      "outputs": []
    },
    {
      "cell_type": "code",
      "source": [
        "from google.colab import drive\n",
        "drive.mount('/content/drive')"
      ],
      "metadata": {
        "colab": {
          "base_uri": "https://localhost:8080/"
        },
        "id": "uEbDeIkIk0ul",
        "outputId": "82934edf-ba4e-41d7-d0e2-9a095aed6a8d"
      },
      "execution_count": null,
      "outputs": [
        {
          "output_type": "stream",
          "name": "stdout",
          "text": [
            "Drive already mounted at /content/drive; to attempt to forcibly remount, call drive.mount(\"/content/drive\", force_remount=True).\n"
          ]
        }
      ]
    },
    {
      "cell_type": "code",
      "source": [
        "where = data[\"Month\"].isin([10,11,12])\n",
        "data = data[where]"
      ],
      "metadata": {
        "_cell_guid": "e7c3e860-247d-727f-5fc6-0a6661902df8",
        "id": "UmnW4lvEaRM2"
      },
      "execution_count": null,
      "outputs": []
    },
    {
      "cell_type": "markdown",
      "source": [
        "----------"
      ],
      "metadata": {
        "_cell_guid": "5a1cc50e-6128-6f77-fe50-fef99c1ee1af",
        "id": "FHj-hHaGaRM3"
      }
    },
    {
      "cell_type": "code",
      "source": [
        "def get_dtypes(data,features):\n",
        "    output = {}\n",
        "    for f in features:\n",
        "        dtype = str(data[f].dtype)\n",
        "        if dtype not in output.keys(): output[dtype] = [f]\n",
        "        else: output[dtype] += [f]\n",
        "    return output"
      ],
      "metadata": {
        "_cell_guid": "0d5ad92e-182a-28e5-8073-28416fe20c9b",
        "id": "PTUhc9cfaRM5"
      },
      "execution_count": null,
      "outputs": []
    },
    {
      "cell_type": "code",
      "source": [
        "dtypes = get_dtypes(data,features)"
      ],
      "metadata": {
        "_cell_guid": "4758e1da-48a7-4668-817c-33c277ba2eef",
        "id": "AIjCyij2aRM6"
      },
      "execution_count": null,
      "outputs": []
    },
    {
      "cell_type": "code",
      "source": [
        "categories = [\"Month\", \"DayOfWeek\", \"DayofMonth\"]\n",
        "categories += dtypes[\"object\"]\n",
        "numerics = [i for i in dtypes[\"int64\"] if i not in categories]\n",
        "numerics += dtypes[\"float64\"]"
      ],
      "metadata": {
        "_cell_guid": "2bd8d7b8-a346-8e79-ad1e-b08fa1abba5b",
        "id": "UXxUhOO_aRM6"
      },
      "execution_count": null,
      "outputs": []
    },
    {
      "cell_type": "code",
      "source": [
        "data[categories].head()"
      ],
      "metadata": {
        "_cell_guid": "fde78c77-dce5-de93-3424-76344085a449",
        "colab": {
          "base_uri": "https://localhost:8080/",
          "height": 270
        },
        "id": "RbdUjIrXaRM7",
        "outputId": "73dcd448-e422-4419-9151-63fe25ebb3cd"
      },
      "execution_count": null,
      "outputs": [
        {
          "output_type": "execute_result",
          "data": {
            "text/plain": [
              "         Month  DayOfWeek  DayofMonth UniqueCarrier TailNum Origin Dest\n",
              "1524285     10          5           3            WN  N523SW    HOU  DEN\n",
              "1524286     10          5           3            WN  N657SW    HOU  FLL\n",
              "1524287     10          5           3            WN  N607SW    HOU  HRL\n",
              "1524288     10          5           3            WN  N734SA    HOU  HRL\n",
              "1524289     10          5           3            WN  N266WN    HOU  JAN"
            ],
            "text/html": [
              "\n",
              "  <div id=\"df-ee6512a2-040f-443a-884a-b7f8a264e862\">\n",
              "    <div class=\"colab-df-container\">\n",
              "      <div>\n",
              "<style scoped>\n",
              "    .dataframe tbody tr th:only-of-type {\n",
              "        vertical-align: middle;\n",
              "    }\n",
              "\n",
              "    .dataframe tbody tr th {\n",
              "        vertical-align: top;\n",
              "    }\n",
              "\n",
              "    .dataframe thead th {\n",
              "        text-align: right;\n",
              "    }\n",
              "</style>\n",
              "<table border=\"1\" class=\"dataframe\">\n",
              "  <thead>\n",
              "    <tr style=\"text-align: right;\">\n",
              "      <th></th>\n",
              "      <th>Month</th>\n",
              "      <th>DayOfWeek</th>\n",
              "      <th>DayofMonth</th>\n",
              "      <th>UniqueCarrier</th>\n",
              "      <th>TailNum</th>\n",
              "      <th>Origin</th>\n",
              "      <th>Dest</th>\n",
              "    </tr>\n",
              "  </thead>\n",
              "  <tbody>\n",
              "    <tr>\n",
              "      <th>1524285</th>\n",
              "      <td>10</td>\n",
              "      <td>5</td>\n",
              "      <td>3</td>\n",
              "      <td>WN</td>\n",
              "      <td>N523SW</td>\n",
              "      <td>HOU</td>\n",
              "      <td>DEN</td>\n",
              "    </tr>\n",
              "    <tr>\n",
              "      <th>1524286</th>\n",
              "      <td>10</td>\n",
              "      <td>5</td>\n",
              "      <td>3</td>\n",
              "      <td>WN</td>\n",
              "      <td>N657SW</td>\n",
              "      <td>HOU</td>\n",
              "      <td>FLL</td>\n",
              "    </tr>\n",
              "    <tr>\n",
              "      <th>1524287</th>\n",
              "      <td>10</td>\n",
              "      <td>5</td>\n",
              "      <td>3</td>\n",
              "      <td>WN</td>\n",
              "      <td>N607SW</td>\n",
              "      <td>HOU</td>\n",
              "      <td>HRL</td>\n",
              "    </tr>\n",
              "    <tr>\n",
              "      <th>1524288</th>\n",
              "      <td>10</td>\n",
              "      <td>5</td>\n",
              "      <td>3</td>\n",
              "      <td>WN</td>\n",
              "      <td>N734SA</td>\n",
              "      <td>HOU</td>\n",
              "      <td>HRL</td>\n",
              "    </tr>\n",
              "    <tr>\n",
              "      <th>1524289</th>\n",
              "      <td>10</td>\n",
              "      <td>5</td>\n",
              "      <td>3</td>\n",
              "      <td>WN</td>\n",
              "      <td>N266WN</td>\n",
              "      <td>HOU</td>\n",
              "      <td>JAN</td>\n",
              "    </tr>\n",
              "  </tbody>\n",
              "</table>\n",
              "</div>\n",
              "      <button class=\"colab-df-convert\" onclick=\"convertToInteractive('df-ee6512a2-040f-443a-884a-b7f8a264e862')\"\n",
              "              title=\"Convert this dataframe to an interactive table.\"\n",
              "              style=\"display:none;\">\n",
              "        \n",
              "  <svg xmlns=\"http://www.w3.org/2000/svg\" height=\"24px\"viewBox=\"0 0 24 24\"\n",
              "       width=\"24px\">\n",
              "    <path d=\"M0 0h24v24H0V0z\" fill=\"none\"/>\n",
              "    <path d=\"M18.56 5.44l.94 2.06.94-2.06 2.06-.94-2.06-.94-.94-2.06-.94 2.06-2.06.94zm-11 1L8.5 8.5l.94-2.06 2.06-.94-2.06-.94L8.5 2.5l-.94 2.06-2.06.94zm10 10l.94 2.06.94-2.06 2.06-.94-2.06-.94-.94-2.06-.94 2.06-2.06.94z\"/><path d=\"M17.41 7.96l-1.37-1.37c-.4-.4-.92-.59-1.43-.59-.52 0-1.04.2-1.43.59L10.3 9.45l-7.72 7.72c-.78.78-.78 2.05 0 2.83L4 21.41c.39.39.9.59 1.41.59.51 0 1.02-.2 1.41-.59l7.78-7.78 2.81-2.81c.8-.78.8-2.07 0-2.86zM5.41 20L4 18.59l7.72-7.72 1.47 1.35L5.41 20z\"/>\n",
              "  </svg>\n",
              "      </button>\n",
              "      \n",
              "  <style>\n",
              "    .colab-df-container {\n",
              "      display:flex;\n",
              "      flex-wrap:wrap;\n",
              "      gap: 12px;\n",
              "    }\n",
              "\n",
              "    .colab-df-convert {\n",
              "      background-color: #E8F0FE;\n",
              "      border: none;\n",
              "      border-radius: 50%;\n",
              "      cursor: pointer;\n",
              "      display: none;\n",
              "      fill: #1967D2;\n",
              "      height: 32px;\n",
              "      padding: 0 0 0 0;\n",
              "      width: 32px;\n",
              "    }\n",
              "\n",
              "    .colab-df-convert:hover {\n",
              "      background-color: #E2EBFA;\n",
              "      box-shadow: 0px 1px 2px rgba(60, 64, 67, 0.3), 0px 1px 3px 1px rgba(60, 64, 67, 0.15);\n",
              "      fill: #174EA6;\n",
              "    }\n",
              "\n",
              "    [theme=dark] .colab-df-convert {\n",
              "      background-color: #3B4455;\n",
              "      fill: #D2E3FC;\n",
              "    }\n",
              "\n",
              "    [theme=dark] .colab-df-convert:hover {\n",
              "      background-color: #434B5C;\n",
              "      box-shadow: 0px 1px 3px 1px rgba(0, 0, 0, 0.15);\n",
              "      filter: drop-shadow(0px 1px 2px rgba(0, 0, 0, 0.3));\n",
              "      fill: #FFFFFF;\n",
              "    }\n",
              "  </style>\n",
              "\n",
              "      <script>\n",
              "        const buttonEl =\n",
              "          document.querySelector('#df-ee6512a2-040f-443a-884a-b7f8a264e862 button.colab-df-convert');\n",
              "        buttonEl.style.display =\n",
              "          google.colab.kernel.accessAllowed ? 'block' : 'none';\n",
              "\n",
              "        async function convertToInteractive(key) {\n",
              "          const element = document.querySelector('#df-ee6512a2-040f-443a-884a-b7f8a264e862');\n",
              "          const dataTable =\n",
              "            await google.colab.kernel.invokeFunction('convertToInteractive',\n",
              "                                                     [key], {});\n",
              "          if (!dataTable) return;\n",
              "\n",
              "          const docLinkHtml = 'Like what you see? Visit the ' +\n",
              "            '<a target=\"_blank\" href=https://colab.research.google.com/notebooks/data_table.ipynb>data table notebook</a>'\n",
              "            + ' to learn more about interactive tables.';\n",
              "          element.innerHTML = '';\n",
              "          dataTable['output_type'] = 'display_data';\n",
              "          await google.colab.output.renderOutput(dataTable, element);\n",
              "          const docLink = document.createElement('div');\n",
              "          docLink.innerHTML = docLinkHtml;\n",
              "          element.appendChild(docLink);\n",
              "        }\n",
              "      </script>\n",
              "    </div>\n",
              "  </div>\n",
              "  "
            ]
          },
          "metadata": {},
          "execution_count": 10
        }
      ]
    },
    {
      "cell_type": "code",
      "source": [
        "data[numerics].head()"
      ],
      "metadata": {
        "_cell_guid": "f34f76bf-9825-4c07-51f8-ca3e63dcfc58",
        "colab": {
          "base_uri": "https://localhost:8080/",
          "height": 270
        },
        "id": "zExMkp9NaRM8",
        "outputId": "895dcc46-369f-4c39-adda-1aaa2a5fd9b3"
      },
      "execution_count": null,
      "outputs": [
        {
          "output_type": "execute_result",
          "data": {
            "text/plain": [
              "         CRSDepTime  CRSArrTime  FlightNum  Distance  DepTime  CRSElapsedTime  \\\n",
              "1524285        1730        1905       2155       883   1742.0           155.0   \n",
              "1524286        1900        2220         45       957   1906.0           140.0   \n",
              "1524287        1550        1650         33       276   1602.0            60.0   \n",
              "1524288        2120        2215         55       276   2148.0            55.0   \n",
              "1524289        2130        2235       1079       359   2149.0            65.0   \n",
              "\n",
              "         DepDelay  TaxiOut  \n",
              "1524285      12.0     13.0  \n",
              "1524286       6.0      5.0  \n",
              "1524287      12.0      9.0  \n",
              "1524288      28.0      9.0  \n",
              "1524289      19.0      7.0  "
            ],
            "text/html": [
              "\n",
              "  <div id=\"df-96446e9d-b8d6-4b47-86f8-0d8bc597e041\">\n",
              "    <div class=\"colab-df-container\">\n",
              "      <div>\n",
              "<style scoped>\n",
              "    .dataframe tbody tr th:only-of-type {\n",
              "        vertical-align: middle;\n",
              "    }\n",
              "\n",
              "    .dataframe tbody tr th {\n",
              "        vertical-align: top;\n",
              "    }\n",
              "\n",
              "    .dataframe thead th {\n",
              "        text-align: right;\n",
              "    }\n",
              "</style>\n",
              "<table border=\"1\" class=\"dataframe\">\n",
              "  <thead>\n",
              "    <tr style=\"text-align: right;\">\n",
              "      <th></th>\n",
              "      <th>CRSDepTime</th>\n",
              "      <th>CRSArrTime</th>\n",
              "      <th>FlightNum</th>\n",
              "      <th>Distance</th>\n",
              "      <th>DepTime</th>\n",
              "      <th>CRSElapsedTime</th>\n",
              "      <th>DepDelay</th>\n",
              "      <th>TaxiOut</th>\n",
              "    </tr>\n",
              "  </thead>\n",
              "  <tbody>\n",
              "    <tr>\n",
              "      <th>1524285</th>\n",
              "      <td>1730</td>\n",
              "      <td>1905</td>\n",
              "      <td>2155</td>\n",
              "      <td>883</td>\n",
              "      <td>1742.0</td>\n",
              "      <td>155.0</td>\n",
              "      <td>12.0</td>\n",
              "      <td>13.0</td>\n",
              "    </tr>\n",
              "    <tr>\n",
              "      <th>1524286</th>\n",
              "      <td>1900</td>\n",
              "      <td>2220</td>\n",
              "      <td>45</td>\n",
              "      <td>957</td>\n",
              "      <td>1906.0</td>\n",
              "      <td>140.0</td>\n",
              "      <td>6.0</td>\n",
              "      <td>5.0</td>\n",
              "    </tr>\n",
              "    <tr>\n",
              "      <th>1524287</th>\n",
              "      <td>1550</td>\n",
              "      <td>1650</td>\n",
              "      <td>33</td>\n",
              "      <td>276</td>\n",
              "      <td>1602.0</td>\n",
              "      <td>60.0</td>\n",
              "      <td>12.0</td>\n",
              "      <td>9.0</td>\n",
              "    </tr>\n",
              "    <tr>\n",
              "      <th>1524288</th>\n",
              "      <td>2120</td>\n",
              "      <td>2215</td>\n",
              "      <td>55</td>\n",
              "      <td>276</td>\n",
              "      <td>2148.0</td>\n",
              "      <td>55.0</td>\n",
              "      <td>28.0</td>\n",
              "      <td>9.0</td>\n",
              "    </tr>\n",
              "    <tr>\n",
              "      <th>1524289</th>\n",
              "      <td>2130</td>\n",
              "      <td>2235</td>\n",
              "      <td>1079</td>\n",
              "      <td>359</td>\n",
              "      <td>2149.0</td>\n",
              "      <td>65.0</td>\n",
              "      <td>19.0</td>\n",
              "      <td>7.0</td>\n",
              "    </tr>\n",
              "  </tbody>\n",
              "</table>\n",
              "</div>\n",
              "      <button class=\"colab-df-convert\" onclick=\"convertToInteractive('df-96446e9d-b8d6-4b47-86f8-0d8bc597e041')\"\n",
              "              title=\"Convert this dataframe to an interactive table.\"\n",
              "              style=\"display:none;\">\n",
              "        \n",
              "  <svg xmlns=\"http://www.w3.org/2000/svg\" height=\"24px\"viewBox=\"0 0 24 24\"\n",
              "       width=\"24px\">\n",
              "    <path d=\"M0 0h24v24H0V0z\" fill=\"none\"/>\n",
              "    <path d=\"M18.56 5.44l.94 2.06.94-2.06 2.06-.94-2.06-.94-.94-2.06-.94 2.06-2.06.94zm-11 1L8.5 8.5l.94-2.06 2.06-.94-2.06-.94L8.5 2.5l-.94 2.06-2.06.94zm10 10l.94 2.06.94-2.06 2.06-.94-2.06-.94-.94-2.06-.94 2.06-2.06.94z\"/><path d=\"M17.41 7.96l-1.37-1.37c-.4-.4-.92-.59-1.43-.59-.52 0-1.04.2-1.43.59L10.3 9.45l-7.72 7.72c-.78.78-.78 2.05 0 2.83L4 21.41c.39.39.9.59 1.41.59.51 0 1.02-.2 1.41-.59l7.78-7.78 2.81-2.81c.8-.78.8-2.07 0-2.86zM5.41 20L4 18.59l7.72-7.72 1.47 1.35L5.41 20z\"/>\n",
              "  </svg>\n",
              "      </button>\n",
              "      \n",
              "  <style>\n",
              "    .colab-df-container {\n",
              "      display:flex;\n",
              "      flex-wrap:wrap;\n",
              "      gap: 12px;\n",
              "    }\n",
              "\n",
              "    .colab-df-convert {\n",
              "      background-color: #E8F0FE;\n",
              "      border: none;\n",
              "      border-radius: 50%;\n",
              "      cursor: pointer;\n",
              "      display: none;\n",
              "      fill: #1967D2;\n",
              "      height: 32px;\n",
              "      padding: 0 0 0 0;\n",
              "      width: 32px;\n",
              "    }\n",
              "\n",
              "    .colab-df-convert:hover {\n",
              "      background-color: #E2EBFA;\n",
              "      box-shadow: 0px 1px 2px rgba(60, 64, 67, 0.3), 0px 1px 3px 1px rgba(60, 64, 67, 0.15);\n",
              "      fill: #174EA6;\n",
              "    }\n",
              "\n",
              "    [theme=dark] .colab-df-convert {\n",
              "      background-color: #3B4455;\n",
              "      fill: #D2E3FC;\n",
              "    }\n",
              "\n",
              "    [theme=dark] .colab-df-convert:hover {\n",
              "      background-color: #434B5C;\n",
              "      box-shadow: 0px 1px 3px 1px rgba(0, 0, 0, 0.15);\n",
              "      filter: drop-shadow(0px 1px 2px rgba(0, 0, 0, 0.3));\n",
              "      fill: #FFFFFF;\n",
              "    }\n",
              "  </style>\n",
              "\n",
              "      <script>\n",
              "        const buttonEl =\n",
              "          document.querySelector('#df-96446e9d-b8d6-4b47-86f8-0d8bc597e041 button.colab-df-convert');\n",
              "        buttonEl.style.display =\n",
              "          google.colab.kernel.accessAllowed ? 'block' : 'none';\n",
              "\n",
              "        async function convertToInteractive(key) {\n",
              "          const element = document.querySelector('#df-96446e9d-b8d6-4b47-86f8-0d8bc597e041');\n",
              "          const dataTable =\n",
              "            await google.colab.kernel.invokeFunction('convertToInteractive',\n",
              "                                                     [key], {});\n",
              "          if (!dataTable) return;\n",
              "\n",
              "          const docLinkHtml = 'Like what you see? Visit the ' +\n",
              "            '<a target=\"_blank\" href=https://colab.research.google.com/notebooks/data_table.ipynb>data table notebook</a>'\n",
              "            + ' to learn more about interactive tables.';\n",
              "          element.innerHTML = '';\n",
              "          dataTable['output_type'] = 'display_data';\n",
              "          await google.colab.output.renderOutput(dataTable, element);\n",
              "          const docLink = document.createElement('div');\n",
              "          docLink.innerHTML = docLinkHtml;\n",
              "          element.appendChild(docLink);\n",
              "        }\n",
              "      </script>\n",
              "    </div>\n",
              "  </div>\n",
              "  "
            ]
          },
          "metadata": {},
          "execution_count": 11
        }
      ]
    },
    {
      "cell_type": "code",
      "source": [
        "for numeric in numerics: data[numeric] = data[numeric].fillna(0)"
      ],
      "metadata": {
        "_cell_guid": "728f4064-1e63-b085-d838-46434c87f043",
        "id": "3DAu3iXXaRM9"
      },
      "execution_count": null,
      "outputs": []
    },
    {
      "cell_type": "code",
      "source": [
        "categories.remove(\"TailNum\")"
      ],
      "metadata": {
        "_cell_guid": "6f87eac1-0453-b468-dd50-0f50d64b414b",
        "id": "_NdALgtCaRM9"
      },
      "execution_count": null,
      "outputs": []
    },
    {
      "cell_type": "markdown",
      "source": [
        "----------"
      ],
      "metadata": {
        "_cell_guid": "da2d2bd8-0d57-6ae3-55ea-7f57c21220a6",
        "id": "AcVMov2-aRM-"
      }
    },
    {
      "cell_type": "code",
      "source": [
        "cancelled = data[data[target[0]] == 1]\n",
        "not_cancelled = data[data[target[0]] == 0]"
      ],
      "metadata": {
        "_cell_guid": "86a87161-da9f-3330-10f2-02cbb417b478",
        "id": "ffB2tK_jaRM-"
      },
      "execution_count": null,
      "outputs": []
    },
    {
      "cell_type": "code",
      "source": [
        "from pandas import concat\n",
        "\n",
        "data = concat([cancelled, not_cancelled.sample(n=len(cancelled))],0)"
      ],
      "metadata": {
        "_cell_guid": "7ff60d57-4a48-66ea-f24d-27d0b778275c",
        "colab": {
          "base_uri": "https://localhost:8080/"
        },
        "id": "n5emBiUsaRM_",
        "outputId": "4ed1524e-bec6-4ce0-a6e1-dadaab92fb3f"
      },
      "execution_count": null,
      "outputs": [
        {
          "output_type": "stream",
          "name": "stderr",
          "text": [
            "/usr/local/lib/python3.7/dist-packages/ipykernel_launcher.py:3: FutureWarning: In a future version of pandas all arguments of concat except for the argument 'objs' will be keyword-only\n",
            "  This is separate from the ipykernel package so we can avoid doing imports until\n"
          ]
        }
      ]
    },
    {
      "cell_type": "code",
      "source": [
        "from pandas import get_dummies\n",
        "\n",
        "one_hot_encoded = get_dummies(data[categories].fillna(\"Unknown\"))\n",
        "X = concat([one_hot_encoded, data[numerics].fillna(0)],1)\n",
        "y = data[target[0]]"
      ],
      "metadata": {
        "_cell_guid": "d89f6336-13b2-adb9-692b-b442ea90ed44",
        "colab": {
          "base_uri": "https://localhost:8080/"
        },
        "id": "qBBMN6s2aRM_",
        "outputId": "20376a36-872a-42b5-cc74-494828a3a18e"
      },
      "execution_count": null,
      "outputs": [
        {
          "output_type": "stream",
          "name": "stderr",
          "text": [
            "/usr/local/lib/python3.7/dist-packages/ipykernel_launcher.py:4: FutureWarning: In a future version of pandas all arguments of concat except for the argument 'objs' will be keyword-only\n",
            "  after removing the cwd from sys.path.\n"
          ]
        }
      ]
    },
    {
      "cell_type": "code",
      "source": [
        "!pip install sklearn\n"
      ],
      "metadata": {
        "colab": {
          "base_uri": "https://localhost:8080/"
        },
        "id": "CDET0QlQlm4N",
        "outputId": "d85b3e2b-9fc6-4ddb-c8a5-9f53c6d85c93"
      },
      "execution_count": null,
      "outputs": [
        {
          "output_type": "stream",
          "name": "stdout",
          "text": [
            "Looking in indexes: https://pypi.org/simple, https://us-python.pkg.dev/colab-wheels/public/simple/\n",
            "Requirement already satisfied: sklearn in /usr/local/lib/python3.7/dist-packages (0.0)\n",
            "Requirement already satisfied: scikit-learn in /usr/local/lib/python3.7/dist-packages (from sklearn) (1.0.2)\n",
            "Requirement already satisfied: numpy>=1.14.6 in /usr/local/lib/python3.7/dist-packages (from scikit-learn->sklearn) (1.21.6)\n",
            "Requirement already satisfied: threadpoolctl>=2.0.0 in /usr/local/lib/python3.7/dist-packages (from scikit-learn->sklearn) (3.1.0)\n",
            "Requirement already satisfied: scipy>=1.1.0 in /usr/local/lib/python3.7/dist-packages (from scikit-learn->sklearn) (1.7.3)\n",
            "Requirement already satisfied: joblib>=0.11 in /usr/local/lib/python3.7/dist-packages (from scikit-learn->sklearn) (1.1.0)\n"
          ]
        }
      ]
    },
    {
      "cell_type": "markdown",
      "source": [
        "### Applying machine learning algorithms and thier respective confusion matrix"
      ],
      "metadata": {
        "id": "5FVNk78GMWZ6"
      }
    },
    {
      "cell_type": "code",
      "source": [
        "from sklearn.ensemble import RandomForestClassifier \n",
        "rfc = RandomForestClassifier(max_depth = 2, random_state = 0)\n",
        "rfc.fit(X,y)\n",
        "print(\"Accuracy:\" , rfc.score(X, y))\n",
        "\n",
        "y_pred = rfc.predict(X)\n",
        "y_true = y\n",
        "from sklearn.metrics import confusion_matrix\n",
        "cm = confusion_matrix(y_true, y_pred)\n",
        "import seaborn as sns\n",
        "import matplotlib.pyplot as plt \n",
        "f, ax = plt.subplots(figsize = (5, 5))\n",
        "sns.heatmap(cm, annot = True, linewidths = 0.5, linecolor = \"Black\", fmt = \".0f\", ax = ax) \n",
        "plt.show()\n",
        "\n",
        "from sklearn.metrics import classification_report\n",
        "print(classification_report(y_true, y_pred))"
      ],
      "metadata": {
        "colab": {
          "base_uri": "https://localhost:8080/",
          "height": 477
        },
        "id": "aiWrerXMGJ_6",
        "outputId": "f2c50cb0-0733-4d32-b73a-28c25d16e129"
      },
      "execution_count": null,
      "outputs": [
        {
          "output_type": "stream",
          "name": "stdout",
          "text": [
            "Accuracy: 0.8420221169036335\n"
          ]
        },
        {
          "output_type": "display_data",
          "data": {
            "text/plain": [
              "<Figure size 360x360 with 2 Axes>"
            ],
            "image/png": "[encoded data removed]"
          },
          "metadata": {
            "needs_background": "light"
          }
        },
        {
          "output_type": "stream",
          "name": "stdout",
          "text": [
            "              precision    recall  f1-score   support\n",
            "\n",
            "           0       0.84      0.84      0.84       633\n",
            "           1       0.84      0.84      0.84       633\n",
            "\n",
            "    accuracy                           0.84      1266\n",
            "   macro avg       0.84      0.84      0.84      1266\n",
            "weighted avg       0.84      0.84      0.84      1266\n",
            "\n"
          ]
        }
      ]
    },
    {
      "cell_type": "code",
      "source": [
        "from sklearn.ensemble import AdaBoostClassifier\n",
        "ada = AdaBoostClassifier(n_estimators = 100, random_state = 0)\n",
        "ada.fit(X, y)\n",
        "print(\"Accuracy:\", ada.score(X, y))\n",
        "\n",
        "y_pred = ada.predict(X)\n",
        "y_true = y\n",
        "from sklearn.metrics import confusion_matrix \n",
        "cm = confusion_matrix(y_true, y_pred)\n",
        "import seaborn as sns\n",
        "import matplotlib.pyplot as plt\n",
        "f, ax = plt.subplots(figsize = (5, 5))\n",
        "sns.heatmap(cm, annot = True, linewidths = 0.5, linecolor = \"Black\", fmt = \".0f\", ax = ax)\n",
        "plt.show()\n",
        "\n",
        "from sklearn.metrics import classification_report\n",
        "print(classification_report(y_true, y_pred))"
      ],
      "metadata": {
        "colab": {
          "base_uri": "https://localhost:8080/",
          "height": 477
        },
        "id": "u1Ofyx8cSOKS",
        "outputId": "7dcf7bb6-25e3-49f6-e5bf-ca8a12b2ef79"
      },
      "execution_count": null,
      "outputs": [
        {
          "output_type": "stream",
          "name": "stdout",
          "text": [
            "Accuracy: 0.9423380726698263\n"
          ]
        },
        {
          "output_type": "display_data",
          "data": {
            "text/plain": [
              "<Figure size 360x360 with 2 Axes>"
            ],
            "image/png": "[encoded data removed]"
          },
          "metadata": {
            "needs_background": "light"
          }
        },
        {
          "output_type": "stream",
          "name": "stdout",
          "text": [
            "              precision    recall  f1-score   support\n",
            "\n",
            "           0       0.92      0.97      0.94       633\n",
            "           1       0.97      0.91      0.94       633\n",
            "\n",
            "    accuracy                           0.94      1266\n",
            "   macro avg       0.94      0.94      0.94      1266\n",
            "weighted avg       0.94      0.94      0.94      1266\n",
            "\n"
          ]
        }
      ]
    },
    {
      "cell_type": "code",
      "source": [
        "from sklearn.ensemble import GradientBoostingClassifier\n",
        "gbc = GradientBoostingClassifier(n_estimators = 100, learning_rate = 1.0, max_depth = 1, random_state = 0)\n",
        "gbc.fit(X, y)\n",
        "print(\"Accuracy:\" , gbc.score(X, y))\n",
        "\n",
        "y_pred = gbc.predict(X)\n",
        "y_true = y\n",
        "from sklearn.metrics import confusion_matrix\n",
        "cm = confusion_matrix(y_true, y_pred)\n",
        "import seaborn as sns \n",
        "import matplotlib.pyplot as plt \n",
        "f, ax = plt.subplots(figsize = (5, 5))\n",
        "sns.heatmap(cm, annot = True, linewidths = 0.5, linecolor = \"Black\", fmt = \".0f\", ax = ax)\n",
        "plt.show()\n",
        "\n",
        "from sklearn.metrics import classification_report \n",
        "print(classification_report(y_true, y_pred))"
      ],
      "metadata": {
        "colab": {
          "base_uri": "https://localhost:8080/",
          "height": 477
        },
        "id": "_0XvrGo4T78H",
        "outputId": "7d4d7729-7ea0-43b3-b347-652bb3760b70"
      },
      "execution_count": null,
      "outputs": [
        {
          "output_type": "stream",
          "name": "stdout",
          "text": [
            "Accuracy: 0.9470774091627172\n"
          ]
        },
        {
          "output_type": "display_data",
          "data": {
            "text/plain": [
              "<Figure size 360x360 with 2 Axes>"
            ],
            "image/png": "[encoded data removed]"
          },
          "metadata": {
            "needs_background": "light"
          }
        },
        {
          "output_type": "stream",
          "name": "stdout",
          "text": [
            "              precision    recall  f1-score   support\n",
            "\n",
            "           0       0.93      0.97      0.95       633\n",
            "           1       0.97      0.93      0.95       633\n",
            "\n",
            "    accuracy                           0.95      1266\n",
            "   macro avg       0.95      0.95      0.95      1266\n",
            "weighted avg       0.95      0.95      0.95      1266\n",
            "\n"
          ]
        }
      ]
    },
    {
      "cell_type": "code",
      "source": [
        "from sklearn.ensemble import ExtraTreesClassifier\n",
        "etc = ExtraTreesClassifier(n_estimators = 100, random_state = 0)\n",
        "etc.fit(X, y)\n",
        "print(\"Accuracy:\" , etc.score(X, y))\n",
        "\n",
        "y_pred = etc.predict(X)\n",
        "y_true = y\n",
        "from sklearn.metrics import confusion_matrix\n",
        "cm = confusion_matrix(y_true, y_pred)\n",
        "import seaborn as sns \n",
        "import matplotlib.pyplot as plt \n",
        "f, ax = plt.subplots(figsize = (5, 5))\n",
        "sns.heatmap(cm, annot = True, linewidths = 0.5, linecolor = \"Black\", fmt = \".0f\", ax = ax)\n",
        "plt.show()\n",
        "\n",
        "from sklearn.metrics import classification_report \n",
        "print(classification_report(y_true, y_pred))"
      ],
      "metadata": {
        "id": "fBh83ta0Vb6k",
        "colab": {
          "base_uri": "https://localhost:8080/",
          "height": 477
        },
        "outputId": "5133c21e-e74e-4b66-ccb0-d72413c7c475"
      },
      "execution_count": null,
      "outputs": [
        {
          "output_type": "stream",
          "name": "stdout",
          "text": [
            "Accuracy: 1.0\n"
          ]
        },
        {
          "output_type": "display_data",
          "data": {
            "text/plain": [
              "<Figure size 360x360 with 2 Axes>"
            ],
            "image/png": "[encoded data removed]"
          },
          "metadata": {
            "needs_background": "light"
          }
        },
        {
          "output_type": "stream",
          "name": "stdout",
          "text": [
            "              precision    recall  f1-score   support\n",
            "\n",
            "           0       1.00      1.00      1.00       633\n",
            "           1       1.00      1.00      1.00       633\n",
            "\n",
            "    accuracy                           1.00      1266\n",
            "   macro avg       1.00      1.00      1.00      1266\n",
            "weighted avg       1.00      1.00      1.00      1266\n",
            "\n"
          ]
        }
      ]
    },
    {
      "cell_type": "code",
      "source": [
        "!pip install xgboost==0.6a2"
      ],
      "metadata": {
        "colab": {
          "base_uri": "https://localhost:8080/"
        },
        "id": "ViqfMEcr3Te0",
        "outputId": "862fe385-fe93-4c68-9c42-41532be01bfe"
      },
      "execution_count": null,
      "outputs": [
        {
          "output_type": "stream",
          "name": "stdout",
          "text": [
            "Looking in indexes: https://pypi.org/simple, https://us-python.pkg.dev/colab-wheels/public/simple/\n",
            "Collecting xgboost==0.6a2\n",
            "  Downloading xgboost-0.6a2.tar.gz (1.2 MB)\n",
            "\u001b[K     |████████████████████████████████| 1.2 MB 5.2 MB/s \n",
            "\u001b[33mWARNING: Discarding https://files.pythonhosted.org/packages/34/85/456a1a8c762f646671043e446a59efbce02b5f408f522c4ef8793e860c5e/xgboost-0.6a2.tar.gz#sha256=ebc4e2bf8c8266212e342ff8ec4f6ae469e8c41a05d099b6778de8424ce32563 (from https://pypi.org/simple/xgboost/). Command errored out with exit status 1: python setup.py egg_info Check the logs for full command output.\u001b[0m\n",
            "\u001b[31mERROR: Could not find a version that satisfies the requirement xgboost==0.6a2 (from versions: 0.4a12, 0.4a13, 0.4a14, 0.4a15, 0.4a18, 0.4a19, 0.4a20, 0.4a21, 0.4a22, 0.4a23, 0.4a24, 0.4a25, 0.4a26, 0.4a27, 0.4a28, 0.4a29, 0.4a30, 0.6a1, 0.6a2, 0.7.post3, 0.7.post4, 0.71, 0.72.1, 0.80, 0.81, 0.82, 0.90, 1.0.0rc1, 1.0.0rc2, 1.0.0, 1.0.1, 1.0.2, 1.1.0rc1, 1.1.0rc2, 1.1.0, 1.1.1, 1.2.0rc1, 1.2.0rc2, 1.2.0, 1.2.1rc1, 1.2.1, 1.3.0rc1, 1.3.0.post0, 1.3.1, 1.3.2, 1.3.3, 1.4.0rc1, 1.4.0, 1.4.1, 1.4.2, 1.5.0rc1, 1.5.0, 1.5.1, 1.5.2, 1.6.0rc1, 1.6.0, 1.6.1)\u001b[0m\n",
            "\u001b[31mERROR: No matching distribution found for xgboost==0.6a2\u001b[0m\n",
            "\u001b[?25h"
          ]
        }
      ]
    },
    {
      "cell_type": "code",
      "source": [
        "from xgboost import XGBClassifier \n",
        "xgb = XGBClassifier(n_estimators = 100, random_state = 0)\n",
        "xgb.fit(X, y)\n",
        "print(\"Accuracy:\" , xgb.score(X, y))\n",
        "\n",
        "y_pred = xgb.predict(X)\n",
        "y_true = y\n",
        "from sklearn.metrics import confusion_matrix\n",
        "cm = confusion_matrix(y_true, y_pred)\n",
        "import seaborn as sns \n",
        "import matplotlib.pyplot as plt \n",
        "f, ax = plt.subplots(figsize = (5, 5))\n",
        "sns.heatmap(cm, annot = True, linewidths = 0.5, linecolor = \"Black\", fmt = \".0f\", ax = ax)\n",
        "plt.show()\n",
        "\n",
        "from sklearn.metrics import classification_report\n",
        "print(classification_report(y_true, y_pred))"
      ],
      "metadata": {
        "colab": {
          "base_uri": "https://localhost:8080/",
          "height": 477
        },
        "id": "MDVJGlQt01vY",
        "outputId": "59424cc3-ec70-4e0d-c050-7b623190214d"
      },
      "execution_count": null,
      "outputs": [
        {
          "output_type": "stream",
          "name": "stdout",
          "text": [
            "Accuracy: 0.9265402843601895\n"
          ]
        },
        {
          "output_type": "display_data",
          "data": {
            "text/plain": [
              "<Figure size 360x360 with 2 Axes>"
            ],
            "image/png": "[encoded data removed]"
          },
          "metadata": {
            "needs_background": "light"
          }
        },
        {
          "output_type": "stream",
          "name": "stdout",
          "text": [
            "              precision    recall  f1-score   support\n",
            "\n",
            "           0       0.89      0.98      0.93       633\n",
            "           1       0.97      0.88      0.92       633\n",
            "\n",
            "    accuracy                           0.93      1266\n",
            "   macro avg       0.93      0.93      0.93      1266\n",
            "weighted avg       0.93      0.93      0.93      1266\n",
            "\n"
          ]
        }
      ]
    }
  ]
}